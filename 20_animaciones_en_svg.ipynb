{
 "cells": [
  {
   "cell_type": "markdown",
   "metadata": {},
   "source": [
    "[![img/pythonista.png](img/pythonista.png)](https://www.pythonista.io)"
   ]
  },
  {
   "cell_type": "markdown",
   "metadata": {},
   "source": [
    "# Animaciones en *SVG*."
   ]
  },
  {
   "cell_type": "markdown",
   "metadata": {},
   "source": [
    "*SVG* Cuenta con diversas etiquetas de animación. Estas etiquetas se pueden configurar mediante diversdo atributos que definirán tanto duración y repetición de las animaciones, como valores específicos de otros atributos."
   ]
  },
  {
   "cell_type": "markdown",
   "metadata": {},
   "source": [
    "## Atributos."
   ]
  },
  {
   "cell_type": "markdown",
   "metadata": {},
   "source": [
    "### Atributos de tiempo.\n",
    "\n",
    "* [```begin```](https://developer.mozilla.org/en-US/docs/Web/SVG/Attribute/begin)\n",
    "* [```dur```](https://developer.mozilla.org/en-US/docs/Web/SVG/Attribute/dur) \n",
    "* [```end```](https://developer.mozilla.org/en-US/docs/Web/SVG/Attribute/end)\n",
    "* [```min```](https://developer.mozilla.org/en-US/docs/Web/SVG/Attribute/min)\n",
    "* [```max```](https://developer.mozilla.org/en-US/docs/Web/SVG/Attribute/max)\n",
    "* [```restart```](https://developer.mozilla.org/en-US/docs/Web/SVG/Attribute/restart) \n",
    "* [```repeatCount```](https://developer.mozilla.org/en-US/docs/Web/SVG/Attribute/repeatCount) \n",
    "* [```repeatDur```](https://developer.mozilla.org/en-US/docs/Web/SVG/Attribute/repeatDur)\n",
    "* [```fill```](https://developer.mozilla.org/en-US/docs/Web/SVG/Attribute/fill)"
   ]
  },
  {
   "cell_type": "markdown",
   "metadata": {},
   "source": [
    "### Atributos de valor.\n",
    "\n",
    "* [```from```](https://developer.mozilla.org/en-US/docs/Web/SVG/Attribute/from)\n",
    "* [```to```](https://developer.mozilla.org/en-US/docs/Web/SVG/Attribute/to)\n",
    "* [```values```](https://developer.mozilla.org/en-US/docs/Web/SVG/Attribute/values)\n",
    "* [```by```](https://developer.mozilla.org/en-US/docs/Web/SVG/Attribute/by)"
   ]
  },
  {
   "cell_type": "markdown",
   "metadata": {},
   "source": [
    "## La etiqueta ```<animate>```."
   ]
  },
  {
   "cell_type": "markdown",
   "metadata": {},
   "source": [
    "Las animaciones con ```<animate>``` permiten animar en función de los valores de un atributo. \n",
    "\n",
    "```\n",
    "<(objeto)>\n",
    "   <animate attributeName=\"(atributo)\" ...>\n",
    "\n",
    "</objeto>\n",
    "```"
   ]
  },
  {
   "cell_type": "markdown",
   "metadata": {},
   "source": [
    "**Ejemplo:**"
   ]
  },
  {
   "cell_type": "markdown",
   "metadata": {},
   "source": [
    "* La siguiente celda creará la animación de un círculo en función de su radio."
   ]
  },
  {
   "cell_type": "code",
   "execution_count": null,
   "metadata": {
    "scrolled": true
   },
   "outputs": [],
   "source": [
    "%%svg\n",
    "<svg width=\"500\" height=\"100\">\n",
    "\n",
    "    <circle cy=\"50\" \n",
    "        cx=\"50\" \n",
    "        fill=\"gray\" \n",
    "        stroke=\"skyblue\">\n",
    "        \n",
    "        <animate \n",
    "            attributeName=\"r\" \n",
    "            from=\"5\" \n",
    "            to=\"30\" \n",
    "            fill=\"freeze\" \n",
    "            dur=\"5s\"/>\n",
    "            \n",
    "    </circle>\n",
    "</svg>"
   ]
  },
  {
   "cell_type": "markdown",
   "metadata": {},
   "source": [
    "* La siguiente celda creará la animación de un círculo en función de su radio y su posición en el eje de las *x*."
   ]
  },
  {
   "cell_type": "code",
   "execution_count": null,
   "metadata": {},
   "outputs": [],
   "source": [
    "%%svg\n",
    "<svg width=\"500\" height=\"100\">\n",
    "\n",
    "    <circle cy=\"50\"  fill=\"gray\" stroke=\"skyblue\">\n",
    "        \n",
    "        <animate \n",
    "            attributeName=\"cx\" \n",
    "            from=\"0\" \n",
    "            to=\"500\" \n",
    "            fill=\"freeze\" \n",
    "            dur=\"15s\"/>\n",
    "        \n",
    "        <animate \n",
    "            attributeName=\"r\" \n",
    "            values=\"5;30;5;25;2\" \n",
    "            fill=\"freeze\" \n",
    "            dur=\"10s\"/>\n",
    "            \n",
    "    </circle>\n",
    "</svg>"
   ]
  },
  {
   "cell_type": "markdown",
   "metadata": {},
   "source": [
    "## La etiqueta ```<animateMotion>```."
   ]
  },
  {
   "cell_type": "markdown",
   "metadata": {},
   "source": [
    "La etiqueta ```<animateMotion>``` permite desplazar a un objeto a lo largo de un trazo.\n",
    "\n",
    "```\n",
    "<(objeto)>\n",
    "   <animateMotion path=\"(trazo)\" ...>\n",
    "\n",
    "</objeto>\n",
    "```\n",
    "\n",
    "https://developer.mozilla.org/en-US/docs/Web/SVG/Element/animateMotion"
   ]
  },
  {
   "cell_type": "markdown",
   "metadata": {},
   "source": [
    "* La siguiente celda desplazará a un círculo dentro de un trazo cerrado  y continuo."
   ]
  },
  {
   "cell_type": "code",
   "execution_count": null,
   "metadata": {},
   "outputs": [],
   "source": [
    "%%svg\n",
    "<svg width=\"500\" height=\"100\">\n",
    "\n",
    "    <path fill=\"none\" \n",
    "         stroke=\"lightgrey\"\n",
    "         d=\"M20,50 C20,-50 180,150 180,50 C180-50 20,150 20,50 z\" />\n",
    "\n",
    "    \n",
    "    <circle r=\"5\" fill=\"red\">\n",
    "        <animateMotion \n",
    "            dur=\"10s\" \n",
    "            repeatCount=\"indefinite\"\n",
    "            path=\"M20,50 C20,-50 180,150 180,50 C180-50 20,150 20,50 z\" />\n",
    "    </circle>\n",
    "</svg>"
   ]
  },
  {
   "cell_type": "markdown",
   "metadata": {},
   "source": [
    "## La etiqueta ```<animateTransform>```."
   ]
  },
  {
   "cell_type": "markdown",
   "metadata": {},
   "source": [
    "La etiqueta ```<animateTransform>``` permite animar usando el atributo ```transform```.\n",
    "\n",
    "```\n",
    "<(objeto)>\n",
    "   <animateTransform attributeType=\"XML\" type=\"(tipo de funcion)\" ...>\n",
    "\n",
    "</objeto>\n",
    "```\n",
    "\n",
    "https://developer.mozilla.org/en-US/docs/Web/SVG/Element/animateTransform"
   ]
  },
  {
   "cell_type": "markdown",
   "metadata": {},
   "source": [
    "**Ejemplo:**"
   ]
  },
  {
   "cell_type": "markdown",
   "metadata": {},
   "source": [
    "* La siguente celda animará la rotación del trazo de una flecha."
   ]
  },
  {
   "cell_type": "code",
   "execution_count": null,
   "metadata": {
    "scrolled": true
   },
   "outputs": [],
   "source": [
    "%%svg\n",
    "<svg width=\"100\" height=\"50\">\n",
    "<g id=\"grupo-1\">\n",
    "    <path d=\"M 25 0 \n",
    "        L 10 20 \n",
    "        20 20 \n",
    "        20 35 \n",
    "        30 35 \n",
    "        30 20\n",
    "        40 20 Z\" \n",
    "        fill=\"gray\"\n",
    "        stroke=\"skyblue\"/>\n",
    "    \n",
    "    <circle cx=\"25\" cy=\"35\" r=\"5\" fill=\"gray\" />\n",
    "        \n",
    "        \n",
    "    <animateTransform attributeName=\"transform\"\n",
    "        attributeType=\"XML\"\n",
    "        type=\"rotate\"\n",
    "        from=\"0 0 0\"\n",
    "        to=\"90, 25, 35\"\n",
    "        dur=\"5s\"\n",
    "        repeatCount=\"indefinite\"/>\n",
    "</g>\n",
    "</svg>"
   ]
  },
  {
   "cell_type": "markdown",
   "metadata": {},
   "source": [
    "* La siguiente celda animará varias transofrmaciones de una imagen."
   ]
  },
  {
   "cell_type": "code",
   "execution_count": null,
   "metadata": {},
   "outputs": [],
   "source": [
    "%%svg\n",
    "<svg width=\"500\" height=\"200\">\n",
    "    <g>\n",
    "        <animateTransform \n",
    "            attributeName=\"transform\" \n",
    "            attributeType=\"XML\"\n",
    "            type=\"rotate\" \n",
    "            values=\"2 100 100;-45 100 100;0 100 100;-45 100 100;90 100 100\" \n",
    "            repeatCount=\"indefinite\" \n",
    "            dur=\"10s\" \n",
    "            fill=\"freeze\" />\n",
    "\n",
    "        <animateTransform \n",
    "            attributeName=\"transform\" \n",
    "            attributeType=\"XML\"\n",
    "            type=\"scale\" \n",
    "            values=\"1;4;1\" \n",
    "            repeatCount=\"indefinite\" \n",
    "            dur=\"5s\" \n",
    "            fill=\"freeze\"\n",
    "             additive=\"sum\"\n",
    "            />\n",
    "\n",
    "        <animateTransform \n",
    "            attributeName=\"transform\" \n",
    "            attributeType=\"XML\"\n",
    "            type=\"translate\" \n",
    "            values=\"0 0;100 50;0 0\" \n",
    "            repeatCount=\"indefinite\" \n",
    "            dur=\"10s\" \n",
    "            fill=\"freeze\"\n",
    "             additive=\"sum\"\n",
    "           />\n",
    "\n",
    "        <image x=\"0\" y=\"0\" width=\"50\" height=\"50\"  href=\"img/pythonista.png\" />\n",
    "    </g>\n",
    "</svg>"
   ]
  },
  {
   "cell_type": "markdown",
   "metadata": {},
   "source": [
    "<p style=\"text-align: center\"><a rel=\"license\" href=\"http://creativecommons.org/licenses/by/4.0/\"><img alt=\"Licencia Creative Commons\" style=\"border-width:0\" src=\"https://i.creativecommons.org/l/by/4.0/80x15.png\" /></a><br />Esta obra está bajo una <a rel=\"license\" href=\"http://creativecommons.org/licenses/by/4.0/\">Licencia Creative Commons Atribución 4.0 Internacional</a>.</p>\n",
    "<p style=\"text-align: center\">&copy; José Luis Chiquete Valdivieso. 2022.</p>"
   ]
  }
 ],
 "metadata": {
  "kernelspec": {
   "display_name": "Python 3 (ipykernel)",
   "language": "python",
   "name": "python3"
  },
  "language_info": {
   "codemirror_mode": {
    "name": "ipython",
    "version": 3
   },
   "file_extension": ".py",
   "mimetype": "text/x-python",
   "name": "python",
   "nbconvert_exporter": "python",
   "pygments_lexer": "ipython3",
   "version": "3.10.4"
  }
 },
 "nbformat": 4,
 "nbformat_minor": 2
}
