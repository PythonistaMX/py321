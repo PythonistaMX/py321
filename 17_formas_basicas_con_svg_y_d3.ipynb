{
 "cells": [
  {
   "cell_type": "markdown",
   "metadata": {},
   "source": [
    "[![img/pythonista.png](img/pythonista.png)](https://www.pythonista.io)"
   ]
  },
  {
   "cell_type": "markdown",
   "metadata": {},
   "source": [
    "# Formas básicas con *SVG* y *D3.js*."
   ]
  },
  {
   "cell_type": "markdown",
   "metadata": {},
   "source": [
    "## Inicialización de *D3.js* en la notebook.\n",
    "\n",
    "La siguiente celda permite habilitar *D3.js* dentro de esta notebook y debe de ser ejecutada siempre antes que cualquier otra celda. \n",
    "\n",
    "**Advertencia:**\n",
    "En caso de no inicializar *D3.js* como primera acción, es probable que el código de las siguientes celdas no funcione aún cuando se haga una inicialización posteriormente. En ese caso, es necesario limpiar todas las salidas de las celdas, guardar y recargar la *notebook*."
   ]
  },
  {
   "cell_type": "code",
   "execution_count": null,
   "metadata": {},
   "outputs": [],
   "source": [
    "%%javascript\n",
    "\n",
    "require.config({\n",
    "        paths: {\n",
    "            d3: 'https://d3js.org/d3.v7'\n",
    "        }\n",
    "    });"
   ]
  },
  {
   "cell_type": "markdown",
   "metadata": {},
   "source": [
    "## Elementos *SVG* con *D3.js*."
   ]
  },
  {
   "cell_type": "markdown",
   "metadata": {},
   "source": [
    "*D3.js* tiene la capacidad de interactuar con objetos de *DOM*, objetos *SVG* e incluso con *Canvas*.\n",
    "\n",
    "*D3.js* puede tener control de las formas básicas de *SVG* e incluso las puede extender con elementos nuevos.\n",
    "\n",
    "En este capítulo se explorarán formas básicas a partir de la dcoumentación localizada en:\n",
    "\n",
    "https://github.com/d3/d3-shape\n",
    "\n",
    "El módulo ```d3-shape``` permite trazar elementos y formas a partir de *SVG*."
   ]
  },
  {
   "cell_type": "markdown",
   "metadata": {},
   "source": [
    "*D3.js* permite ejecutar el método ```d3.append()``` con etiquetas de *SVG*, permitiendo modificarlas usando ```d3.attr()``` como modo de añadir atributos."
   ]
  },
  {
   "cell_type": "markdown",
   "metadata": {},
   "source": [
    "* Las siguientes celda realizarán un trazo de una polilínea con atributos básicos de *SVG*.\n",
    "   * Se seleccionará el elemento ```<div>``` con ```id=\"cont|enedor-1\"```.\n",
    "   * Se creará el contenedor *SVG*, lo que equivale a la etiqueta ```<svg>``` y se le añadirán los atributos ```width``` y ```length```.\n",
    "   * Se añadirá al contenedor *SVG* un elemento ```<path>``` con sus atributos correspondientes. "
   ]
  },
  {
   "cell_type": "code",
   "execution_count": null,
   "metadata": {},
   "outputs": [],
   "source": [
    "%%html\n",
    "<svg width=\"100\" height=\"100\">\n",
    "    <path d=\"M 50 50 L 0 0 L 0 100\" fill=\"skyblue\" stroke=\"red\">\n",
    "</svg>"
   ]
  },
  {
   "cell_type": "code",
   "execution_count": null,
   "metadata": {},
   "outputs": [],
   "source": [
    "%%html\n",
    "<div id=\"contenedor-1\"></div>"
   ]
  },
  {
   "cell_type": "code",
   "execution_count": null,
   "metadata": {},
   "outputs": [],
   "source": [
    "%%javascript\n",
    "\n",
    "require([\"d3\"], function(d3) {\n",
    "    d3.select(\"#contenedor-1\").\n",
    "    append(\"svg\").\n",
    "    attr(\"width\", \"100\").\n",
    "    attr(\"height\", \"100\").\n",
    "    append(\"path\").\n",
    "    attr(\"d\", \"M 50 50 L 0 0 L 0 100\").\n",
    "    attr(\"fill\", \"skyblue\").\n",
    "    attr(\"stroke\", \"red\")\n",
    "    })"
   ]
  },
  {
   "cell_type": "markdown",
   "metadata": {},
   "source": [
    "* Las siguientes celdas seleccionarán un elemento ```<svg>``` con ```id=svg-1``` el cual será un objeto ```d3```llamado ```svg``` al que se le añadirá una polilínea."
   ]
  },
  {
   "cell_type": "code",
   "execution_count": null,
   "metadata": {
    "scrolled": false
   },
   "outputs": [],
   "source": [
    "%%html\n",
    "<svg width=\"100px\" \"height=100px\" id=\"svg-1\"></svg>"
   ]
  },
  {
   "cell_type": "code",
   "execution_count": null,
   "metadata": {},
   "outputs": [],
   "source": [
    "%%javascript\n",
    "\n",
    "require([\"d3\"], function(d3) {\n",
    "    \n",
    "    let svg = d3.select(\"#svg-1\").\n",
    "    style(\"background-color\", \"yellow\");\n",
    "    \n",
    "    svg.\n",
    "    append(\"path\").\n",
    "    attr(\"d\", \"M 50 50 L 0 0 L 0 100\").\n",
    "    attr(\"fill\", \"skyblue\").\n",
    "    attr(\"stroke\", \"red\");\n",
    "    })"
   ]
  },
  {
   "cell_type": "markdown",
   "metadata": {},
   "source": [
    "* Las siguientes celdas crearán el histograma basado en el archivo ```data\\poblacion.json```, pero ajustado a la gramática de *D3.js*."
   ]
  },
  {
   "cell_type": "code",
   "execution_count": null,
   "metadata": {},
   "outputs": [],
   "source": [
    "%%html\n",
    "<svg id=\"svg-2\" width=400 height=250>\n",
    "    <g>\n",
    "    </g>\n",
    "</svg>"
   ]
  },
  {
   "cell_type": "code",
   "execution_count": null,
   "metadata": {},
   "outputs": [],
   "source": [
    "%%javascript\n",
    "require([\"d3\"], function(d3){\n",
    "    d3.json(\"data/poblacion.json\").then(function(datos){\n",
    "        \n",
    "        /* Es necesario crear una nueva estructura de datos\n",
    "        convirtiendo al objeto en un arreglo e incluyendo en \n",
    "        el arreglo además del año y la población, la posición en y. */\n",
    "        \n",
    "        let y_pos=0; \n",
    "        let data=[]; \n",
    "        \n",
    "        for (let dato in datos){\n",
    "            let obj = {\"anio\":dato, \n",
    "                      \"poblacion\": datos[dato] / 1000000,\n",
    "                      \"y\": y_pos\n",
    "                      };\n",
    "            data.push(obj);\n",
    "            y_pos += 15;\n",
    "        }\n",
    "        \n",
    "        d3.select(\"#svg-2 g\").\n",
    "        attr('id', \"grupo-2\").\n",
    "        selectAll(\"rect\").\n",
    "        data(data).\n",
    "        enter().\n",
    "        append(\"rect\").\n",
    "        attr(\"x\", 0).\n",
    "        attr(\"y\", d => d.y).\n",
    "        attr(\"height\", 10).\n",
    "        attr(\"width\", d => d.poblacion).\n",
    "        attr(\"fill\", \"skyblue\").\n",
    "        attr(\"stroke\", \"black\")\n",
    "        \n",
    "        d3.select(\"#grupo-2\").\n",
    "        selectAll(\"text\").\n",
    "        data(data).\n",
    "        enter().\n",
    "        append(\"text\").\n",
    "        text(d => d.anio).\n",
    "        attr(\"x\", d => d.poblacion + 5).\n",
    "        attr(\"y\", d => d.y + 8).\n",
    "        attr(\"stroke\", \"black\").\n",
    "        attr(\"font-size\", \"70%\")\n",
    "    })\n",
    "});"
   ]
  },
  {
   "cell_type": "markdown",
   "metadata": {},
   "source": [
    "## Introducción a líneas."
   ]
  },
  {
   "cell_type": "markdown",
   "metadata": {},
   "source": [
    "https://github.com/d3/d3-shape#lines"
   ]
  },
  {
   "cell_type": "code",
   "execution_count": null,
   "metadata": {},
   "outputs": [],
   "source": [
    "%%html\n",
    "<svg width=\"100\" \"height=100\" id=\"svg-3\"></svg>"
   ]
  },
  {
   "cell_type": "code",
   "execution_count": null,
   "metadata": {},
   "outputs": [],
   "source": [
    "%%javascript\n",
    "\n",
    "require([\"d3\"], function(d3) {\n",
    "    \n",
    "    const data = [[0, 0],\n",
    "                 [10, 1],\n",
    "                 [20, 4],\n",
    "                 [30, 9],\n",
    "                 [40, 16],\n",
    "                 [50, 25], \n",
    "                 [60, 36],\n",
    "                 [70, 49],\n",
    "                 [80, 64],\n",
    "                 [90, 81],\n",
    "                 [100, 100]]\n",
    "    \n",
    "    let svg = d3.select(\"#svg-3\");\n",
    "    \n",
    "    let linea = d3.line();\n",
    "    \n",
    "    \n",
    "    svg.\n",
    "    append(\"path\").\n",
    "    attr(\"d\", linea(data)).\n",
    "    attr(\"stroke\", \"red\").\n",
    "    attr(\"fill\", \"none\");\n",
    "    })"
   ]
  },
  {
   "cell_type": "markdown",
   "metadata": {},
   "source": [
    "## Arcos, círculos y \"donas\"."
   ]
  },
  {
   "cell_type": "markdown",
   "metadata": {},
   "source": [
    "https://github.com/d3/d3-shape#arcs"
   ]
  },
  {
   "cell_type": "markdown",
   "metadata": {},
   "source": [
    "La función  ```d3.arc``` permite definir arcos a partir de los siguientes métodos.\n",
    "\n",
    "* ```d3.arc.innerRadius()```\n",
    "* ```d3.arc.outerRadius()```\n",
    "* ```startAngle()```\n",
    "* ```endAngle()```"
   ]
  },
  {
   "cell_type": "code",
   "execution_count": null,
   "metadata": {},
   "outputs": [],
   "source": [
    "%%html\n",
    "<svg width=\"100\" \"height=100\" id=\"svg-4\"></svg>"
   ]
  },
  {
   "cell_type": "code",
   "execution_count": null,
   "metadata": {},
   "outputs": [],
   "source": [
    "%%javascript\n",
    "\n",
    "require([\"d3\"], function(d3) {\n",
    "    \n",
    "    const svg = d3.select(\"#svg-4\");\n",
    "    \n",
    "    const arcGen = d3.arc().\n",
    "    innerRadius(10).\n",
    "    outerRadius(40).\n",
    "    startAngle(Math.PI/4).\n",
    "    endAngle(3*Math.PI/4);\n",
    "    \n",
    "    svg.\n",
    "    append(\"path\").\n",
    "    attr(\"d\", arcGen).\n",
    "    attr(\"stroke\", \"red\").\n",
    "    attr(\"fill\", \"skyblue\").\n",
    "    attr(\"transform\", \"translate(50,50)\")\n",
    "    })"
   ]
  },
  {
   "cell_type": "markdown",
   "metadata": {},
   "source": [
    "## *Pie Charts*."
   ]
  },
  {
   "cell_type": "markdown",
   "metadata": {},
   "source": [
    "La función ```d3.pie()``` permite crear gráficas de pastel definidas por unn arreglo de datos. La función ```d3.arc``` define los radios y otros atributos, mientras que ```d3.pi3()``` genera los datos para crear varios arcos al ser ingresados en ```d3.data```.\n",
    "\n",
    "https://github.com/d3/d3-shape#pie"
   ]
  },
  {
   "cell_type": "code",
   "execution_count": null,
   "metadata": {},
   "outputs": [],
   "source": [
    "%%html\n",
    "<svg width=\"100\" \"height=100\" id=\"svg-5\">\n",
    "    <g></g>\n",
    "</svg>"
   ]
  },
  {
   "cell_type": "code",
   "execution_count": null,
   "metadata": {},
   "outputs": [],
   "source": [
    "%%javascript\n",
    "\n",
    "require([\"d3\"], function(d3) {\n",
    "    \n",
    "    const datos = [18, 14, 47, 12, 54, 32, 22];\n",
    "    \n",
    "    let svg = d3.select(\"#svg-5 g\").\n",
    "    attr(\"transform\", \"translate(50, 50)\");\n",
    "    \n",
    "    /* Se generarán los datos de la gráfica de pastel \n",
    "    que serán creador por d3.arc() */ \n",
    "    let angleGen = d3.pie()\n",
    "    .padAngle(Math.PI/60);\n",
    "    \n",
    "    let data = angleGen(datos);\n",
    "    \n",
    "    let arcGen = d3.arc()\n",
    "    .innerRadius(10)\n",
    "    .outerRadius(40);\n",
    "    \n",
    "    console.log(data);\n",
    "    \n",
    "    svg.\n",
    "    selectAll(\"path\").\n",
    "    data(data).\n",
    "    enter().\n",
    "    append(\"path\").\n",
    "    attr(\"d\", arcGen).\n",
    "    attr(\"fill\", \"gold\").\n",
    "    attr(\"stroke\", \"pink\").\n",
    "    attr(\"stroke-width\", 1);\n",
    "})"
   ]
  },
  {
   "cell_type": "markdown",
   "metadata": {},
   "source": [
    "<p style=\"text-align: center\"><a rel=\"license\" href=\"http://creativecommons.org/licenses/by/4.0/\"><img alt=\"Licencia Creative Commons\" style=\"border-width:0\" src=\"https://i.creativecommons.org/l/by/4.0/80x15.png\" /></a><br />Esta obra está bajo una <a rel=\"license\" href=\"http://creativecommons.org/licenses/by/4.0/\">Licencia Creative Commons Atribución 4.0 Internacional</a>.</p>\n",
    "<p style=\"text-align: center\">&copy; José Luis Chiquete Valdivieso. 2022.</p>"
   ]
  }
 ],
 "metadata": {
  "kernelspec": {
   "display_name": "Python 3 (ipykernel)",
   "language": "python",
   "name": "python3"
  },
  "language_info": {
   "codemirror_mode": {
    "name": "ipython",
    "version": 3
   },
   "file_extension": ".py",
   "mimetype": "text/x-python",
   "name": "python",
   "nbconvert_exporter": "python",
   "pygments_lexer": "ipython3",
   "version": "3.10.4"
  }
 },
 "nbformat": 4,
 "nbformat_minor": 2
}
