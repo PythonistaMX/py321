{
 "cells": [
  {
   "cell_type": "markdown",
   "metadata": {},
   "source": [
    "[![imagenes/pythonista.png](imagenes/pythonista.png)](https://pythonista.io)"
   ]
  },
  {
   "cell_type": "markdown",
   "metadata": {},
   "source": [
    "En este capítulo se aplicarán algunos de los conocimientos adquiridos previamente."
   ]
  },
  {
   "cell_type": "markdown",
   "metadata": {},
   "source": [
    "## Datos históricos de crecimiento poblacional en México.\n",
    "\n",
    "Para este capítulo se utilizará una serie de datos tomada del potal del INEGI, la cual puede ser consultada en:\n",
    "\n",
    "https://goo.gl/fFQAXW"
   ]
  },
  {
   "cell_type": "markdown",
   "metadata": {},
   "source": [
    "Los datos de esta serie fueron guardados en el archivo [data/poblacion.json](data/poblacion.json) con la siguiente información, la cual corresponde a un objeto mediante JSON.\n",
    "\n",
    "``` javascript\n",
    "{\"1910\": 15160369, \"1921\": 14334780, \"1930\": 16552722, \"1940\": 19653552, \"1950\": 25791017, \"1960\": 34923129, \"1970\": 48225238, \"1980\": 66846833, \"1990\": 81249645, \"1995\": 91158290, \"2000\": 97483412, \"2005\": 103263388, \"2010\": 112336538, \"2015\": 119938473};\n",
    "```"
   ]
  },
  {
   "cell_type": "markdown",
   "metadata": {},
   "source": [
    "## Carga de datos mediante *XMLHttpResponse*.\n",
    "\n",
    "El siguiente código realiza lo siguiente:\n",
    "\n",
    "+ Crea un objeto instanciado de *XMLHttpRequest*.\n",
    "* intenta cargar los datos del archivo [data/poblacion.json](data/poblacion.json).\n",
    "* En caso de que la carga sea exitosa, se ejecutará la función *muestra_datos()*, utilizando como argumento a un objeto creado a partir del contenido de texto obtenido.\n",
    "\n",
    "```javascript\n",
    "let carga = new XMLHttpRequest();\n",
    "carga.onreadystatechange = function() {\n",
    "    if (carga.readyState == 4 && carga.status == 200) {\n",
    "        muestra_datos(JSON.parse(carga.responseText));\n",
    "    }\n",
    "}\n",
    "carga.open(\"get\", \"data/poblacion.json\");\n",
    "carga.send();\n",
    "```\n",
    "\n",
    "En todos los ejemplos de este capítulo se harán diversas variaciones de la función *muestra_datos()*."
   ]
  },
  {
   "cell_type": "markdown",
   "metadata": {},
   "source": [
    "## Despliegue de los datos como texto.\n",
    "\n",
    "En este caso, la función \n",
    "\n"
   ]
  },
  {
   "cell_type": "code",
   "execution_count": null,
   "metadata": {},
   "outputs": [],
   "source": [
    "%%html\n",
    "<p id=\"contenedor-1\"></p>"
   ]
  },
  {
   "cell_type": "code",
   "execution_count": null,
   "metadata": {},
   "outputs": [],
   "source": [
    "%%javascript\n",
    "\n",
    "function muestra_datos(datos){  \n",
    "    let contenedor = document.getElementById(\"contenedor-1\");\n",
    "    for (let dato in datos){\n",
    "    let parrafo = document.createElement(\"p\");\n",
    "    parrafo.textContent = dato.toString() + \": \" \n",
    "        + Math.round(datos[dato] / 1000000).toString();\n",
    "    contenedor.appendChild(parrafo);\n",
    "    }\n",
    "}\n",
    "\n",
    "let carga = new XMLHttpRequest();\n",
    "carga.onreadystatechange = function() {\n",
    "    if (carga.readyState == 4 && carga.status == 200) {\n",
    "        muestra_datos(JSON.parse(carga.responseText));\n",
    "    }\n",
    "}\n",
    "carga.open(\"get\", \"data/poblacion.json\");\n",
    "carga.send();"
   ]
  },
  {
   "cell_type": "code",
   "execution_count": null,
   "metadata": {},
   "outputs": [],
   "source": [
    "%%html\n",
    "<svg id=\"contenedor-2\" width=\"200\" height=\"230\">\n",
    "</svg>"
   ]
  },
  {
   "cell_type": "code",
   "execution_count": null,
   "metadata": {},
   "outputs": [],
   "source": [
    "%%javascript\n",
    "\n",
    "function muestra_datos(datos){\n",
    "    const NS=\"http://www.w3.org/2000/svg\";\n",
    "    let contenedor = document.getElementById(\"contenedor-2\");\n",
    "    let contador = 0;\n",
    "    for (let dato in datos){\n",
    "        let rectangulo = document.createElementNS(NS,\"rect\");\n",
    "        rectangulo.setAttribute(\"x\", \"0\");\n",
    "        rectangulo.setAttribute(\"y\", contador.toString());\n",
    "        rectangulo.setAttribute(\"height\", \"10\");\n",
    "        rectangulo.setAttribute(\"fill\", \"blue\");\n",
    "        let ancho = Math.round(datos[dato] / 1000000).toString();\n",
    "        rectangulo.setAttribute(\"width\", ancho);\n",
    "        contenedor.append(rectangulo);\n",
    "        contador += 15;\n",
    "    }\n",
    "}\n",
    "\n",
    "let carga = new XMLHttpRequest();\n",
    "carga.onreadystatechange = function() {\n",
    "    if (carga.readyState == 4 && carga.status == 200) {\n",
    "        muestra_datos(JSON.parse(carga.responseText));\n",
    "    }\n",
    "}\n",
    "carga.open(\"get\", \"data/poblacion.json\");\n",
    "carga.send();"
   ]
  },
  {
   "cell_type": "code",
   "execution_count": null,
   "metadata": {
    "scrolled": true
   },
   "outputs": [],
   "source": [
    "%%html\n",
    "<svg id=\"contenedor-3\" width=\"200\" height=\"230\">\n",
    "</svg>"
   ]
  },
  {
   "cell_type": "code",
   "execution_count": null,
   "metadata": {},
   "outputs": [],
   "source": [
    "%%javascript\n",
    "\n",
    "function muestra_datos(datos){\n",
    "    const NS=\"http://www.w3.org/2000/svg\";\n",
    "    let contenedor = document.getElementById(\"contenedor-3\");\n",
    "    let contador = 0;\n",
    "    for (let dato in datos){\n",
    "        let rectangulo = document.createElementNS(NS,\"rect\");\n",
    "        rectangulo.setAttribute(\"x\", \"35\");\n",
    "        rectangulo.setAttribute(\"y\", contador.toString());\n",
    "        rectangulo.setAttribute(\"height\", \"10\");\n",
    "        rectangulo.setAttribute(\"fill\", \"blue\");\n",
    "        let ancho = Math.round(datos[dato] / 1000000).toString();\n",
    "        rectangulo.setAttribute(\"width\", ancho);\n",
    "        contenedor.append(rectangulo);\n",
    "        let texto = document.createElementNS(NS,\"text\");\n",
    "        texto.setAttribute(\"x\", \"0\");\n",
    "        texto.setAttribute(\"y\", contador + 11);\n",
    "        texto.append(dato.toString());\n",
    "        contenedor.append(texto);\n",
    "        contador += 15;\n",
    "    }\n",
    "}\n",
    "\n",
    "let carga = new XMLHttpRequest();\n",
    "carga.onreadystatechange = function() {\n",
    "    if (carga.readyState == 4 && carga.status == 200) {\n",
    "        muestra_datos(JSON.parse(carga.responseText));\n",
    "    }\n",
    "}\n",
    "carga.open(\"get\", \"data/poblacion.json\");\n",
    "carga.send();"
   ]
  },
  {
   "cell_type": "markdown",
   "metadata": {},
   "source": [
    "<p style=\"text-align: center\"><a rel=\"license\" href=\"http://creativecommons.org/licenses/by/4.0/\"><img alt=\"Licencia Creative Commons\" style=\"border-width:0\" src=\"https://i.creativecommons.org/l/by/4.0/80x15.png\" /></a><br />Esta obra está bajo una <a rel=\"license\" href=\"http://creativecommons.org/licenses/by/4.0/\">Licencia Creative Commons Atribución 4.0 Internacional</a>.</p>\n",
    "<p style=\"text-align: center\">&copy; José Luis Chiquete Valdivieso. 2019.</p>"
   ]
  }
 ],
 "metadata": {
  "kernelspec": {
   "display_name": "Python 3",
   "language": "python",
   "name": "python3"
  },
  "language_info": {
   "codemirror_mode": {
    "name": "ipython",
    "version": 3
   },
   "file_extension": ".py",
   "mimetype": "text/x-python",
   "name": "python",
   "nbconvert_exporter": "python",
   "pygments_lexer": "ipython3",
   "version": "3.6.5"
  }
 },
 "nbformat": 4,
 "nbformat_minor": 2
}
