{
 "cells": [
  {
   "cell_type": "markdown",
   "metadata": {},
   "source": [
    "[![img/pythonista.png](img/pythonista.png)](https://www.pythonista.io)"
   ]
  },
  {
   "cell_type": "markdown",
   "metadata": {},
   "source": [
    "# Vistas y escalas en *SVG* ."
   ]
  },
  {
   "cell_type": "markdown",
   "metadata": {},
   "source": [
    "##  ```viewport```"
   ]
  },
  {
   "cell_type": "markdown",
   "metadata": {},
   "source": [
    "## ```viewBox```\n",
    "\n"
   ]
  },
  {
   "cell_type": "markdown",
   "metadata": {},
   "source": [
    "```\n",
    "viewBox=\"(min-x) (min-y) (ancho) (alto)\"\n",
    "```"
   ]
  },
  {
   "cell_type": "markdown",
   "metadata": {},
   "source": [
    "https://developer.mozilla.org/en-US/docs/Web/SVG/Attribute/viewBox"
   ]
  },
  {
   "cell_type": "code",
   "execution_count": null,
   "metadata": {},
   "outputs": [],
   "source": [
    "%%html\n",
    "<style>\n",
    "    .fondo {\n",
    "        background-color: lavender;\n",
    "    }\n",
    "    .objeto {\n",
    "        fill: skyblue;\n",
    "    }    \n",
    "</style>"
   ]
  },
  {
   "cell_type": "code",
   "execution_count": null,
   "metadata": {},
   "outputs": [],
   "source": [
    "%%html\n",
    "<svg width=\"100\" height=\"100\" class=\"fondo\">\n",
    "    <rect x=\"0\" y=\"0\" width=\"50\" height=\"50\" class=\"objeto\" />\n",
    "    <text x=\"50\" y=\"55\">x</text>\n",
    "</svg>"
   ]
  },
  {
   "cell_type": "code",
   "execution_count": null,
   "metadata": {},
   "outputs": [],
   "source": [
    "%%html\n",
    "<svg width=\"100\" height=\"100\" class=\"fondo\" viewBox=\"0 0 200 200\">\n",
    "    <rect x=\"0\" y=\"0\" width=\"50\" height=\"50\" class=\"objeto\" />\n",
    "    <text x=\"50\" y=\"55\">x</text>\n",
    "</svg>"
   ]
  },
  {
   "cell_type": "code",
   "execution_count": null,
   "metadata": {},
   "outputs": [],
   "source": [
    "%%html\n",
    "<svg width=\"100\" height=\"100\" class=\"fondo\" viewBox=\"0 0 60 60\">\n",
    "    <rect x=\"0\" y=\"0\" width=\"50\" height=\"50\" class=\"objeto\" />\n",
    "    <text x=\"50\" y=\"55\">x</text>\n",
    "</svg>"
   ]
  },
  {
   "cell_type": "code",
   "execution_count": null,
   "metadata": {},
   "outputs": [],
   "source": [
    "%%html\n",
    "<svg width=\"100\" height=\"100\" class=\"fondo\" viewBox=\"-10 -10 100 100\">\n",
    "    <rect x=\"0\" y=\"0\" width=\"50\" height=\"50\" class=\"objeto\" />\n",
    "    <text x=\"50\" y=\"55\">x</text>\n",
    "</svg>"
   ]
  },
  {
   "cell_type": "code",
   "execution_count": null,
   "metadata": {
    "scrolled": true
   },
   "outputs": [],
   "source": [
    "%%html\n",
    "<svg width=\"100\" height=\"100\" class=\"fondo\" viewBox=\"-10 -10 15 15\">\n",
    "    <rect x=\"0\" y=\"0\" width=\"50\" height=\"50\" class=\"objeto\" />\n",
    "    <text x=\"50\" y=\"55\">x</text>\n",
    "</svg>"
   ]
  },
  {
   "cell_type": "markdown",
   "metadata": {},
   "source": [
    "<p style=\"text-align: center\"><a rel=\"license\" href=\"http://creativecommons.org/licenses/by/4.0/\"><img alt=\"Licencia Creative Commons\" style=\"border-width:0\" src=\"https://i.creativecommons.org/l/by/4.0/80x15.png\" /></a><br />Esta obra está bajo una <a rel=\"license\" href=\"http://creativecommons.org/licenses/by/4.0/\">Licencia Creative Commons Atribución 4.0 Internacional</a>.</p>\n",
    "<p style=\"text-align: center\">&copy; José Luis Chiquete Valdivieso. 2022.</p>"
   ]
  }
 ],
 "metadata": {
  "kernelspec": {
   "display_name": "Python 3 (ipykernel)",
   "language": "python",
   "name": "python3"
  },
  "language_info": {
   "codemirror_mode": {
    "name": "ipython",
    "version": 3
   },
   "file_extension": ".py",
   "mimetype": "text/x-python",
   "name": "python",
   "nbconvert_exporter": "python",
   "pygments_lexer": "ipython3",
   "version": "3.10.4"
  }
 },
 "nbformat": 4,
 "nbformat_minor": 2
}
