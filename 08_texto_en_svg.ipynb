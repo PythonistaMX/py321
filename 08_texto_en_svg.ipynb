{
 "cells": [
  {
   "cell_type": "markdown",
   "metadata": {},
   "source": [
    "[![img/pythonista.png](img/pythonista.png)](https://www.pythonista.io)"
   ]
  },
  {
   "cell_type": "markdown",
   "metadata": {},
   "source": [
    "# Texto en SVG."
   ]
  },
  {
   "cell_type": "markdown",
   "metadata": {},
   "source": [
    "Es posible incluir texto en elementos *SVG* mediante la etiqueta ```<text>```.\n",
    "\n",
    "```\n",
    "<text x=\"(x)\" y=\"(y)\">texto</text>\n",
    "```\n",
    "Donde ```(x)``` y ```(y)``` corresponden a las coordenadas absoludas de la esquina inferior izquierda del inicio del texto.\n",
    "\n",
    "Además de los atributos  se pueden incluir.\n",
    "\n",
    "* ```dx``` permite dedsplazar el texto en el eje de las *x*.\n",
    "* ```dy``` permite dedsplazar el texto en el eje de las *y*.\n",
    "* ```rotate``` permite rotar los caracteres del texto.\n",
    "* ```textLenght```\n",
    "* ```lenghtAdjust```\n",
    "\n",
    "El tamaño de la fuente es definido mediante estilos."
   ]
  },
  {
   "cell_type": "code",
   "execution_count": null,
   "metadata": {},
   "outputs": [],
   "source": [
    "%%svg\n",
    "\n",
    "<svg width=\"150px\" height=\"100px\">\n",
    "\n",
    "<circle cx=\"50\" cy=\"50\" r=\"35\" fill=\"yellow\" />\n",
    "<circle cx=\"50\" cy=\"50\" r=\"1\" />\n",
    "\n",
    "<text x=\"50\" y=\"50\">TEXTO</text>\n",
    "</svg>"
   ]
  },
  {
   "cell_type": "code",
   "execution_count": null,
   "metadata": {},
   "outputs": [],
   "source": [
    "%%svg\n",
    "\n",
    "<svg width=\"150px\" height=\"100px\">\n",
    "\n",
    "<circle cx=\"50\" cy=\"50\" r=\"35\" fill=\"yellow\" />\n",
    "<circle cx=\"50\" cy=\"50\" r=\"5\" fill=\"red\"/>\n",
    "\n",
    "<text x=\"50\" y=\"50\" dx=\"-23\" dy=\"5\">TEXTO</text>\n",
    "</svg>"
   ]
  },
  {
   "cell_type": "code",
   "execution_count": null,
   "metadata": {},
   "outputs": [],
   "source": [
    "%%svg\n",
    "\n",
    "<svg width=\"150px\" height=\"100px\">\n",
    "\n",
    "<circle cx=\"50\" cy=\"50\" r=\"35\" fill=\"yellow\" />\n",
    "<circle cx=\"50\" cy=\"50\" r=\"5\" fill=\"red\"/>\n",
    "\n",
    "<text x=\"50\" y=\"50\" dx=\"-23\" dy=\"5\" rotate=\"45\">TEXTO</text>\n",
    "</svg>"
   ]
  },
  {
   "cell_type": "code",
   "execution_count": null,
   "metadata": {},
   "outputs": [],
   "source": [
    "%%svg\n",
    "\n",
    "<svg width=\"150px\" height=\"100px\">\n",
    "\n",
    "<circle cx=\"50\" cy=\"50\" r=\"35\" fill=\"yellow\" />\n",
    "<circle cx=\"50\" cy=\"50\" r=\"1\"/>\n",
    "\n",
    "<text x=\"50\" y=\"50\" \n",
    "      dx=\"-23\" dy=\"5\"\n",
    "    transform =\"rotate(45 50 50)\">TEXTO</text>\n",
    "</svg>"
   ]
  },
  {
   "cell_type": "code",
   "execution_count": null,
   "metadata": {},
   "outputs": [],
   "source": [
    "%%svg\n",
    "\n",
    "<svg width=\"150px\" height=\"100px\">\n",
    "    <circle cx=\"50\" cy=\"50\" r=\"35\" fill=\"yellow\" />\n",
    "    <text x=\"50\" y=\"50\" lenghtAdjust=\"10\">TEXTO</text>\n",
    "</svg>"
   ]
  },
  {
   "cell_type": "markdown",
   "metadata": {},
   "source": [
    "### Texto siguiendo un trazo con ```textPath```.\n",
    "\n",
    "La etiqueta ```<textPath>``` nos permite seguir un trazo al utilizarlo como referencia.\n",
    "\n",
    "```\n",
    "<text>\n",
    "    <textPath href=\"#(id trazo)\"> (texto) </textPath>\n",
    "</text>\n",
    "```\n",
    "\n",
    "Donde:\n",
    " * ```(id trazo)``` es el identificador de un trazo *SVG*.\n"
   ]
  },
  {
   "cell_type": "markdown",
   "metadata": {},
   "source": [
    "**Ejemplo:**"
   ]
  },
  {
   "cell_type": "code",
   "execution_count": null,
   "metadata": {},
   "outputs": [],
   "source": [
    "%%svg\n",
    "<svg width=\"200px\" height=\"200px\">\n",
    "<path d=\"M 75 100 \n",
    "        A 25 45 0 1 0 100 145\" \n",
    "        stroke=\"orange\" \n",
    "        fill=\"none\" \n",
    "        id=\"trazo\"/>\n",
    "        \n",
    "<text>\n",
    "    <textPath href=\"#trazo\">\n",
    "        sigue el trazo\n",
    "    </textPath>\n",
    "</text>\n",
    "</svg>  "
   ]
  },
  {
   "cell_type": "code",
   "execution_count": null,
   "metadata": {},
   "outputs": [],
   "source": [
    "%%svg\n",
    "<svg width=\"200px\" height=\"200px\">\n",
    "<path d=\"M 75 100 \n",
    "        A 25 45 0 1 0 100 145\" \n",
    "        stroke=\"none\" \n",
    "        fill=\"none\" \n",
    "        id=\"trazo\"/>\n",
    "        \n",
    "<text>\n",
    "    <textPath href=\"#trazo\">\n",
    "        sigue el trazo\n",
    "    </textPath>\n",
    "</text>\n",
    "</svg>"
   ]
  },
  {
   "cell_type": "markdown",
   "metadata": {},
   "source": [
    "<p style=\"text-align: center\"><a rel=\"license\" href=\"http://creativecommons.org/licenses/by/4.0/\"><img alt=\"Licencia Creative Commons\" style=\"border-width:0\" src=\"https://i.creativecommons.org/l/by/4.0/80x15.png\" /></a><br />Esta obra está bajo una <a rel=\"license\" href=\"http://creativecommons.org/licenses/by/4.0/\">Licencia Creative Commons Atribución 4.0 Internacional</a>.</p>\n",
    "<p style=\"text-align: center\">&copy; José Luis Chiquete Valdivieso. 2022.</p>"
   ]
  }
 ],
 "metadata": {
  "kernelspec": {
   "display_name": "Python 3 (ipykernel)",
   "language": "python",
   "name": "python3"
  },
  "language_info": {
   "codemirror_mode": {
    "name": "ipython",
    "version": 3
   },
   "file_extension": ".py",
   "mimetype": "text/x-python",
   "name": "python",
   "nbconvert_exporter": "python",
   "pygments_lexer": "ipython3",
   "version": "3.10.4"
  }
 },
 "nbformat": 4,
 "nbformat_minor": 2
}
