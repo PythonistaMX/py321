{
 "cells": [
  {
   "cell_type": "markdown",
   "metadata": {},
   "source": [
    "[![imagenes/pythonista.png](imagenes/pythonista.png)](https://pythonista.io)"
   ]
  },
  {
   "cell_type": "markdown",
   "metadata": {},
   "source": [
    "[*D3.js*](https://d3js.org/) es una biblioteca de Javascript especializada en la creación de documentos orientados a datos (Data Driven Documents) capaz de acceder a los recursos de un documento HTML mediante selecciones.\n",
    "\n",
    "*D3.js* no contiene herramientas específicas para crear gráficos, pero es capaz de acceder a los estilos de un elemento, así como de crear y modificar elementos SVG y Canvas."
   ]
  },
  {
   "cell_type": "markdown",
   "metadata": {},
   "source": [
    "## Inclusión de *D3.js* en un documento HTML.\n",
    "\n",
    "Existen varias formas de acceder a la biblioteca, dependiendo del estilo de programación.\n",
    "\n",
    "Es posible acceder a la documentación de *D3.js* en la siguiente liga:\n",
    "\n",
    "https://github.com/d3/d3\n",
    "\n",
    "**Nota:** Al momento de escribir este documento, la versión 5 es la más reciente de *D3.js*. "
   ]
  },
  {
   "cell_type": "markdown",
   "metadata": {},
   "source": [
    "### Inclusión de mediante el elemento *&lt;script&gt;*.\n",
    "\n",
    "La forma más común de incluir la biblioteca es haciendo referencia a una URL desde la que se puede obtener la bibilioteca.\n",
    "\n",
    "``` html\n",
    "<script src=\"https://d3js.org/d3.v5.js\"></script>\n",
    "```\n",
    "También es posible acceder a la versión minimizada de la biblioteca.\n",
    "\n",
    "```html\n",
    "<script src=\"https://d3js.org/d3.v5.min.js\"></script>\n",
    "```\n",
    "\n",
    "Del mismo modo, es posible descargar el archivo y cargarlo de forma local.\n"
   ]
  },
  {
   "cell_type": "markdown",
   "metadata": {},
   "source": [
    "**Ejemplo:**\n",
    "\n",
    "El documento [html/d3-1.html](html/d3-1.html) contiene el siguiente código:\n",
    "\n",
    "```html\n",
    "<!DOCTYPE html>\n",
    "<html>\n",
    "    <head>\n",
    "        <meta charset=\"utf-8\">\n",
    "        <title>Ejemplo 1</title>\n",
    "        <script src=\"https://d3js.org/d3.v5.min.js\"></script>\n",
    "    </head>\n",
    "    <body>\n",
    "        <h1>Ejemplo básico de <em>D3.js</em></h1>\n",
    "        <p>El siguiente párrafo será modificado mediante el uso de la biblioteca <i>D3.js</i></p>\n",
    "        <p id=\"muestra\">¡Hola, mundo!</p>\n",
    "        <script>\n",
    "            d3.select(\"#muestra\").\n",
    "            style(\"background-color\", \"gray\").\n",
    "            style(\"color\", \"white\").\n",
    "            style(\"font-size\", \"150%\").\n",
    "            style(\"text-align\", \"center\");\n",
    "        </script>\n",
    "    </body>\n",
    "</html>\n",
    "```"
   ]
  },
  {
   "cell_type": "markdown",
   "metadata": {},
   "source": [
    "### Inclusión como módulo.\n",
    "\n",
    "La biblioteca es compatible con el formato de módulos de ECMAScript 2015."
   ]
  },
  {
   "cell_type": "markdown",
   "metadata": {},
   "source": [
    "##  *D3.js* en una notebook de Jupyter con un kernel de iPython.\n",
    "\n",
    "En versiones recientes de Jupyter, no es posible utilizar el elemento *&lt;script&gt;* dentro de una celda usando el comando mágico *%%html%%*."
   ]
  },
  {
   "cell_type": "markdown",
   "metadata": {},
   "source": [
    "### Uso de *RequireJS*.\n",
    "\n",
    "[*RequireJS*](https://requirejs.org/) es una herramienta que permite importar diversos paquetes de Javascript como si fueran módulos que ya se encuentra incluida en las notebooks de Jupyter y puede ser invicada como *require*.\n",
    "\n",
    "**Nota:** En este capítulo se explorarán sólo las funcionalidades necesarias de *RequireJS* para acceder a *D3.js*."
   ]
  },
  {
   "cell_type": "code",
   "execution_count": null,
   "metadata": {},
   "outputs": [],
   "source": [
    "%%javascript\n",
    "\n",
    "require.config({\n",
    "        paths: {\n",
    "            d3: 'https://d3js.org/d3.v5.min'\n",
    "        }\n",
    "    })"
   ]
  },
  {
   "cell_type": "markdown",
   "metadata": {},
   "source": [
    "**Ejemplo:**"
   ]
  },
  {
   "cell_type": "code",
   "execution_count": null,
   "metadata": {},
   "outputs": [],
   "source": [
    "%%html\n",
    "<p id=\"muestra\">Hola, mundo.</p>"
   ]
  },
  {
   "cell_type": "code",
   "execution_count": null,
   "metadata": {},
   "outputs": [],
   "source": [
    "%%javascript\n",
    "require.config({\n",
    "        paths: {\n",
    "            d3: 'https://d3js.org/d3.v5.min'\n",
    "        }\n",
    "    })\n",
    "\n",
    "require([\"d3\"], function(d3){\n",
    "    d3.select(\"#muestra\").\n",
    "        style(\"background-color\", \"gray\").\n",
    "        style(\"color\", \"white\").\n",
    "        style(\"font-size\", \"150%\").\n",
    "        style(\"text-align\", \"center\");\n",
    "})"
   ]
  },
  {
   "cell_type": "markdown",
   "metadata": {},
   "source": [
    "## El objeto *d3*.\n",
    "\n",
    "El objeto *d3* es el componente básico mediante el cual se hace uso de las funcionalidades de la biblioteca sobre los elementos de un documento HTML.\n",
    "\n",
    "El objeto *d3* cuenta con múltiples métodos que regresan a su vez objetos *d3*, alo cuales se les pueden ir añadiendo métodos.\n",
    "\n",
    "```\n",
    "d3.<método 1>(<argumentos 1>).<método 2>(<argumentos 2>)...<método n>(<argumentos n>);\n",
    "```\n",
    "\n",
    "Debido a que javascript no es sensible a los retornos de línea y para facilitar la lectura, se sugiere utilizar una estructura como la siguiente:\n",
    "\n",
    "```\n",
    "d3.<método 1>(<argumentos 1>).\n",
    "    <método 2>(<argumentos 2>).\n",
    "    ...\n",
    "    <método n>(<argumentos n>);\n",
    "```\n"
   ]
  },
  {
   "cell_type": "markdown",
   "metadata": {},
   "source": [
    "<p style=\"text-align: center\"><a rel=\"license\" href=\"http://creativecommons.org/licenses/by/4.0/\"><img alt=\"Licencia Creative Commons\" style=\"border-width:0\" src=\"https://i.creativecommons.org/l/by/4.0/80x15.png\" /></a><br />Esta obra está bajo una <a rel=\"license\" href=\"http://creativecommons.org/licenses/by/4.0/\">Licencia Creative Commons Atribución 4.0 Internacional</a>.</p>\n",
    "<p style=\"text-align: center\">&copy; José Luis Chiquete Valdivieso. 2019.</p>"
   ]
  }
 ],
 "metadata": {
  "kernelspec": {
   "display_name": "Python 3",
   "language": "python",
   "name": "python3"
  },
  "language_info": {
   "codemirror_mode": {
    "name": "ipython",
    "version": 3
   },
   "file_extension": ".py",
   "mimetype": "text/x-python",
   "name": "python",
   "nbconvert_exporter": "python",
   "pygments_lexer": "ipython3",
   "version": "3.6.5"
  }
 },
 "nbformat": 4,
 "nbformat_minor": 2
}
