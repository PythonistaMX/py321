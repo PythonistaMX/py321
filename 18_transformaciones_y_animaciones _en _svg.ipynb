{
 "cells": [
  {
   "cell_type": "markdown",
   "metadata": {},
   "source": [
    "[![img/pythonista.png](img/pythonista.png)](https://www.pythonista.io)"
   ]
  },
  {
   "cell_type": "markdown",
   "metadata": {},
   "source": [
    "# Transformaciones en *SVG*."
   ]
  },
  {
   "cell_type": "markdown",
   "metadata": {},
   "source": [
    "## Agrupamiento."
   ]
  },
  {
   "cell_type": "code",
   "execution_count": null,
   "metadata": {
    "scrolled": true
   },
   "outputs": [],
   "source": [
    "%%svg\n",
    "<svg width=\"50\" height=\"50\">\n",
    "<g id=\"grupo-1\">\n",
    "<path d=\"M 25 0 \n",
    "    L 10 20 \n",
    "    20 20 \n",
    "    20 35 \n",
    "    30 35 \n",
    "    30 20\n",
    "    40 20 Z\" \n",
    "    fill=\"gray\"\n",
    "    stroke=\"skyblue\"/>\n",
    "    \n",
    "<circle cx=\"25\" cy=\"35\" r=\"5\" fill=\"gray\" />\n",
    "</g>\n",
    "</svg>"
   ]
  },
  {
   "cell_type": "code",
   "execution_count": null,
   "metadata": {},
   "outputs": [],
   "source": [
    "%%javascript\n",
    "\n",
    "let flecha = document.getElementById(\"grupo-1\");\n",
    "flecha.parentElement,"
   ]
  },
  {
   "cell_type": "markdown",
   "metadata": {},
   "source": [
    "## Transformaciones.\n",
    "\n",
    "```\n",
    "transform=\"<funciones>\"\n",
    "```\n",
    "Donde:\n",
    "\n",
    "* ```<funciones>``` es una sucesion de funciones de transformación."
   ]
  },
  {
   "cell_type": "markdown",
   "metadata": {},
   "source": [
    "## Funciones de transformación.,\n",
    "\n",
    "* ```translate()```\n",
    "* ```rotate()```\n",
    "* ```scale()```\n",
    "* ```skewX()```\n",
    "* ```skewY()```"
   ]
  },
  {
   "cell_type": "markdown",
   "metadata": {},
   "source": [
    "### La función ```translate()```.\n",
    "\n",
    "```\n",
    "translate(<x>, <y>)\n",
    "```"
   ]
  },
  {
   "cell_type": "markdown",
   "metadata": {},
   "source": [
    "### La función ```rotate()```\n",
    "\n",
    "```\n",
    "rotate(<a>, <x>, <y>)\n",
    "```"
   ]
  },
  {
   "cell_type": "markdown",
   "metadata": {},
   "source": [
    "### La función ```scale()```.\n",
    "\n",
    "```\n",
    "scale(<x>, <y>)\n",
    "```"
   ]
  },
  {
   "cell_type": "code",
   "execution_count": null,
   "metadata": {},
   "outputs": [],
   "source": [
    "%%svg\n",
    "<svg width=\"50\" height=\"50\">\n",
    "<g id=\"grupo-2\">\n",
    "<path d=\"M 25 0 \n",
    "    L 10 20 \n",
    "    20 20 \n",
    "    20 35 \n",
    "    30 35 \n",
    "    30 20\n",
    "    40 20 Z\" \n",
    "    fill=\"gray\"\n",
    "    stroke=\"skyblue\"/>\n",
    "</g>\n",
    "</svg>"
   ]
  },
  {
   "cell_type": "code",
   "execution_count": null,
   "metadata": {},
   "outputs": [],
   "source": [
    "%%javascript\n",
    "let flecha = document.getElementById(\"grupo-2\");\n",
    "flecha.setAttribute(\"transform\", \"rotate(90, 25, 35) translate(0, 10)\");\n"
   ]
  },
  {
   "cell_type": "markdown",
   "metadata": {
    "scrolled": true
   },
   "source": [
    "https://developer.mozilla.org/en-US/docs/Web/SVG/Element/defs"
   ]
  },
  {
   "cell_type": "markdown",
   "metadata": {},
   "source": [
    "<p style=\"text-align: center\"><a rel=\"license\" href=\"http://creativecommons.org/licenses/by/4.0/\"><img alt=\"Licencia Creative Commons\" style=\"border-width:0\" src=\"https://i.creativecommons.org/l/by/4.0/80x15.png\" /></a><br />Esta obra está bajo una <a rel=\"license\" href=\"http://creativecommons.org/licenses/by/4.0/\">Licencia Creative Commons Atribución 4.0 Internacional</a>.</p>\n",
    "<p style=\"text-align: center\">&copy; José Luis Chiquete Valdivieso. 2022.</p>"
   ]
  }
 ],
 "metadata": {
  "kernelspec": {
   "display_name": "Python 3 (ipykernel)",
   "language": "python",
   "name": "python3"
  },
  "language_info": {
   "codemirror_mode": {
    "name": "ipython",
    "version": 3
   },
   "file_extension": ".py",
   "mimetype": "text/x-python",
   "name": "python",
   "nbconvert_exporter": "python",
   "pygments_lexer": "ipython3",
   "version": "3.10.4"
  }
 },
 "nbformat": 4,
 "nbformat_minor": 2
}
