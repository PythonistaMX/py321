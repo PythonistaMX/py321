{
 "cells": [
  {
   "cell_type": "markdown",
   "metadata": {},
   "source": [
    "[![img/pythonista.png](img/pythonista.png)](https://www.pythonista.io)"
   ]
  },
  {
   "cell_type": "markdown",
   "metadata": {},
   "source": [
    "# Atributos de objetos *SVG*."
   ]
  },
  {
   "cell_type": "markdown",
   "metadata": {},
   "source": [
    "## Atributos de línea perimetral (```stroke```).\n",
    "\n",
    "Es posible definir algunos atributos referentes a la línea perimetral de los elemento *SVG*."
   ]
  },
  {
   "cell_type": "markdown",
   "metadata": {},
   "source": [
    "### Ancho de línea.\n",
    "\n",
    "El ancho de la línea se define con el atributo ```stroke-width```.\n",
    "\n",
    "Puede ser definido en unidades o porcentaje. El porcentaje es con respecto a las dimensiones del contenedor.\n",
    "\n",
    "```\n",
    "stroke-width=\"(magnitud)\"\n",
    "```"
   ]
  },
  {
   "cell_type": "markdown",
   "metadata": {},
   "source": [
    "**Ejemplo:**"
   ]
  },
  {
   "cell_type": "markdown",
   "metadata": {},
   "source": [
    "* La siguiente celda trazará tres líneas, cada una con un color (```stroke```) y un ancho (```stroke-width```) distinto."
   ]
  },
  {
   "cell_type": "code",
   "execution_count": null,
   "metadata": {},
   "outputs": [],
   "source": [
    "%%svg\n",
    "<svg width=\"100px\" height=\"100px\">\n",
    "    <line x1=\"0\" y1=\"0\" x2=\"100\" y2=\"100\" stroke=\"black\" stroke-width=\"3\"/> \n",
    "    <line x1=\"10\" y1=\"0\" x2=\"100\" y2=\"90\" stroke=\"blue\" stroke-width=\"5\" />\n",
    "    <line x1=\"30\" y1=\"0\" x2=\"100\" y2=\"70\" stroke=\"green\" stroke-width=\"10%\" />\n",
    "</svg>\n",
    "    "
   ]
  },
  {
   "cell_type": "markdown",
   "metadata": {},
   "source": [
    "### Punteado de línea.\n",
    "\n",
    "Es posible definir patrones de punteado de línea con el atributo ```stroke-dasharray``` indicando el tamaño de los segmentos en unidades.\n",
    "\n",
    "```\n",
    "stroke-dasharray=\"(sucesión de números separados por espacios)\"\n",
    "```"
   ]
  },
  {
   "cell_type": "markdown",
   "metadata": {},
   "source": [
    "**Ejemplo:**"
   ]
  },
  {
   "cell_type": "markdown",
   "metadata": {},
   "source": [
    "* La siguiente celda trazará tres líneas, cada una con un color (```stroke```) y un punteado (```stroke-dasharray```) distinto."
   ]
  },
  {
   "cell_type": "code",
   "execution_count": null,
   "metadata": {},
   "outputs": [],
   "source": [
    "%%svg\n",
    "<svg width=\"100px\" height=\"100px\">\n",
    "    <line x1=\"0\" y1=\"0\" x2=\"100\" y2=\"100\" stroke=\"black\" stroke-dasharray=\"2 2\"/> \n",
    "    <line x1=\"10\" y1=\"0\" x2=\"100\" y2=\"90\" stroke=\"blue\" stroke-dasharray=\"5 4 1\" />\n",
    "    <line x1=\"20\" y1=\"0\" x2=\"100\" y2=\"80\" stroke=\"green\" stroke-dasharray=\"2 4 3 8\" />\n",
    "</svg>"
   ]
  },
  {
   "cell_type": "markdown",
   "metadata": {},
   "source": [
    "### Esquinas.\n",
    "\n",
    "Es posible definir el trazo de las esquinas de un trazo con el atributo ```stroke-linejoin``` indicando el tamaño de los segmentos en unidades.\n",
    "\n",
    "```\n",
    "stroke-linejoin=\"(tipo)\"\n",
    "```\n",
    "\n",
    "Donde el tipo puede ser:\n",
    "    \n",
    "* ```miter``` (valor por defecto)\n",
    "* ```round```\n",
    "* ```bevel```\n",
    "* ```arcs```\n",
    "* ```miter-clip```"
   ]
  },
  {
   "cell_type": "markdown",
   "metadata": {},
   "source": [
    "**Ejemplos:**"
   ]
  },
  {
   "cell_type": "markdown",
   "metadata": {},
   "source": [
    "* Trazo utilizando ```miter```."
   ]
  },
  {
   "cell_type": "code",
   "execution_count": null,
   "metadata": {
    "scrolled": true
   },
   "outputs": [],
   "source": [
    "%%svg\n",
    "<svg width=\"100px\" height=\"100px\">\n",
    "    <path d=\"M 15 90 \n",
    "             C 4 80 -10 -11 80 78 \n",
    "             L 90 10\" \n",
    "        stroke=\"black\" \n",
    "        fill=\"none\" \n",
    "        stroke-width=\"10\" \n",
    "        stroke-linejoin=\"miter\"/>\n",
    "</svg>"
   ]
  },
  {
   "cell_type": "markdown",
   "metadata": {},
   "source": [
    "* Trazo utilizando ```round```."
   ]
  },
  {
   "cell_type": "code",
   "execution_count": null,
   "metadata": {},
   "outputs": [],
   "source": [
    "%%svg\n",
    "<svg width=\"100px\" height=\"100px\">\n",
    "    <path d=\"M 15 90 \n",
    "             C 4 80 -10 -11 80 78 \n",
    "             L 90 10\" \n",
    "        stroke=\"black\" \n",
    "        fill=\"none\" \n",
    "        stroke-width=\"10\" \n",
    "        stroke-linejoin=\"round\"/>\n",
    "</svg>"
   ]
  },
  {
   "cell_type": "markdown",
   "metadata": {},
   "source": [
    "* Trazo utilizando ```bevel```."
   ]
  },
  {
   "cell_type": "code",
   "execution_count": null,
   "metadata": {},
   "outputs": [],
   "source": [
    "%%svg\n",
    "<svg width=\"100px\" height=\"100px\">\n",
    "    <path d=\"M 15 90 \n",
    "             C 4 80 -10 -11 80 78 \n",
    "             L 90 10\" \n",
    "        stroke=\"black\" fill=\"none\" \n",
    "        stroke-width=\"10\" \n",
    "        stroke-linejoin=\"bevel\"/>\n",
    "</svg>"
   ]
  },
  {
   "cell_type": "markdown",
   "metadata": {},
   "source": [
    "* Trazo utilizando ```arcs```."
   ]
  },
  {
   "cell_type": "code",
   "execution_count": null,
   "metadata": {
    "scrolled": true
   },
   "outputs": [],
   "source": [
    "%%svg\n",
    "<svg width=\"100px\" height=\"100px\">\n",
    "    <path d=\"M 15 90 \n",
    "          C 4 80 -10 -11 80 78 \n",
    "          L 90 10\" \n",
    "        stroke=\"black\" \n",
    "        fill=\"none\" \n",
    "        stroke-width=\"10\" \n",
    "        stroke-linejoin=\"arcs\"/>\n",
    "</svg>"
   ]
  },
  {
   "cell_type": "markdown",
   "metadata": {},
   "source": [
    "* Trazo utilizando ```miter-clip```."
   ]
  },
  {
   "cell_type": "code",
   "execution_count": null,
   "metadata": {},
   "outputs": [],
   "source": [
    "%%svg\n",
    "<svg width=\"100px\" height=\"100px\">\n",
    "    <path d=\"M 15 90 \n",
    "             C 4 80 -10 -11 80 78 \n",
    "             L 90 10\" \n",
    "        stroke=\"black\" \n",
    "        fill=\"none\" \n",
    "        stroke-width=\"10\" \n",
    "        stroke-linejoin=\"mitter-clip\"/>\n",
    "</svg>"
   ]
  },
  {
   "cell_type": "markdown",
   "metadata": {},
   "source": [
    "### Extremos.\n",
    "\n",
    "Es posible definir el trazo de las esquinas de un trazo con el atributo  ``stroke-linecap``` indicando el tamaño de los segmentos en unidades.\n",
    "\n",
    "```\n",
    "stroke-linecap=\"(tipo)\"\n",
    "```\n",
    "\n",
    "Donde el tipo puede ser:\n",
    "    \n",
    "* ```butt``` (valor por defecto)\n",
    "* ```square```\n",
    "* ```round```"
   ]
  },
  {
   "cell_type": "markdown",
   "metadata": {},
   "source": [
    "**Ejemplo:**"
   ]
  },
  {
   "cell_type": "code",
   "execution_count": null,
   "metadata": {},
   "outputs": [],
   "source": [
    "%%svg\n",
    "<svg width=\"100px\" height=\"100px\">\n",
    "    \n",
    "<path d=\"M 20 10 H 80\" \n",
    "    stroke=\"black\" \n",
    "    fill=\"none\" \n",
    "    stroke-width=\"15\" \n",
    "    stroke-linecap=\"butt\"/>\n",
    "    \n",
    "<path d=\"M 20 30 H 80\" \n",
    "    stroke=\"black\" \n",
    "    fill=\"none\" \n",
    "    stroke-width=\"15\" \n",
    "    stroke-linecap=\"square\"/>\n",
    "    \n",
    "<path d=\"M 20 50 H 80\" \n",
    "    stroke=\"black\" \n",
    "    fill=\"none\" \n",
    "    stroke-width=\"15\" \n",
    "    stroke-linecap=\"round\"/>\n",
    "</svg>"
   ]
  },
  {
   "cell_type": "markdown",
   "metadata": {},
   "source": [
    "### Opacidad de línea.\n",
    "\n",
    "Es posible definir la opacidad de la línea con el atributo ```stroke-opacity``` indicando la opacidad en decimales de ```0``` a ```1```.\n",
    "\n",
    "```\n",
    "stroke-opacity=\"(numero)\"\n",
    "```"
   ]
  },
  {
   "cell_type": "markdown",
   "metadata": {},
   "source": [
    "**Ejemplo:**"
   ]
  },
  {
   "cell_type": "code",
   "execution_count": null,
   "metadata": {},
   "outputs": [],
   "source": [
    "%%svg\n",
    "<svg width=\"100px\" height=\"100px\">\n",
    "    <line x1=\"0\" y1=\"0\" x2=\"100\" y2=\"100\"\n",
    "    stroke=\"blue\" \n",
    "    stroke-width=\"15\" />\n",
    "    <line x1=\"100\" y1=\"0\" x2=\"0\" y2=\"100\" \n",
    "    stroke=\"yellow\" \n",
    "    stroke-width=\"15\" \n",
    "    stroke-opacity=\"0.9\" />\n",
    "</svg>"
   ]
  },
  {
   "cell_type": "markdown",
   "metadata": {},
   "source": [
    "## Atributo de opacidad de relleno (```fill-opacity```).\n",
    "\n",
    "Es posible definir la opacidad del relleno con el *atributo fill-opacity* indicando la opacidad en decimales de 0 a 1.\n",
    "\n",
    "```\n",
    "fill-opacity=\"numero\"\n",
    "```"
   ]
  },
  {
   "cell_type": "markdown",
   "metadata": {},
   "source": [
    "**Ejemplo:**"
   ]
  },
  {
   "cell_type": "code",
   "execution_count": null,
   "metadata": {},
   "outputs": [],
   "source": [
    "%%svg\n",
    "<svg width=\"100px\" height=\"100px\">\n",
    "    <circle cx=\"40\" cy=\"50\" r=\"35\" fill=\"red\" />\n",
    "    <circle cx=\"60\" cy=\"50\" r=\"35\" fill=\"blue\" fill-opacity=\"0.5\"/>\n",
    "</svg>"
   ]
  },
  {
   "cell_type": "markdown",
   "metadata": {},
   "source": [
    "## Transformaciones.\n",
    "\n",
    "* Trasladar (```translate```).\n",
    "* Rotar (```rotate```).\n",
    "* Escalar (```scale```).\n",
    "* Extender en ejes (```skew```).\n",
    "```\n",
    "<(elemento) (parámetros) transform=\"(funciones de transformación)\" /> \n",
    "```\n",
    "\n",
    "Es posible consultar detalles sobre la forma de transformar elementos SVG en: \n",
    "\n",
    "https://css-tricks.com/transforms-on-svg-elements/"
   ]
  },
  {
   "cell_type": "markdown",
   "metadata": {},
   "source": [
    "### Traslación (*translate*).\n",
    "\n",
    "Esta función permite trasladar un elemento usando un vector ```(x y)``` a partir de  su punto original. "
   ]
  },
  {
   "cell_type": "code",
   "execution_count": null,
   "metadata": {
    "scrolled": true
   },
   "outputs": [],
   "source": [
    "%%svg\n",
    "\n",
    "<svg width=\"100px\" height=\"100px\">\n",
    "<rect x=\"10\" y=\"10\" \n",
    "      width=\"60\" \n",
    "      height=\"20\" \n",
    "      stroke=\"blue\" \n",
    "      stroke-dasharray=\"5,4\" \n",
    "      fill=\"none\" />\n",
    "    \n",
    "<rect x=\"10\" y=\"10\" \n",
    "    width=\"60\" \n",
    "    height=\"20\" \n",
    "    transform=\"translate(15 15)\"\n",
    "    fill=\"orange\"\n",
    "    opacity =\".5\"\n",
    "    />  \n",
    "</svg>"
   ]
  },
  {
   "cell_type": "markdown",
   "metadata": {},
   "source": [
    "### Rotación (```rotate```).\n",
    "\n",
    "Esta función permite rotar un elemento usando un angulo en grados.\n",
    "\n",
    "```rotate(<angulo> <x> , <y>)```\n",
    "\n",
    "Donde:\n",
    "\n",
    "* ```<angulo>```es un ángulo en grados.\n",
    "* ```<x>``` es la posición absoluta en el eje de las *x* del punto de rotación.\n",
    "* ```<y>``` es la posición absoluta en el eje de las *y* del punto de rotación.\n",
    "\n",
    "**Nota:** El punto de rotación por defecto es ```(0 0)```"
   ]
  },
  {
   "cell_type": "code",
   "execution_count": null,
   "metadata": {},
   "outputs": [],
   "source": [
    "%%svg\n",
    "\n",
    "<svg width=\"100px\" height=\"100px\">\n",
    "<rect x=\"20\" y=\"20\" \n",
    "    width=\"60\" \n",
    "    height=\"20\" \n",
    "    stroke=\"blue\" \n",
    "    stroke-dasharray=\"5,4\" \n",
    "    fill=\"none\" />\n",
    "    \n",
    "<rect x=\"20\" y=\"20\" \n",
    "    width=\"60\" \n",
    "    height=\"20\"\n",
    "    fill=\"orange\"\n",
    "    opacity=\"0.5\"\n",
    "    transform=\"rotate(45 10 10)\"/> \n",
    "    \n",
    "<rect x=\"20\" y=\"20\" \n",
    "    width=\"60\" \n",
    "    height=\"20\"\n",
    "    fill=\"green\"\n",
    "    opacity=\"0.5\"\n",
    "    transform=\"rotate(90 50 30)\"/>    \n",
    "    \n",
    "</svg>"
   ]
  },
  {
   "cell_type": "markdown",
   "metadata": {},
   "source": [
    "### Escala (```scale```).\n",
    "\n",
    "Esta función permite escalar un elemento.\n",
    "\n",
    "```scale(<rel x> <rel y>)```\n",
    "\n",
    "Donde:\n",
    "\n",
    "* ```<rel x>``` es un número que define la escala del objeto en la escala de las ```x```. Siendo ```1``` la escala original.\n",
    "* ```<rel y>``` es un número que define la escala del objeto en la escala de las ```t```. Siendo ```1``` la escala original."
   ]
  },
  {
   "cell_type": "code",
   "execution_count": null,
   "metadata": {},
   "outputs": [],
   "source": [
    "%%svg\n",
    "\n",
    "<svg width=\"100px\" height=\"100px\">\n",
    "<rect x=\"20\" y=\"20\" \n",
    "    width=\"60\" height=\"20\" \n",
    "    stroke=\"blue\" stroke-dasharray=\"5,4\"\n",
    "    fill=\"none\" />\n",
    "    \n",
    "<rect x=\"20\" y=\"20\" \n",
    "    width=\"60\" \n",
    "    height=\"20\"\n",
    "    fill=\"orange\"\n",
    "    transform=\"scale(0.5, 0.5)\"/>\n",
    "    \n",
    "<rect x=\"20\" y=\"20\" \n",
    "    width=\"60\" \n",
    "    height=\"20\"\n",
    "    fill=\"red\"\n",
    "    transform=\"scale(0.3 0.5) translate(0 50)\"/>  \n",
    "</svg>"
   ]
  },
  {
   "cell_type": "markdown",
   "metadata": {},
   "source": [
    "### Estiramiento en los ejes (```skewX``` y ```skewY```).\n",
    "\n",
    "Esta función permite inclinar un elemento usando una relación.\n",
    "\n",
    "```\n",
    "skewX(<rel>)\n",
    "\n",
    "skewY(<rel>)\n",
    "```\n",
    "\n",
    "Donde:\n",
    "\n",
    "* ```<rel>``` es un número que define la razón de estriramiento del objeto. Siendo ```0``` la escala original.\n"
   ]
  },
  {
   "cell_type": "code",
   "execution_count": null,
   "metadata": {},
   "outputs": [],
   "source": [
    "%%svg\n",
    "\n",
    "<svg width=\"100px\" height=\"100px\">\n",
    "<rect x=\"20\" y=\"20\" \n",
    "    width=\"60\" \n",
    "    height=\"20\" \n",
    "    stroke=\"blue\" \n",
    "    stroke-dasharray=\"5,4\"\n",
    "    fill=\"none\" />\n",
    "    \n",
    "<rect x=\"20\" y=\"20\" \n",
    "    width=\"60\" \n",
    "    height=\"20\"\n",
    "    fill =\"orange\"\n",
    "    opacity=\".5\"\n",
    "    transform=\"skewX(10)\"/>  \n",
    "</svg>"
   ]
  },
  {
   "cell_type": "code",
   "execution_count": null,
   "metadata": {},
   "outputs": [],
   "source": [
    "%%svg\n",
    "\n",
    "<svg width=\"100px\" height=\"100px\">\n",
    "\n",
    "<rect x=\"20\" y=\"20\" \n",
    "    width=\"60\" \n",
    "    height=\"20\" \n",
    "    stroke=\"blue\" \n",
    "    stroke-dasharray=\"5,4\"\n",
    "    fill=\"none\" />\n",
    "    \n",
    "<rect x=\"20\" y=\"20\" \n",
    "    width=\"60\" \n",
    "    height=\"20\"\n",
    "    fill=\"orange\"\n",
    "    opacity=\"0.5\"\n",
    "    transform=\"skewY(30)\"/>  \n",
    "</svg>"
   ]
  },
  {
   "cell_type": "code",
   "execution_count": null,
   "metadata": {
    "scrolled": true
   },
   "outputs": [],
   "source": [
    "%%svg\n",
    "\n",
    "<svg width=\"150px\" height=\"100px\">\n",
    "\n",
    "<rect x=\"10\" y=\"10\" \n",
    "    width=\"60\" \n",
    "    height=\"20\" \n",
    "    stroke=\"blue\" \n",
    "    stroke-dasharray=\"5,4\"\n",
    "    fill=\"none\" />\n",
    "\n",
    "<rect x=\"10\" y=\"10\" \n",
    "    width=\"60\" \n",
    "    height=\"20\"\n",
    "    fill=\"orange\"\n",
    "    opacity=\"0.5\"\n",
    "    transform=\"skewX(30)skewY(30)\" />  \n",
    "</svg>"
   ]
  },
  {
   "cell_type": "markdown",
   "metadata": {},
   "source": [
    "# Texto en SVG.\n",
    "\n",
    "Es posible incluir texto en elementos *SVG* mediante la etiqueta ```<text>```.\n",
    "\n",
    "```\n",
    "<text x=\"(x)\" y=\"(y)\">texto</text>\n",
    "```\n",
    "Donde ```(x)``` y ```(y)``` corresponden a las coordenadas absoludas de la esquina inferior izquierda del inicio del texto.\n",
    "\n",
    "Además de los atributos  se pueden incluir.\n",
    "\n",
    "* ```dx``` permite dedsplazar el texto en el eje de las *x*.\n",
    "* ```dy``` permite dedsplazar el texto en el eje de las *y*.\n",
    "* ```rotate``` permite rotar los caracteres del texto.\n",
    "* ```textLenght```\n",
    "* ```lenghtAdjust```\n",
    "\n",
    "El tamaño de la fuente es definido mediante estilos."
   ]
  },
  {
   "cell_type": "code",
   "execution_count": null,
   "metadata": {},
   "outputs": [],
   "source": [
    "%%svg\n",
    "\n",
    "<svg width=\"150px\" height=\"100px\">\n",
    "\n",
    "<circle cx=\"50\" cy=\"50\" r=\"35\" fill=\"yellow\" />\n",
    "<circle cx=\"50\" cy=\"50\" r=\"1\" />\n",
    "\n",
    "<text x=\"50\" y=\"50\">TEXTO</text>\n",
    "</svg>"
   ]
  },
  {
   "cell_type": "code",
   "execution_count": null,
   "metadata": {},
   "outputs": [],
   "source": [
    "%%svg\n",
    "\n",
    "<svg width=\"150px\" height=\"100px\">\n",
    "\n",
    "<circle cx=\"50\" cy=\"50\" r=\"35\" fill=\"yellow\" />\n",
    "<circle cx=\"50\" cy=\"50\" r=\"5\" fill=\"red\"/>\n",
    "\n",
    "<text x=\"50\" y=\"50\" dx=\"-23\" dy=\"5\">TEXTO</text>\n",
    "</svg>"
   ]
  },
  {
   "cell_type": "code",
   "execution_count": null,
   "metadata": {},
   "outputs": [],
   "source": [
    "%%svg\n",
    "\n",
    "<svg width=\"150px\" height=\"100px\">\n",
    "\n",
    "<circle cx=\"50\" cy=\"50\" r=\"35\" fill=\"yellow\" />\n",
    "<circle cx=\"50\" cy=\"50\" r=\"5\" fill=\"red\"/>\n",
    "\n",
    "<text x=\"50\" y=\"50\" dx=\"-23\" dy=\"5\" rotate=\"45\">TEXTO</text>\n",
    "</svg>"
   ]
  },
  {
   "cell_type": "code",
   "execution_count": null,
   "metadata": {},
   "outputs": [],
   "source": [
    "%%svg\n",
    "\n",
    "<svg width=\"150px\" height=\"100px\">\n",
    "\n",
    "<circle cx=\"50\" cy=\"50\" r=\"35\" fill=\"yellow\" />\n",
    "<circle cx=\"50\" cy=\"50\" r=\"1\"/>\n",
    "\n",
    "<text x=\"50\" y=\"50\" \n",
    "      dx=\"-23\" dy=\"5\"\n",
    "    transform =\"rotate(45 50 50)\">TEXTO</text>\n",
    "</svg>"
   ]
  },
  {
   "cell_type": "code",
   "execution_count": null,
   "metadata": {},
   "outputs": [],
   "source": [
    "%%svg\n",
    "\n",
    "<svg width=\"150px\" height=\"100px\">\n",
    "    <circle cx=\"50\" cy=\"50\" r=\"35\" fill=\"yellow\" />\n",
    "    <text x=\"50\" y=\"50\" lenghtAdjust=\"10\">TEXTO</text>\n",
    "</svg>"
   ]
  },
  {
   "cell_type": "markdown",
   "metadata": {},
   "source": [
    "### Texto siguiendo un trazo con ```textPath```.\n",
    "\n",
    "La etiqueta ```<textPath>``` nos permite seguir un trazo al utilizarlo como referencia.\n",
    "\n",
    "```\n",
    "<text>\n",
    "    <textPath href=\"#(id trazo)\"> (texto) </textPath>\n",
    "</text>\n",
    "```\n",
    "\n",
    "Donde:\n",
    " * ```(id trazo)``` es el identificador de un trazo *SVG*.\n"
   ]
  },
  {
   "cell_type": "markdown",
   "metadata": {},
   "source": [
    "**Ejemplo:**"
   ]
  },
  {
   "cell_type": "code",
   "execution_count": null,
   "metadata": {},
   "outputs": [],
   "source": [
    "%%svg\n",
    "<svg width=\"200px\" height=\"200px\">\n",
    "<path d=\"M 75 100 \n",
    "        A 25 45 0 1 0 100 145\" \n",
    "        stroke=\"orange\" \n",
    "        fill=\"none\" \n",
    "        id=\"trazo\"/>\n",
    "        \n",
    "<text>\n",
    "    <textPath href=\"#trazo\">\n",
    "        sigue el trazo\n",
    "    </textPath>\n",
    "</text>\n",
    "</svg>  "
   ]
  },
  {
   "cell_type": "code",
   "execution_count": null,
   "metadata": {},
   "outputs": [],
   "source": [
    "%%svg\n",
    "<svg width=\"200px\" height=\"200px\">\n",
    "<path d=\"M 75 100 \n",
    "        A 25 45 0 1 0 100 145\" \n",
    "        stroke=\"none\" \n",
    "        fill=\"none\" \n",
    "        id=\"trazo\"/>\n",
    "        \n",
    "<text>\n",
    "    <textPath href=\"#trazo\">\n",
    "        sigue el trazo\n",
    "    </textPath>\n",
    "</text>\n",
    "</svg>"
   ]
  },
  {
   "cell_type": "markdown",
   "metadata": {},
   "source": [
    "<p style=\"text-align: center\"><a rel=\"license\" href=\"http://creativecommons.org/licenses/by/4.0/\"><img alt=\"Licencia Creative Commons\" style=\"border-width:0\" src=\"https://i.creativecommons.org/l/by/4.0/80x15.png\" /></a><br />Esta obra está bajo una <a rel=\"license\" href=\"http://creativecommons.org/licenses/by/4.0/\">Licencia Creative Commons Atribución 4.0 Internacional</a>.</p>\n",
    "<p style=\"text-align: center\">&copy; José Luis Chiquete Valdivieso. 2022.</p>"
   ]
  }
 ],
 "metadata": {
  "kernelspec": {
   "display_name": "Python 3 (ipykernel)",
   "language": "python",
   "name": "python3"
  },
  "language_info": {
   "codemirror_mode": {
    "name": "ipython",
    "version": 3
   },
   "file_extension": ".py",
   "mimetype": "text/x-python",
   "name": "python",
   "nbconvert_exporter": "python",
   "pygments_lexer": "ipython3",
   "version": "3.10.4"
  }
 },
 "nbformat": 4,
 "nbformat_minor": 2
}
