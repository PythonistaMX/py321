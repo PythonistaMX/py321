{
 "cells": [
  {
   "cell_type": "markdown",
   "metadata": {},
   "source": [
    "[![img/pythonista.png](img/pythonista.png)](https://www.pythonista.io)"
   ]
  },
  {
   "cell_type": "markdown",
   "metadata": {},
   "source": [
    "# Stacks en *D3.js*."
   ]
  },
  {
   "cell_type": "markdown",
   "metadata": {},
   "source": [
    "## Inicialización de *D3.js* en la *notebook*."
   ]
  },
  {
   "cell_type": "markdown",
   "metadata": {},
   "source": [
    "La siguiente celda permite habilitar *D3.js* dentro de esta *notebook* y debe de ser ejecutada siempre antes que cualquier otra celda. \n",
    "\n",
    "**Advertencia:**\n",
    "En caso de no inicializar *D3.js* como primera acción, es probable que el código de las siguientes celdas no funcione aún cuando se haga una inicialización posteriormente. En ese caso, es necesario limpiar todas las salidas de las celdas, guardar y recargar la *notebook*."
   ]
  },
  {
   "cell_type": "markdown",
   "metadata": {},
   "source": [
    "Un *stack* no espota cosa que una serie de datos apilados."
   ]
  },
  {
   "cell_type": "markdown",
   "metadata": {},
   "source": [
    "## La función ```d3.select.stack()```."
   ]
  },
  {
   "cell_type": "markdown",
   "metadata": {},
   "source": [
    "De forma similar a los *pie charts* la función ```d3.select.stack()``` genera un arreglo de *javascript* que a su vez contiene arreglos con coordenadas. Las coordenadas son construidas a partir de ```data```."
   ]
  },
  {
   "cell_type": "code",
   "execution_count": null,
   "metadata": {},
   "outputs": [],
   "source": [
    "%%javascript\n",
    "\n",
    "require.config({\n",
    "        paths: {\n",
    "            \"d3\": \"https://d3js.org/d3.v7\"\n",
    "        }\n",
    "    });"
   ]
  },
  {
   "cell_type": "markdown",
   "metadata": {},
   "source": [
    "https://github.com/d3/d3-shape#stacks"
   ]
  },
  {
   "cell_type": "code",
   "execution_count": null,
   "metadata": {},
   "outputs": [],
   "source": [
    "%%javascript\n",
    "\n",
    "require([\"d3\"], function(d3){ \n",
    "    d3.csv(\"data/covid-2021.csv\").then(function(data){\n",
    "        console.log(data)\n",
    "        ;\n",
    "    })\n",
    "})"
   ]
  },
  {
   "cell_type": "code",
   "execution_count": null,
   "metadata": {},
   "outputs": [],
   "source": [
    "%%javascript\n",
    "\n",
    "require([\"d3\"], function(d3){ \n",
    "    d3.csv(\"data/covid-2021.csv\").then(function(data){\n",
    "        \n",
    "        const pila = d3.stack().\n",
    "        keys([\"DISTRITO FEDERAL\", \"MEXICO\", \"JALISCO\", \"NUEVO LEON\"]).\n",
    "        order(d3.stackOrderNone).\n",
    "        offset(d3.stackOffsetNone);\n",
    "\n",
    "        const serie = pila(data);\n",
    "        console.log(serie);\n",
    "        \n",
    "        \n",
    "    })\n",
    "})"
   ]
  },
  {
   "cell_type": "code",
   "execution_count": null,
   "metadata": {},
   "outputs": [],
   "source": [
    "%%svg\n",
    "<svg width=\"500\" height=\"300\" id=\"svg-1\">\n",
    "</svg>"
   ]
  },
  {
   "cell_type": "code",
   "execution_count": null,
   "metadata": {},
   "outputs": [],
   "source": [
    "%%javascript\n",
    "\n",
    "require([\"d3\"], function(d3){\n",
    "    \n",
    "    /* Obtiene los datos de documento data/covid-2021.csv,\n",
    "      los guarda en data y a partir de ellos crea serie */\n",
    "    d3.csv(\"data/covid-2021.csv\").then(function(data){    \n",
    "        const pila = d3.stack().\n",
    "        keys([\"DISTRITO FEDERAL\", \"MEXICO\", \"JALISCO\", \"NUEVO LEON\"]).\n",
    "        order(d3.stackOrderNone).\n",
    "        offset(d3.stackOffsetNone);\n",
    "        const serie = pila(data);\n",
    "\n",
    "            \n",
    "        /* Se crea la escala lineal para el eje x. */\n",
    "        const escalaX = d3.scaleLinear().\n",
    "            domain([0, 364]).\n",
    "            range([0, 450]);\n",
    "    \n",
    "        /* Se define la función del eje x a partir de d3.axisBottom. */ \n",
    "        const ejeX = d3.axisBottom(escalaX);\n",
    "    \n",
    "        /* Se construye el eje x insertando un elemento <g>. */\n",
    "        d3.select(\"#svg-1\").\n",
    "        append(\"g\").\n",
    "        attr(\"transform\", \"translate(60, 255)\").\n",
    "        call(ejeX);\n",
    "       \n",
    "        /* Se crea la escala lineal. */\n",
    "        const escalaY = d3.scaleLinear().\n",
    "            domain([0, 12000]).\n",
    "            range([250, 0]);\n",
    "    \n",
    "        /* Se define la función del eje y a partir de d3.axisBottom. */ \n",
    "        const ejeY = d3.axisLeft(escalaY);\n",
    "    \n",
    "    \n",
    "        /* Se construye el eje y insertando un elemento <g>. */\n",
    "        d3.select(\"#svg-1\").\n",
    "            append(\"g\").\n",
    "            attr(\"transform\", \"translate(60, 5)\").\n",
    "            call(ejeY);\n",
    "    \n",
    "    let area = d3.area().\n",
    "        x((d, i) => escalaX(i)).\n",
    "        y0(d => escalaY(d[0])).\n",
    "        y1(d => escalaY(d[1]));\n",
    "            \n",
    "    for (let i = 0; i < serie.length; i++){\n",
    "        d3.select(\"#svg-1\").\n",
    "            append(\"g\").\n",
    "            attr(\"transform\", \"translate(60, 5)\").\n",
    "            append(\"path\").\n",
    "            attr(\"d\", area(serie[i])).\n",
    "            attr(\"fill\", \"none\").\n",
    "            attr(\"stroke\", \"purple\").\n",
    "            attr(\"stroke-width\", \"0.3\");\n",
    "        }\n",
    "    })\n",
    "})  \n",
    "\n"
   ]
  },
  {
   "cell_type": "code",
   "execution_count": null,
   "metadata": {},
   "outputs": [],
   "source": [
    "%%svg\n",
    "<svg width=\"500\" height=\"300\" id=\"svg-2\">\n",
    "</svg>"
   ]
  },
  {
   "cell_type": "code",
   "execution_count": null,
   "metadata": {},
   "outputs": [],
   "source": [
    "%%javascript\n",
    "\n",
    "require([\"d3\"], function(d3){\n",
    "    \n",
    "    /* Obtiene los datos de documento data/covid-2021.csv,\n",
    "      los guarda en data y a partir de ellos crea serie */\n",
    "    d3.csv(\"data/covid-2021.csv\").then(function(data){    \n",
    "        \n",
    "        const pila = d3.stack().\n",
    "        keys([\"DISTRITO FEDERAL\", \"MEXICO\", \"JALISCO\", \"NUEVO LEON\"]).\n",
    "        order(d3.stackOrderNone).\n",
    "        offset(d3.stackOffsetNone);\n",
    "        \n",
    "        const serie = pila(data);\n",
    "        \n",
    "        let parseTime = d3.timeParse(\"%Y-%m-%d\");\n",
    "            \n",
    "        /* Se crea la escala lineal para el eje x. */\n",
    "        const escalaX = d3.scaleTime().\n",
    "            domain([parseTime(\"2021-01-01\"), parseTime(\"2021-12-31\")]).\n",
    "            range([0, 450]);\n",
    "    \n",
    "        /* Se define la función del eje x a partir de d3.axisBottom. */ \n",
    "        const ejeX = d3.axisBottom(escalaX);\n",
    "    \n",
    "        /* Se construye el eje x insertando un elemento <g>. */\n",
    "        d3.select(\"#svg-2\").\n",
    "        append(\"g\").\n",
    "        attr(\"transform\", \"translate(60, 255)\").\n",
    "        style(\"font-size\", \"7px\").\n",
    "        call(ejeX);\n",
    "       \n",
    "        /* Se crea la escala lineal. */\n",
    "        const escalaY = d3.scaleLinear().\n",
    "            domain([0, 12000]).\n",
    "            range([250, 0]);\n",
    "    \n",
    "        /* Se define la función del eje y a partir de d3.axisBottom. */ \n",
    "        const ejeY = d3.axisLeft(escalaY);\n",
    "    \n",
    "    \n",
    "        /* Se construye el eje y insertando un elemento <g>. */\n",
    "        d3.select(\"#svg-2\").\n",
    "            append(\"g\").\n",
    "            attr(\"transform\", \"translate(60, 5)\").\n",
    "            call(ejeY);\n",
    "        \n",
    "        /* Se crea la escala lineal para los colores. */\n",
    "        const escalaColor = d3.scaleLinear().\n",
    "            domain([0, serie.length - 1]).\n",
    "            range([\"skyblue\", \"red\"]);\n",
    "    \n",
    "    let area = d3.area().\n",
    "        x((d, i) => escalaX(parseTime(data[i][\"index\"]))).\n",
    "        y0(d => escalaY(d[0])).\n",
    "        y1(d => escalaY(d[1])).\n",
    "        //curve(d3.curveBasis);\n",
    "        curve(d3.curveCatmullRom.alpha(0.5));\n",
    "            \n",
    "    for (let i = 0; i < serie.length; i++){\n",
    "        d3.select(\"#svg-2\").\n",
    "            append(\"g\").\n",
    "            attr(\"transform\", \"translate(60, 5)\").\n",
    "            append(\"path\").\n",
    "            attr(\"d\", area(serie[i])).\n",
    "            attr(\"fill\", escalaColor(i)).\n",
    "            attr(\"stroke\", \"black\").\n",
    "            attr(\"stroke-width\", \"0.3\");\n",
    "        }\n",
    "    })\n",
    "})  "
   ]
  },
  {
   "cell_type": "markdown",
   "metadata": {},
   "source": [
    "<p style=\"text-align: center\"><a rel=\"license\" href=\"http://creativecommons.org/licenses/by/4.0/\"><img alt=\"Licencia Creative Commons\" style=\"border-width:0\" src=\"https://i.creativecommons.org/l/by/4.0/80x15.png\" /></a><br />Esta obra está bajo una <a rel=\"license\" href=\"http://creativecommons.org/licenses/by/4.0/\">Licencia Creative Commons Atribución 4.0 Internacional</a>.</p>\n",
    "<p style=\"text-align: center\">&copy; José Luis Chiquete Valdivieso. 2022.</p>"
   ]
  }
 ],
 "metadata": {
  "kernelspec": {
   "display_name": "Python 3 (ipykernel)",
   "language": "python",
   "name": "python3"
  },
  "language_info": {
   "codemirror_mode": {
    "name": "ipython",
    "version": 3
   },
   "file_extension": ".py",
   "mimetype": "text/x-python",
   "name": "python",
   "nbconvert_exporter": "python",
   "pygments_lexer": "ipython3",
   "version": "3.10.4"
  }
 },
 "nbformat": 4,
 "nbformat_minor": 2
}
