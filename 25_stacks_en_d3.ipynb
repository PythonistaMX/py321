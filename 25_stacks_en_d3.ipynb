{
 "cells": [
  {
   "cell_type": "markdown",
   "metadata": {},
   "source": [
    "[![img/pythonista.png](img/pythonista.png)](https://www.pythonista.io)"
   ]
  },
  {
   "cell_type": "markdown",
   "metadata": {},
   "source": [
    "# Stacks en *D3.js*."
   ]
  },
  {
   "cell_type": "markdown",
   "metadata": {},
   "source": [
    "## Inicialización de *D3.js* en la *notebook*."
   ]
  },
  {
   "cell_type": "markdown",
   "metadata": {},
   "source": [
    "La siguiente celda permite habilitar *D3.js* dentro de esta *notebook* y debe de ser ejecutada siempre antes que cualquier otra celda. \n",
    "\n",
    "**Advertencia:**\n",
    "En caso de no inicializar *D3.js* como primera acción, es probable que el código de las siguientes celdas no funcione aún cuando se haga una inicialización posteriormente. En ese caso, es necesario limpiar todas las salidas de las celdas, guardar y recargar la *notebook*."
   ]
  },
  {
   "cell_type": "code",
   "execution_count": null,
   "metadata": {},
   "outputs": [],
   "source": [
    "%%javascript\n",
    "\n",
    "require.config({\n",
    "        paths: {\n",
    "            \"d3\": \"https://d3js.org/d3.v7\"\n",
    "        }\n",
    "    });"
   ]
  },
  {
   "cell_type": "code",
   "execution_count": null,
   "metadata": {},
   "outputs": [],
   "source": [
    "%%javascript\n",
    "\n",
    "require([\"d3\"], function(d3){ \n",
    "    d3.csv(\"data/covid-2021.csv\").then(function(data){\n",
    "        console.log(data)\n",
    "        ;\n",
    "    })\n",
    "})"
   ]
  },
  {
   "cell_type": "code",
   "execution_count": null,
   "metadata": {},
   "outputs": [],
   "source": [
    "%%javascript\n",
    "\n",
    "require([\"d3\"], function(d3){ \n",
    "    d3.csv(\"data/covid-2021.csv\").then(function(data){\n",
    "        \n",
    "        const stack = d3.stack().\n",
    "        keys([\"DISTRITO FEDERAL\", \"ESTADO DE MEXICO\", \"JALISCO\", \"NUEVO LEON\"]).\n",
    "        order(d3.stackOrderNone).\n",
    "        offset(d3.stackOffsetNone);\n",
    "\n",
    "        const series = stack(data);\n",
    "        console.log(series);\n",
    "        \n",
    "        \n",
    "    })\n",
    "})"
   ]
  },
  {
   "cell_type": "code",
   "execution_count": null,
   "metadata": {},
   "outputs": [],
   "source": [
    "%%svg\n",
    "<svg width=\"500\" height=\"300\" id=\"svg-1\">\n",
    "</svg>"
   ]
  },
  {
   "cell_type": "code",
   "execution_count": null,
   "metadata": {},
   "outputs": [],
   "source": [
    "%%javascript\n",
    "\n",
    "require([\"d3\"], function(d3){\n",
    "    \n",
    "    /* Se crea la escala lineal para el eje x. */\n",
    "    const escalaX = d3.scaleLinear().\n",
    "        domain([0, 10]).\n",
    "        range([0, 450]);\n",
    "    \n",
    "    /* Se define la función del eje x a partir de d3.axisBottom. */ \n",
    "    const ejeX = d3.axisBottom(escalaX);\n",
    "    \n",
    "    /* Se construye el eje x insertando un elemento <g>. */\n",
    "    d3.select(\"#svg-4\").\n",
    "        append(\"g\").\n",
    "        attr(\"transform\", \"translate(30, 255)\").\n",
    "        call(ejeX);\n",
    "       \n",
    "    /* Se crea la escala lineal. */\n",
    "    const escalaY = d3.scaleLinear().\n",
    "        domain([0, 70]).\n",
    "        range([250, 0]);\n",
    "    \n",
    "    /* Se define la función del eje y a partir de d3.axisBottom. */ \n",
    "    const ejeY = d3.axisLeft(escalaY);\n",
    "    \n",
    "    \n",
    "    /* Se construye el eje y insertando un elemento <g>. */\n",
    "    d3.select(\"#svg-4\").\n",
    "        append(\"g\").\n",
    "        attr(\"transform\", \"translate(30, 5)\").\n",
    "        call(ejeY);\n",
    "\n",
    "    \n",
    "    const datos = [[1, 23], [2, 14], [3 , 35], [4, 42], [5, 21], \n",
    "           [6, 27], [7, 51], [8, 18], [9, 41], [10, 30]];\n",
    "   \n",
    "    \n",
    "    /* Se ajustan los datos a la escala */\n",
    "    let data = [];\n",
    "    for (let dato of datos){\n",
    "        let x = escalaX(dato[0]);\n",
    "        let y = escalaY(dato[1]);\n",
    "        console.log(x, y);\n",
    "        data.push([x, y]);\n",
    "    }\n",
    "\n",
    "        \n",
    "    let linea = d3.line().\n",
    "        curve(d3.curveBasisClosed);\n",
    "            \n",
    "    d3.select(\"#svg-4\").\n",
    "        append(\"g\").\n",
    "        attr(\"transform\", \"translate(30, 5)\").\n",
    "        append(\"path\").\n",
    "        attr(\"d\", linea(data)).\n",
    "        attr(\"stroke\", \"black\").\n",
    "        attr(\"fill\", \"none\");\n",
    "})"
   ]
  },
  {
   "cell_type": "markdown",
   "metadata": {},
   "source": [
    "<p style=\"text-align: center\"><a rel=\"license\" href=\"http://creativecommons.org/licenses/by/4.0/\"><img alt=\"Licencia Creative Commons\" style=\"border-width:0\" src=\"https://i.creativecommons.org/l/by/4.0/80x15.png\" /></a><br />Esta obra está bajo una <a rel=\"license\" href=\"http://creativecommons.org/licenses/by/4.0/\">Licencia Creative Commons Atribución 4.0 Internacional</a>.</p>\n",
    "<p style=\"text-align: center\">&copy; José Luis Chiquete Valdivieso. 2022.</p>"
   ]
  }
 ],
 "metadata": {
  "kernelspec": {
   "display_name": "Python 3 (ipykernel)",
   "language": "python",
   "name": "python3"
  },
  "language_info": {
   "codemirror_mode": {
    "name": "ipython",
    "version": 3
   },
   "file_extension": ".py",
   "mimetype": "text/x-python",
   "name": "python",
   "nbconvert_exporter": "python",
   "pygments_lexer": "ipython3",
   "version": "3.10.4"
  }
 },
 "nbformat": 4,
 "nbformat_minor": 2
}
