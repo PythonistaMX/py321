{
 "cells": [
  {
   "cell_type": "markdown",
   "metadata": {},
   "source": [
    "[![imagenes/pythonista.png](imagenes/pythonista.png)](https://pythonista.io)"
   ]
  },
  {
   "cell_type": "markdown",
   "metadata": {},
   "source": [
    "El *Lenguaje de Marcas de Hipertexto* (HTML) permite crear documentos cuya estructura puede contener:\n",
    "\n",
    "* Texto.\n",
    "* Imágenes.\n",
    "* Hipervínculos.\n",
    "* Formas.\n",
    "* Contenido de medios (video, audio, etc.)."
   ]
  },
  {
   "cell_type": "markdown",
   "metadata": {},
   "source": [
    "**NOTA:**\n",
    "La comunidad Pythonista<sup>®</sup> ha publicado el pycd101: \"HTML5, CSS3 y Javascript desde cero\" cuyos apuntes están disponibles en:\n",
    "\n",
    "https://github.com/PythonistasMX/pycd101"
   ]
  },
  {
   "cell_type": "markdown",
   "metadata": {},
   "source": [
    "## Elementos de HTML.\n",
    "\n",
    "HTML, al igual que otros lenguajes como XML y SGML utiliza \"etiquetas\" o \"tags\"  para definir los elementos dentro de un documento.\n",
    "\n",
    "La especificación define diversas etiquetas para cada elemento de HTML.\n",
    "\n",
    "Un elemento de HTML debe de estar conformado por:\n",
    "* Etiquetas.\n",
    "* Atributos.\n",
    "* Texto.\n",
    "* Otros elementos HTML.\n",
    "\n",
    "Por lo general un elemento está delimitado por una etiqueta de apertura y una de cierre.\n",
    "Dentro de la etiqueta de apertura se pueden definir los atributos de un elemento.\n",
    "\n",
    "La sintaxis como la siguiente:\n",
    "\n",
    "```\n",
    "<(tipo de elemento) (atributos)> (texto) (otros elementos) </(tipo de elemento)>\n",
    "```\n",
    "\n",
    "En algunos casos, el elemento no contiene texto ni algún otro elemento, por lo que sólo se requiere de una etiqueta con la siguente sintaxis indicando que es una etiqueta de apertura y cierre:\n",
    "\n",
    "```\n",
    "<(tipo de elemento)/>\n",
    "```\n",
    "\n",
    "### Atributos.\n",
    "\n",
    "Los atributos crresponden a las características que puede tener un elemento y se definen de la siguiente forma:\n",
    "\n",
    "```\n",
    "(atributo) = \"(valor)\"\n",
    "```\n",
    "\n",
    "Puede consultar la lista de todos los atributos disponibles en https://www.w3schools.com/tags/ref_attributes.asp.\n",
    "\n",
    "### Legibilidad.\n",
    "\n",
    "Los navegadores no reconocen los caracteres de retorno de línea, por lo que es posible crear un documento HTML completo en una sola línea, sin embargo eso no es muy legible para un ser hgumanso, por lo que se recomienda el uso de saltos de línea e indentación."
   ]
  },
  {
   "cell_type": "markdown",
   "metadata": {},
   "source": [
    "**Ejemplos:**\n",
    "\n",
    "* El siguiente código crea una liga a https://pythonista.io al seleccionar el texto \"*Nuestro sitio*\":"
   ]
  },
  {
   "cell_type": "code",
   "execution_count": null,
   "metadata": {},
   "outputs": [],
   "source": [
    "%%html\n",
    "<a href=\"https://pythonista.io\">Nuestro sitio.</a>\n"
   ]
  },
  {
   "cell_type": "markdown",
   "metadata": {},
   "source": [
    "* El siguiente código crea varios párrafos que contiene texto con diversos elementos HTML:*"
   ]
  },
  {
   "cell_type": "code",
   "execution_count": null,
   "metadata": {},
   "outputs": [],
   "source": [
    "%%html\n",
    "<p>Este es un párrafo que incluye retornos de línea,<br/>\n",
    "<b>texto en negritas</b><br/>\n",
    "<sub>subíndices</sub> junto con <sup>superíndices</sup><br/>\n",
    "    y algunas cosas más.</p>"
   ]
  },
  {
   "cell_type": "markdown",
   "metadata": {},
   "source": [
    "## Elementos de bloque (*block)* y elementos dentro de línea (*inline*).\n",
    "\n",
    "Los elementos HTML pueden ser de tipo *inline* o *block*."
   ]
  },
  {
   "cell_type": "markdown",
   "metadata": {},
   "source": [
    "### Elementos de bloque (*block*).\n",
    "\n",
    "Los elementos de bloque crean estructuras de un documento HTML que sólo pueden ser apiladas una después de otra y quenpueden contener cualquier cantidad de elementos inline dentro de éste."
   ]
  },
  {
   "cell_type": "markdown",
   "metadata": {},
   "source": [
    "Algunos elementos de bloque pueden ser *&lt;h1&gt;*, *&lt;h2&gt;*, *&lt;h3&gt;*, *&lt;h4&gt;*, *&lt;p&gt;*, *&lt;ul&gt;*, *&lt;ol&gt;*, *&lt;li&gt;* entre otros."
   ]
  },
  {
   "cell_type": "markdown",
   "metadata": {},
   "source": [
    "**Ejemplo:**\n",
    "    \n",
    "Se incluirán elementos *&lt;h4&gt;*, *&lt;p&gt;*, *&lt;ul&gt;* y *&lt;li&gt;*."
   ]
  },
  {
   "cell_type": "code",
   "execution_count": null,
   "metadata": {},
   "outputs": [],
   "source": [
    "%%html\n",
    "<h4>Ejemplo de elementos de bloque.</h4>\n",
    "<p>Un bloque implica lo siguiente:</p>\n",
    "<ul>\n",
    "    <li>Pueden contener elementos inline.</li>\n",
    "    <li>Se apilan uno sobre otro de forma secuencial.</li>\n",
    "    <li> Por lo tanto, los elementos de bloque, no se pueden poner al lado de otro.</li>\n",
    "</ul>"
   ]
  },
  {
   "cell_type": "markdown",
   "metadata": {},
   "source": [
    "### Elementos *inline*.\n",
    "Existen elementos HTMl que pueden ser colocados dentro de una sola línea junto con otros elementos e incluso texto. Dichos ele\n",
    "\n",
    "Algunos elementos inline son *&lt;b&gt;*, *&lt;em&gt;*, *&lt;i&gt;*, *&lt;a&gt;* e incluso *&lt;br&gt;* entre muchos otros."
   ]
  },
  {
   "cell_type": "markdown",
   "metadata": {},
   "source": [
    "**Ejemplo:**\n",
    "    \n",
    "Se incluirán elementos *&lt;b&gt;*, *&lt;i&gt;*, *&lt;a&gt;* y *&lt;br&gt;* dentro de un elemento *&lt;p&gt;*."
   ]
  },
  {
   "cell_type": "code",
   "execution_count": null,
   "metadata": {},
   "outputs": [],
   "source": [
    "%%html\n",
    "<p> Los elementos <i><b>inline</i></b> permiten ser insertados dentro \n",
    "de un elemento de bloque de forma contigua.\n",
    "Incluso se pueden agregar<br/>retornos de carro y <a href=\"https://pythonist.io\">ligas</a> \n",
    "dentro de un elemento de bloque.</p>\n"
   ]
  },
  {
   "cell_type": "markdown",
   "metadata": {},
   "source": [
    "## identificación de elementos o grupo de elementos.\n",
    "\n",
    "Es posible identificar y seleccionar a uno o varios elementos dentro de un documento HTML mediante los atributos *id* y *class*."
   ]
  },
  {
   "cell_type": "markdown",
   "metadata": {},
   "source": [
    "###  El atributo *id*.\n",
    "\n",
    "Este atributo permite identificar a uno y sólo un elemento en el documento al asignarle un iderntificador único.\n",
    "\n",
    "```\n",
    "< (elemento) id=\"(identificador)\" (atributos)>\n",
    "...\n",
    "</(elemento)>\n",
    "```"
   ]
  },
  {
   "cell_type": "markdown",
   "metadata": {},
   "source": [
    "**Ejemplo:**\n",
    "\n",
    "A continuación se crean varios elementos de tipo *&lt;p&gt;* y a uno de ellos se le asigna el identificador *parrafo*. "
   ]
  },
  {
   "cell_type": "code",
   "execution_count": null,
   "metadata": {},
   "outputs": [],
   "source": [
    "%%html\n",
    "<p>Este es un párrafo genérico.</p>\n",
    "<p id=\"parrafo\">Este es un párrafo con un atributo id.</p>\n",
    "<p>Este es otro párrafo genérico.</p> "
   ]
  },
  {
   "cell_type": "markdown",
   "metadata": {},
   "source": [
    "En la siguiente celda se definirá un estilo para el elemento con identificador *parrafo*. Una vez ejecutada dicha celda, este cambio afectará exclusivamente al párrafo seleccionado.\n",
    "\n",
    "Las hojas de estilo utilizan \"selectores\" para elementos con atributos *id* anteponiendo el signo \"*#*\" al nombre del identificador."
   ]
  },
  {
   "cell_type": "code",
   "execution_count": null,
   "metadata": {},
   "outputs": [],
   "source": [
    "%%html\n",
    "<style>\n",
    "    #parrafo {\n",
    "        font-size: 150%;\n",
    "        color: blue;\n",
    "    }\n",
    "</style>"
   ]
  },
  {
   "cell_type": "markdown",
   "metadata": {},
   "source": [
    "###  El atributo *class*.\n",
    "\n",
    "Este atributo permite identificar a uno o varios un elementos en el documento al asignarle un identificador compartido a cada elemento.\n",
    "\n",
    "```\n",
    "< (elemento) class=\"(identificador)\" (atributos)>\n",
    "...\n",
    "</(elemento)>\n",
    "```"
   ]
  },
  {
   "cell_type": "markdown",
   "metadata": {},
   "source": [
    "**Ejemplo:**\n",
    "\n",
    "A continuación se crean varios elemento y a algunos de ellos se les asigna una clase con identificador *remarcado*."
   ]
  },
  {
   "cell_type": "code",
   "execution_count": null,
   "metadata": {
    "scrolled": true
   },
   "outputs": [],
   "source": [
    "%%html\n",
    "<h4 class=\"remarcado\">Este es un ejemplo del uso del atributo <em>class</em>.</h4>\n",
    "<p> Los identificadores de los atributos class pueden ser compartidos por varios elementos \n",
    "en el documento.</p>\n",
    "<ul>\n",
    "    <li> Solo es necesario asignar el identificador al atributo.</li>\n",
    "    <li class=\"remarcado\">El identificador de <em>class</em> puede aplicarse a elementos \n",
    "    de distinto tipo.</li>\n",
    "    <li> El resto de los elementos no es afectado por los cambios de la clase.</li>\n",
    "</ul>"
   ]
  },
  {
   "cell_type": "markdown",
   "metadata": {},
   "source": [
    "En la siguiente celda se definirá un estilo para los elementos de la clase *mejorado*. Una vez ejecutada dicha celda, este cambio afectará exclusivamente a los elementos que comparten dicha clase.\n",
    "\n",
    "Las hojas de estilo utilizan \"selectores\" para elementos con atributos *class* anteponiendo el punto \"*.*\" al nombre del identificador."
   ]
  },
  {
   "cell_type": "code",
   "execution_count": null,
   "metadata": {},
   "outputs": [],
   "source": [
    "%%html\n",
    "<style>\n",
    "    .remarcado {\n",
    "        color: red;\n",
    "    }\n",
    "</style>"
   ]
  },
  {
   "cell_type": "markdown",
   "metadata": {},
   "source": [
    "<p style=\"text-align: center\"><a rel=\"license\" href=\"http://creativecommons.org/licenses/by/4.0/\"><img alt=\"Licencia Creative Commons\" style=\"border-width:0\" src=\"https://i.creativecommons.org/l/by/4.0/80x15.png\" /></a><br />Esta obra está bajo una <a rel=\"license\" href=\"http://creativecommons.org/licenses/by/4.0/\">Licencia Creative Commons Atribución 4.0 Internacional</a>.</p>\n",
    "<p style=\"text-align: center\">&copy; José Luis Chiquete Valdivieso. 2019.</p>"
   ]
  }
 ],
 "metadata": {
  "kernelspec": {
   "display_name": "Python 3",
   "language": "python",
   "name": "python3"
  },
  "language_info": {
   "codemirror_mode": {
    "name": "ipython",
    "version": 3
   },
   "file_extension": ".py",
   "mimetype": "text/x-python",
   "name": "python",
   "nbconvert_exporter": "python",
   "pygments_lexer": "ipython3",
   "version": "3.6.5"
  }
 },
 "nbformat": 4,
 "nbformat_minor": 2
}
