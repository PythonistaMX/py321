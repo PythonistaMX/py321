{
 "cells": [
  {
   "cell_type": "markdown",
   "metadata": {},
   "source": [
    "[![img/pythonista.png](img/pythonista.png)](https://www.pythonista.io)"
   ]
  },
  {
   "cell_type": "markdown",
   "metadata": {},
   "source": [
    "# Transformaciones en *SVG*."
   ]
  },
  {
   "cell_type": "markdown",
   "metadata": {},
   "source": [
    "## Agrupamiento."
   ]
  },
  {
   "cell_type": "markdown",
   "metadata": {},
   "source": [
    "La etiqueta ```<g>``` permite agrupar en un solo objeto varios objetos *svg*. "
   ]
  },
  {
   "cell_type": "markdown",
   "metadata": {},
   "source": [
    "**Ejemplo:**"
   ]
  },
  {
   "cell_type": "markdown",
   "metadata": {},
   "source": [
    "* La siguente celda define un objeto ```<g>``` con ```id=\"grupo-1\"```.\n",
    "* El objeto contiene un trazo y un círculo."
   ]
  },
  {
   "cell_type": "code",
   "execution_count": null,
   "metadata": {
    "scrolled": true
   },
   "outputs": [],
   "source": [
    "%%svg\n",
    "<svg width=\"50\" height=\"50\">\n",
    "    <g id=\"grupo-1\">\n",
    "        <path d=\"M 25 0 \n",
    "            L 10 20 \n",
    "            20 20 \n",
    "            20 35 \n",
    "            30 35 \n",
    "            30 20\n",
    "            40 20 Z\" \n",
    "            fill=\"gray\"\n",
    "            stroke=\"skyblue\"/>\n",
    "    \n",
    "        <circle cx=\"25\" cy=\"35\" r=\"5\" fill=\"gray\" />\n",
    "    </g>\n",
    "</svg>"
   ]
  },
  {
   "cell_type": "markdown",
   "metadata": {},
   "source": [
    "* La siguiente celda eliminará al objeto con ```id``` igual a ```\"grupo-1\"``` y después de 5 segundo, lo restaurará."
   ]
  },
  {
   "cell_type": "code",
   "execution_count": null,
   "metadata": {},
   "outputs": [],
   "source": [
    "%%javascript\n",
    "\n",
    "let flecha = document.getElementById(\"grupo-1\");\n",
    "let svg = flecha.parentElement;\n",
    "console.log(svg);\n",
    "svg.removeChild(flecha);\n",
    "setTimeout(() => {  svg.append(flecha); }, 5000);"
   ]
  },
  {
   "cell_type": "markdown",
   "metadata": {},
   "source": [
    "## Transformaciones.\n",
    "\n",
    "```\n",
    "transform=\"<funciones>\"\n",
    "```\n",
    "Donde:\n",
    "\n",
    "* ```<funciones>``` es una sucesion de funciones de transformación."
   ]
  },
  {
   "cell_type": "markdown",
   "metadata": {},
   "source": [
    "## Funciones de transformación.,\n",
    "\n",
    "* ```translate()```\n",
    "* ```rotate()```\n",
    "* ```scale()```\n",
    "* ```skewX()```\n",
    "* ```skewY()```"
   ]
  },
  {
   "cell_type": "markdown",
   "metadata": {},
   "source": [
    "### La función ```translate()```.\n",
    "\n",
    "Esta función desplazará al objeto en las magnitudes indicadas.\n",
    "```\n",
    "translate(<x>, <y>)\n",
    "```"
   ]
  },
  {
   "cell_type": "markdown",
   "metadata": {},
   "source": [
    "### La función ```rotate()```.\n",
    "\n",
    "Esta función rotará en el ángulo indicado (grados es la unidad por defecto) usando como punto de rotación la coordenada definida en *x* y *y*\n",
    ".\n",
    "```\n",
    "rotate(<a>, <x>, <y>)\n",
    "```\n",
    "\n"
   ]
  },
  {
   "cell_type": "markdown",
   "metadata": {},
   "source": [
    "### La función ```scale()```.\n",
    "\n",
    "```\n",
    "scale(<x>, <y>)\n",
    "```"
   ]
  },
  {
   "cell_type": "markdown",
   "metadata": {},
   "source": [
    "**Ejemplo:***"
   ]
  },
  {
   "cell_type": "markdown",
   "metadata": {},
   "source": [
    "* La siguiente celda trazará una flecha."
   ]
  },
  {
   "cell_type": "code",
   "execution_count": null,
   "metadata": {
    "scrolled": true
   },
   "outputs": [],
   "source": [
    "%%svg\n",
    "<svg width=\"50\" height=\"50\">\n",
    "<g id=\"grupo-2\">\n",
    "<path d=\"M 25 0 \n",
    "    L 10 20 \n",
    "    20 20 \n",
    "    20 35 \n",
    "    30 35 \n",
    "    30 20\n",
    "    40 20 Z\" \n",
    "    fill=\"gray\"\n",
    "    stroke=\"skyblue\"/>\n",
    "</g>\n",
    "</svg>"
   ]
  },
  {
   "cell_type": "markdown",
   "metadata": {},
   "source": [
    "* La siguiente celda modificará el atributo ```transform``` del objeto con ```ìd``` igual a ``grupo-2```.\n",
    "   * Lo rotará 90 grados en el sentido de las manecillas del reloj, tomando como punto de rotación (```25```,```35```).\n",
    "   * Lo moverá ```10```unidades en el eje de las ```y```original. "
   ]
  },
  {
   "cell_type": "code",
   "execution_count": null,
   "metadata": {},
   "outputs": [],
   "source": [
    "%%javascript\n",
    "let flecha = document.getElementById(\"grupo-2\");\n",
    "flecha.setAttribute(\"transform\", \"translate(0, 10)\");\n",
    "setTimeout(() => {  \n",
    "    flecha.setAttribute(\"transform\",\"rotate(90, 25, 35)\");\n",
    "    }, 3000);\n",
    "setTimeout(() => {  \n",
    "    flecha.setAttribute(\"transform\",\"rotate(90, 25, 35) translate(0, 10)\"); \n",
    "    }, 3000);\n"
   ]
  },
  {
   "cell_type": "markdown",
   "metadata": {},
   "source": [
    "## Elementos predefindos."
   ]
  },
  {
   "cell_type": "markdown",
   "metadata": {},
   "source": [
    "*SVG* nos permite definir objetos que no será trazados de inmediato, pero que puededn ser \"llamados\" postreriormente. \n",
    "\n",
    "\n",
    "\n",
    "\n",
    "https://developer.mozilla.org/en-US/docs/Web/SVG/Element/defs"
   ]
  },
  {
   "cell_type": "markdown",
   "metadata": {},
   "source": [
    "###  La etiqueta ```<defs>```.\n",
    "\n",
    " La etiqueta ```<defs>``` perimte definir objetos que no seán trazados de inmediato.\n",
    " \n",
    " ```\n",
    " <defs>\n",
    " (objetos SVG)\n",
    " </defs>\n",
    " ```"
   ]
  },
  {
   "cell_type": "markdown",
   "metadata": {},
   "source": [
    "###  La etiqueta ```<use>```.\n",
    "\n",
    " La etiqueta ```<use>``` perimte trazar un objeto definido dentro de ```<defs>```.\n",
    " \n",
    " ```\n",
    " <use href=\"#(referido)\">\n",
    " ```\n",
    " \n",
    " Donde:\n",
    " \n",
    " * ```(referido)``` es el ```id```del objeto a trazar."
   ]
  },
  {
   "cell_type": "code",
   "execution_count": null,
   "metadata": {},
   "outputs": [],
   "source": [
    "%%svg\n",
    "<svg width=\"50\" height=\"50\" id=\"svg-1\">\n",
    "    <defs>\n",
    "        <g id=\"grupo-3\">\n",
    "            <path d=\"M 25 0 \n",
    "                L 10 20 \n",
    "                20 20 \n",
    "                20 35 \n",
    "                30 35 \n",
    "                30 20\n",
    "                40 20 Z\" \n",
    "            fill=\"gray\"\n",
    "            stroke=\"skyblue\"/>\n",
    "        </g>\n",
    "    </defs>\n",
    "    \n",
    "</svg>\n",
    "\n"
   ]
  },
  {
   "cell_type": "code",
   "execution_count": null,
   "metadata": {},
   "outputs": [],
   "source": [
    "%%javascript\n",
    "\n",
    "let otra_flecha = document.getElementById(\"grupo-3\");\n",
    "document.getElementById(\"svg-1\").appendChild(otra_flecha);"
   ]
  },
  {
   "cell_type": "code",
   "execution_count": null,
   "metadata": {},
   "outputs": [],
   "source": [
    "%%svg\n",
    "<svg width=\"50\" height=\"50\" id=\"svg-2\">\n",
    "    <defs>\n",
    "        <g id=\"grupo-4\">\n",
    "            <path d=\"M 25 0 \n",
    "                L 10 20 \n",
    "                20 20 \n",
    "                20 35 \n",
    "                30 35 \n",
    "                30 20\n",
    "                40 20 Z\" \n",
    "            fill=\"gray\"\n",
    "            stroke=\"skyblue\"/>\n",
    "        </g>\n",
    "    </defs>\n",
    "    <use href=\"#grupo-4\"/>\n",
    "</svg>"
   ]
  },
  {
   "cell_type": "markdown",
   "metadata": {},
   "source": [
    "<p style=\"text-align: center\"><a rel=\"license\" href=\"http://creativecommons.org/licenses/by/4.0/\"><img alt=\"Licencia Creative Commons\" style=\"border-width:0\" src=\"https://i.creativecommons.org/l/by/4.0/80x15.png\" /></a><br />Esta obra está bajo una <a rel=\"license\" href=\"http://creativecommons.org/licenses/by/4.0/\">Licencia Creative Commons Atribución 4.0 Internacional</a>.</p>\n",
    "<p style=\"text-align: center\">&copy; José Luis Chiquete Valdivieso. 2022.</p>"
   ]
  }
 ],
 "metadata": {
  "kernelspec": {
   "display_name": "Python 3 (ipykernel)",
   "language": "python",
   "name": "python3"
  },
  "language_info": {
   "codemirror_mode": {
    "name": "ipython",
    "version": 3
   },
   "file_extension": ".py",
   "mimetype": "text/x-python",
   "name": "python",
   "nbconvert_exporter": "python",
   "pygments_lexer": "ipython3",
   "version": "3.10.4"
  }
 },
 "nbformat": 4,
 "nbformat_minor": 2
}
