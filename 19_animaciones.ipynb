{
 "cells": [
  {
   "cell_type": "markdown",
   "metadata": {},
   "source": [
    "[![img/pythonista.png](img/pythonista.png)](https://www.pythonista.io)"
   ]
  },
  {
   "cell_type": "markdown",
   "metadata": {},
   "source": [
    "# Animaciones en *SVG*."
   ]
  },
  {
   "cell_type": "markdown",
   "metadata": {},
   "source": [
    "## Atributos."
   ]
  },
  {
   "cell_type": "markdown",
   "metadata": {},
   "source": [
    "### Atributos de tiempo.\n",
    "\n",
    "* [```begin```](https://developer.mozilla.org/en-US/docs/Web/SVG/Attribute/begin)\n",
    "* [```dur```](https://developer.mozilla.org/en-US/docs/Web/SVG/Attribute/dur) \n",
    "* [```end```](https://developer.mozilla.org/en-US/docs/Web/SVG/Attribute/end)\n",
    "* [```min```](https://developer.mozilla.org/en-US/docs/Web/SVG/Attribute/min)\n",
    "* [```max```](https://developer.mozilla.org/en-US/docs/Web/SVG/Attribute/max)\n",
    "* [```restart```](https://developer.mozilla.org/en-US/docs/Web/SVG/Attribute/retart) \n",
    "* [```repeatCount```](https://developer.mozilla.org/en-US/docs/Web/SVG/Attribute/repeatCount) \n",
    "* [```repeatDur```](https://developer.mozilla.org/en-US/docs/Web/SVG/Attribute/repeatDur)\n",
    "* [```fill```](https://developer.mozilla.org/en-US/docs/Web/SVG/Attribute/fill)"
   ]
  },
  {
   "cell_type": "code",
   "execution_count": null,
   "metadata": {},
   "outputs": [],
   "source": []
  },
  {
   "cell_type": "markdown",
   "metadata": {},
   "source": [
    "### Atributos de valor.\n",
    "\n",
    "* [```from```](https://developer.mozilla.org/en-US/docs/Web/SVG/Attribute/from)\n",
    "* [```to```](https://developer.mozilla.org/en-US/docs/Web/SVG/Attribute/to)\n",
    "* [```values```](https://developer.mozilla.org/en-US/docs/Web/SVG/Attribute/values)\n",
    "* [```by```](https://developer.mozilla.org/en-US/docs/Web/SVG/Attribute/by)"
   ]
  },
  {
   "cell_type": "markdown",
   "metadata": {},
   "source": [
    "## La etiqueta ```<animate>```."
   ]
  },
  {
   "cell_type": "code",
   "execution_count": null,
   "metadata": {},
   "outputs": [],
   "source": [
    "%%svg\n",
    "<svg width=\"500\" height=\"100\">\n",
    "\n",
    "<circle cy=\"50\" cx=\"50\" fill=\"gray\" stroke=\"skyblue\">\n",
    "  <animate attributeName=\"r\" from=\"5\" to=\"30\" fill=\"freeze\" dur=\"10s\"/>\n",
    "</circle>\n",
    "</svg>"
   ]
  },
  {
   "cell_type": "code",
   "execution_count": null,
   "metadata": {},
   "outputs": [],
   "source": [
    "%%svg\n",
    "<svg width=\"500\" height=\"100\">\n",
    "\n",
    "<circle cy=\"50\"  fill=\"gray\" stroke=\"skyblue\">\n",
    "  <animate attributeName=\"cx\" from=\"0\" to=\"500\" fill=\"freeze\" dur=\"15s\"/>\n",
    "  <animate attributeName=\"r\" values=\"5;30;5;25;2\" fill=\"freeze\" dur=\"10s\"/>\n",
    "</circle>\n",
    "</svg>"
   ]
  },
  {
   "cell_type": "markdown",
   "metadata": {},
   "source": [
    "## La etiqueta ```animateMotion```."
   ]
  },
  {
   "cell_type": "markdown",
   "metadata": {},
   "source": [
    "https://developer.mozilla.org/en-US/docs/Web/SVG/Element/animateMotion"
   ]
  },
  {
   "cell_type": "code",
   "execution_count": null,
   "metadata": {},
   "outputs": [],
   "source": [
    "%%svg\n",
    "<svg width=\"500\" height=\"100\">\n",
    "<path fill=\"none\" stroke=\"lightgrey\"\n",
    "    d=\"M20,50 C20,-50 180,150 180,50 C180-50 20,150 20,50 z\" />\n",
    "\n",
    "  <circle r=\"5\" fill=\"red\">\n",
    "    <animateMotion dur=\"10s\" repeatCount=\"indefinite\"\n",
    "      path=\"M20,50 C20,-50 180,150 180,50 C180-50 20,150 20,50 z\" />\n",
    "  </circle>\n",
    "</svg>"
   ]
  },
  {
   "cell_type": "markdown",
   "metadata": {},
   "source": [
    "## La etiqueta ```animateTransform```."
   ]
  },
  {
   "cell_type": "markdown",
   "metadata": {},
   "source": [
    "https://developer.mozilla.org/en-US/docs/Web/SVG/Element/animateTransform"
   ]
  },
  {
   "cell_type": "code",
   "execution_count": null,
   "metadata": {},
   "outputs": [],
   "source": [
    "%%svg\n",
    "<svg width=\"100\" height=\"50\">\n",
    "<g id=\"grupo-1\">\n",
    "    <path d=\"M 25 0 \n",
    "        L 10 20 \n",
    "        20 20 \n",
    "        20 35 \n",
    "        30 35 \n",
    "        30 20\n",
    "        40 20 Z\" \n",
    "        fill=\"gray\"\n",
    "        stroke=\"skyblue\"/>\n",
    "    \n",
    "    <circle cx=\"25\" cy=\"35\" r=\"5\" fill=\"gray\" />\n",
    "        \n",
    "        \n",
    "    <animateTransform attributeName=\"transform\"\n",
    "        attributeType=\"XML\"\n",
    "        type=\"rotate\"\n",
    "        from=\"0 0 0\"\n",
    "        to=\"90, 25, 35\"\n",
    "        dur=\"10s\"\n",
    "        repeatCount=\"indefinite\"/>\n",
    "</g>\n",
    "</svg>"
   ]
  },
  {
   "cell_type": "code",
   "execution_count": null,
   "metadata": {},
   "outputs": [],
   "source": [
    "%%svg\n",
    "<svg width=\"500\" height=\"200\">\n",
    "<g>\n",
    "   <animateTransform attributeName=\"transform\" attributeType=\"XML\"\n",
    "       type=\"rotate\" values=\"2 100 100;-1 100 100;1 100 100;-0.5 100 100;0.5 100 100\" repeatCount=\"indefinite\" dur=\"10s\" fill=\"freeze\" />\n",
    "\n",
    "   <animateTransform attributeName=\"transform\" attributeType=\"XML\"\n",
    "                      type=\"scale\" values=\"1;4;1\" repeatCount=\"indefinite\" dur=\"5s\" fill=\"freeze\" additive=\"sum\"/>\n",
    "\n",
    "   <animateTransform attributeName=\"transform\" attributeType=\"XML\"\n",
    "                      type=\"translate\" values=\"0 0;100 50;0 0\" repeatCount=\"indefinite\" dur=\"10s\" fill=\"freeze\" additive=\"sum\"/>\n",
    "\n",
    "   <image x=\"0\" y=\"0\" width=\"50\" height=\"50\"  href=\"img/pythonista.png\" />\n",
    "</g>\n",
    "</svg>"
   ]
  },
  {
   "cell_type": "markdown",
   "metadata": {},
   "source": [
    "<p style=\"text-align: center\"><a rel=\"license\" href=\"http://creativecommons.org/licenses/by/4.0/\"><img alt=\"Licencia Creative Commons\" style=\"border-width:0\" src=\"https://i.creativecommons.org/l/by/4.0/80x15.png\" /></a><br />Esta obra está bajo una <a rel=\"license\" href=\"http://creativecommons.org/licenses/by/4.0/\">Licencia Creative Commons Atribución 4.0 Internacional</a>.</p>\n",
    "<p style=\"text-align: center\">&copy; José Luis Chiquete Valdivieso. 2022.</p>"
   ]
  }
 ],
 "metadata": {
  "kernelspec": {
   "display_name": "Python 3 (ipykernel)",
   "language": "python",
   "name": "python3"
  },
  "language_info": {
   "codemirror_mode": {
    "name": "ipython",
    "version": 3
   },
   "file_extension": ".py",
   "mimetype": "text/x-python",
   "name": "python",
   "nbconvert_exporter": "python",
   "pygments_lexer": "ipython3",
   "version": "3.10.4"
  }
 },
 "nbformat": 4,
 "nbformat_minor": 2
}
