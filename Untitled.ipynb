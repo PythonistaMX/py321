{
 "cells": [
  {
   "cell_type": "code",
   "execution_count": null,
   "id": "d2d22554",
   "metadata": {},
   "outputs": [],
   "source": [
    "import pandas as pd\n",
    "from datetime import datetime"
   ]
  },
  {
   "cell_type": "code",
   "execution_count": null,
   "id": "1806a9b2",
   "metadata": {},
   "outputs": [],
   "source": [
    "help(datetime.month)"
   ]
  },
  {
   "cell_type": "code",
   "execution_count": null,
   "id": "68150286",
   "metadata": {
    "scrolled": true
   },
   "outputs": [],
   "source": [
    "data = pd.read_csv(\"data/data_covid.csv\")"
   ]
  },
  {
   "cell_type": "code",
   "execution_count": null,
   "id": "99658662",
   "metadata": {},
   "outputs": [],
   "source": [
    "data[\"index\"] =  data[\"index\"].apply(pd.to_datetime)"
   ]
  },
  {
   "cell_type": "markdown",
   "id": "14e2d8f0",
   "metadata": {},
   "source": [
    "data[\"mes\"] = data[\"index\"].apply(lambda x: x.month)\n",
    "data[\"año\"] = data[\"index\"].apply(lambda x: x.year)"
   ]
  },
  {
   "cell_type": "code",
   "execution_count": null,
   "id": "57a53974",
   "metadata": {},
   "outputs": [],
   "source": [
    "data = data.drop(\"Nacional\", axis=1)"
   ]
  },
  {
   "cell_type": "code",
   "execution_count": null,
   "id": "79ad8669",
   "metadata": {},
   "outputs": [],
   "source": [
    "data = data.loc[data[\"index\"] >= datetime(2021, 1, 1)]"
   ]
  },
  {
   "cell_type": "code",
   "execution_count": null,
   "id": "c6cb832d",
   "metadata": {},
   "outputs": [],
   "source": [
    "data = data.loc[data[\"index\"] <= datetime(2021, 12, 31)]"
   ]
  },
  {
   "cell_type": "code",
   "execution_count": null,
   "id": "6af409a3",
   "metadata": {},
   "outputs": [],
   "source": [
    "data = data.set_index(\"index\")"
   ]
  },
  {
   "cell_type": "code",
   "execution_count": null,
   "id": "5b93233b",
   "metadata": {},
   "outputs": [],
   "source": [
    "data.to_csv(\"data/covid-2021.csv\")"
   ]
  },
  {
   "cell_type": "code",
   "execution_count": null,
   "id": "05dcbcae",
   "metadata": {},
   "outputs": [],
   "source": [
    "%%javascript\n",
    "\n",
    "require.config({\n",
    "        paths: {\n",
    "            \"d3\": \"https://d3js.org/d3.v7\"\n",
    "        }\n",
    "    });\n",
    "require([\"d3\"], function(d3){ \n",
    "    d3.csv(\"data/covid-2021.csv\").then(function(datos){\n",
    "        console.log(datos);\n",
    "    })\n",
    "})"
   ]
  },
  {
   "cell_type": "code",
   "execution_count": null,
   "id": "e3721113",
   "metadata": {},
   "outputs": [],
   "source": [
    "data.index"
   ]
  },
  {
   "cell_type": "code",
   "execution_count": null,
   "id": "fb4c963e",
   "metadata": {},
   "outputs": [],
   "source": []
  }
 ],
 "metadata": {
  "kernelspec": {
   "display_name": "Python 3 (ipykernel)",
   "language": "python",
   "name": "python3"
  },
  "language_info": {
   "codemirror_mode": {
    "name": "ipython",
    "version": 3
   },
   "file_extension": ".py",
   "mimetype": "text/x-python",
   "name": "python",
   "nbconvert_exporter": "python",
   "pygments_lexer": "ipython3",
   "version": "3.10.4"
  }
 },
 "nbformat": 4,
 "nbformat_minor": 5
}
