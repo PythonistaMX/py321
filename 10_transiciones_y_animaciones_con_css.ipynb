{
 "cells": [
  {
   "cell_type": "markdown",
   "metadata": {},
   "source": [
    "[![img/pythonista.png](img/pythonista.png)](https://www.pythonista.io)"
   ]
  },
  {
   "cell_type": "markdown",
   "metadata": {},
   "source": [
    "# Trtansiciones y animaciones con *CSS*."
   ]
  },
  {
   "cell_type": "markdown",
   "metadata": {},
   "source": [
    "## La regla ```transition```."
   ]
  },
  {
   "cell_type": "markdown",
   "metadata": {},
   "source": [
    "Esta regla permite definir tiempos de transición a partir de reglas de *CSS* que cambian a causa de algún evento."
   ]
  },
  {
   "cell_type": "code",
   "execution_count": null,
   "metadata": {},
   "outputs": [],
   "source": [
    "%%html\n",
    "<style>\n",
    "    #ejemplo_11 {\n",
    "        background-color:gold;\n",
    "        color:red;\n",
    "        width: 100px;\n",
    "        height: 100px;\n",
    "        transition: width 4s, background-color 4s;\n",
    "        }\n",
    "    #ejemplo_11:hover {\n",
    "        width: 500px;\n",
    "        background-color: blue;\n",
    "    }\n",
    "    \n",
    "</style>\n",
    "<div class=\"contenedor\">\n",
    "    <div id=\"ejemplo_11\">texto</div>\n",
    "</div>"
   ]
  },
  {
   "cell_type": "markdown",
   "metadata": {},
   "source": [
    "### Retraso de transiciones.\n",
    "\n",
    "```transition-delay```"
   ]
  },
  {
   "cell_type": "code",
   "execution_count": null,
   "metadata": {},
   "outputs": [],
   "source": [
    "%%html\n",
    "<style>\n",
    "    #ejemplo_12 {\n",
    "        background-color:gold;\n",
    "        color:red;\n",
    "        width: 100px;\n",
    "        height: 100px;\n",
    "        transition: width 4s, background-color 2s;\n",
    "        transition-delay: 1s;\n",
    "        }\n",
    "    #ejemplo_12:hover {\n",
    "        width: 500px;\n",
    "        background-color: blue;\n",
    "    }\n",
    "    \n",
    "</style>\n",
    "<div class=\"contenedor\">\n",
    "    <div id=\"ejemplo_12\">texto</div>\n",
    "</div>"
   ]
  },
  {
   "cell_type": "markdown",
   "metadata": {},
   "source": [
    "## Transiciones con transformaciones."
   ]
  },
  {
   "cell_type": "code",
   "execution_count": null,
   "metadata": {},
   "outputs": [],
   "source": [
    "%%html\n",
    "<style>\n",
    "    #ejemplo_13 {\n",
    "        background-color:gold;\n",
    "        color:red;\n",
    "        width: 100px;\n",
    "        height: 100px;\n",
    "        transition: width 4s, background-color 2s, transform 5s;\n",
    "        }\n",
    "    #ejemplo_13:hover {\n",
    "        width: 500px;\n",
    "        background-color: blue;\n",
    "        transform: translate(100px);\n",
    "    }\n",
    "    \n",
    "</style>\n",
    "<div class=\"contenedor\">\n",
    "    <div id=\"ejemplo_13\">texto</div>\n",
    "</div>"
   ]
  },
  {
   "cell_type": "markdown",
   "metadata": {},
   "source": [
    "## Animaciones."
   ]
  },
  {
   "cell_type": "markdown",
   "metadata": {},
   "source": [
    "Mientras que las transiciones depende de que ocurra un evento, las animaciones pueden ejecutarse en función tiempos definidos. "
   ]
  },
  {
   "cell_type": "markdown",
   "metadata": {},
   "source": [
    "### Definición de reglas con ```@keyframes```."
   ]
  },
  {
   "cell_type": "markdown",
   "metadata": {},
   "source": [
    "Los elementos ```@keyframes``` permiten definir reglas en un periodo definido.\n",
    "\n",
    "```\n",
    "@keyframes <nombre>\n",
    "from {<reglas 1>}\n",
    "to {<reglas 2>} \n",
    "```\n"
   ]
  },
  {
   "cell_type": "code",
   "execution_count": null,
   "metadata": {
    "scrolled": true
   },
   "outputs": [],
   "source": [
    "%%html\n",
    "<style>\n",
    "    @keyframes animacion_1{\n",
    "        from {background-color: white;}\n",
    "        to {background-color: black;}\n",
    "    }\n",
    "    #ejemplo_14 {\n",
    "        background-color:gold;\n",
    "        color:red;\n",
    "        width: 100px;\n",
    "        height: 100px;\n",
    "        animation-name: animacion_1;\n",
    "        animation-duration: 5s;\n",
    "        animation-delay: 3s;\n",
    "        animation-iteration-count: infinite;\n",
    "        }\n",
    "\n",
    "</style>\n",
    "<div class=\"contenedor\">\n",
    "    <div id=\"ejemplo_14\">texto</div>\n",
    "</div>"
   ]
  },
  {
   "cell_type": "markdown",
   "metadata": {},
   "source": [
    "### Secuencia de animaciones.\n",
    "\n",
    "Regla: ```animation-direction```.\n",
    "\n",
    "* ```normal```\n",
    "* ```reverse```\n",
    "* ```alternate```\n",
    "* ```alternate-reverse```"
   ]
  },
  {
   "cell_type": "code",
   "execution_count": null,
   "metadata": {},
   "outputs": [],
   "source": [
    "%%html\n",
    "<style>\n",
    "    @keyframes animacion_2{\n",
    "        from {background-color: blue;}\n",
    "        to {\n",
    "               background-color: green;\n",
    "               transform: translate(100px);\n",
    "        }\n",
    "    }\n",
    "    #ejemplo_15 {\n",
    "        background-color:gold;\n",
    "        color:red;\n",
    "        width: 100px;\n",
    "        height: 100px;\n",
    "        animation-name: animacion_2;\n",
    "        animation-duration: 5s;\n",
    "        animation-delay: 5s;\n",
    "        animation-direction: alternate;\n",
    "        animation-iteration-count: infinite;\n",
    "        }\n",
    "\n",
    "</style>\n",
    "<div class=\"contenedor\">\n",
    "    <div id=\"ejemplo_15\">texto</div>\n",
    "</div>"
   ]
  },
  {
   "cell_type": "markdown",
   "metadata": {},
   "source": [
    "Para conocer más al respecto acudir a:\n",
    "https://www.w3schools.com/Css/"
   ]
  },
  {
   "cell_type": "markdown",
   "metadata": {},
   "source": [
    "<p style=\"text-align: center\"><a rel=\"license\" href=\"http://creativecommons.org/licenses/by/4.0/\"><img alt=\"Licencia Creative Commons\" style=\"border-width:0\" src=\"https://i.creativecommons.org/l/by/4.0/80x15.png\" /></a><br />Esta obra está bajo una <a rel=\"license\" href=\"http://creativecommons.org/licenses/by/4.0/\">Licencia Creative Commons Atribución 4.0 Internacional</a>.</p>\n",
    "<p style=\"text-align: center\">&copy; José Luis Chiquete Valdivieso. 2022.</p>"
   ]
  }
 ],
 "metadata": {
  "kernelspec": {
   "display_name": "Python 3 (ipykernel)",
   "language": "python",
   "name": "python3"
  },
  "language_info": {
   "codemirror_mode": {
    "name": "ipython",
    "version": 3
   },
   "file_extension": ".py",
   "mimetype": "text/x-python",
   "name": "python",
   "nbconvert_exporter": "python",
   "pygments_lexer": "ipython3",
   "version": "3.10.4"
  }
 },
 "nbformat": 4,
 "nbformat_minor": 2
}
