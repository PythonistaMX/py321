{
 "cells": [
  {
   "cell_type": "markdown",
   "metadata": {},
   "source": [
    "[![img/pythonista.png](img/pythonista.png)](https://www.pythonista.io)"
   ]
  },
  {
   "cell_type": "markdown",
   "metadata": {},
   "source": [
    "# Vistas y escalas en *SVG* ."
   ]
  },
  {
   "cell_type": "markdown",
   "metadata": {},
   "source": [
    "##  El atributo ```viewport```.\n",
    "\n",
    "Cada elemento ```<svg>``` es definido como un espacio en el que se trazará el contenido definido dentro de dicho elemento. Este espacio puede ser definido mediante los atributos de  ancho (```width```) y  de largo (```lenght```). A este espacio de visualización se le como ```viewport````.\n",
    "\n",
    "Inicialmente, el viewport desplegará los elmentos *SVG* cuyas superfices se encuentren dentro del plano definido por el ```viewport```."
   ]
  },
  {
   "cell_type": "markdown",
   "metadata": {},
   "source": [
    "## El atributo ```viewBox```."
   ]
  },
  {
   "cell_type": "markdown",
   "metadata": {},
   "source": [
    "El atributo ```viewBox``` permite escalar y mover los límites de viewport.\n",
    "\n",
    "```\n",
    "viewBox=\"(min-x) (min-y) (ancho) (alto)\"\n",
    "```\n",
    "\n",
    "Donde:\n",
    "\n",
    "* ```(min-x)``` corresponde a la magnitud en la que el ```viewport``` será trasladado en el eje de las *x*. \n",
    "* ```(min-y)``` corresponde a la magnitud en la que el ```viewport``` será trasladado en el eje de las *y*.\n",
    "* ```(ancho)``` corresponde al tamaño que redefine el sistema de unidades del ```viewport``` sin modificar el tamaño visible de este con respecto a su ancho.\n",
    "* ```(largo)``` corresponde al tamaño que redefine el sistema de unidades del ```viewport``` sin modificar el tamaño visible de este con respecto a su largo."
   ]
  },
  {
   "cell_type": "markdown",
   "metadata": {},
   "source": [
    "https://developer.mozilla.org/en-US/docs/Web/SVG/Attribute/viewBox"
   ]
  },
  {
   "cell_type": "markdown",
   "metadata": {},
   "source": [
    "**Ejemplo**."
   ]
  },
  {
   "cell_type": "markdown",
   "metadata": {},
   "source": [
    "* La siguiente celda definirá un estilo para las clases ```fondo``` y ```objeto```. "
   ]
  },
  {
   "cell_type": "code",
   "execution_count": null,
   "metadata": {},
   "outputs": [],
   "source": [
    "%%html\n",
    "<style>\n",
    "    .fondo {\n",
    "        background-color: lavender;\n",
    "    }\n",
    "    .objeto {\n",
    "        fill: skyblue;\n",
    "    }    \n",
    "</style>"
   ]
  },
  {
   "cell_type": "markdown",
   "metadata": {},
   "source": [
    "* La siguiente celda desplegará un objeto ```<svg>```con un ```viewport``` de ```100```x```100``` pixeles. \n",
    "* Dentro del elemento ```svg``` se trazará un cuadrado de ```50``` ```50``` unidades cuyo origen está en (```0```,```0```)."
   ]
  },
  {
   "cell_type": "code",
   "execution_count": null,
   "metadata": {},
   "outputs": [],
   "source": [
    "%%html\n",
    "<svg width=\"100\" height=\"100\" class=\"fondo\">\n",
    "    <rect x=\"0\" y=\"0\" \n",
    "        width=\"50\" \n",
    "        height=\"50\" \n",
    "        class=\"objeto\" />\n",
    "    \n",
    "    <text x=\"50\" y=\"55\">x</text>\n",
    "</svg>"
   ]
  },
  {
   "cell_type": "markdown",
   "metadata": {},
   "source": [
    "* La siguiente celda define un atributo ```viewBox``` que no tiene traslaciones, pero los límites ahora son de ```200```unidades. "
   ]
  },
  {
   "cell_type": "code",
   "execution_count": null,
   "metadata": {
    "scrolled": false
   },
   "outputs": [],
   "source": [
    "%%html\n",
    "<svg width=\"100\" height=\"100\" class=\"fondo\" \n",
    "    viewBox=\"0 0 200 200\">\n",
    "    \n",
    "    <rect x=\"0\" y=\"0\" \n",
    "        width=\"50\" \n",
    "        height=\"50\" \n",
    "        class=\"objeto\" />\n",
    "    \n",
    "    <text x=\"50\" y=\"55\">x</text>\n",
    "</svg>"
   ]
  },
  {
   "cell_type": "markdown",
   "metadata": {},
   "source": [
    "* La siguiente celda define un atributo ```viewBox``` que no tiene traslaciones, pero los límites ahora son de ```60```unidades. "
   ]
  },
  {
   "cell_type": "code",
   "execution_count": null,
   "metadata": {
    "scrolled": false
   },
   "outputs": [],
   "source": [
    "%%html\n",
    "<svg width=\"100\" height=\"100\" \n",
    "    class=\"fondo\" \n",
    "    viewBox=\"0 0 60 60\">\n",
    "    \n",
    "    <rect x=\"0\" y=\"0\" \n",
    "        width=\"50\" \n",
    "        height=\"50\" \n",
    "        class=\"objeto\" />\n",
    "    \n",
    "    <text x=\"50\" y=\"55\">x</text>\n",
    "</svg>"
   ]
  },
  {
   "cell_type": "markdown",
   "metadata": {},
   "source": [
    "* La siguiente celda define un atributo ```viewBox``` que no tiene traslaciones, pero los límites ahora son de ```60``` unidades de ancho y ```100``` de alto. "
   ]
  },
  {
   "cell_type": "code",
   "execution_count": null,
   "metadata": {},
   "outputs": [],
   "source": [
    "%%html\n",
    "<svg width=\"100\" height=\"100\" class=\"fondo\" \n",
    "viewBox=\"0 0 60 100\">\n",
    "    <rect x=\"0\" y=\"0\" \n",
    "        width=\"50\" \n",
    "        height=\"50\" \n",
    "        class=\"objeto\" />\n",
    "        \n",
    "    <text x=\"50\" y=\"55\">x</text>\n",
    "</svg>"
   ]
  },
  {
   "cell_type": "markdown",
   "metadata": {},
   "source": [
    "* La siguiente celda define un atributo ```viewBox``` que tiene traslaciones de magnitud ```-10``` en *x* y *y*, pero los límites ahora son de ```100``` unidades de ancho y ```100``` de alto. "
   ]
  },
  {
   "cell_type": "code",
   "execution_count": null,
   "metadata": {
    "scrolled": true
   },
   "outputs": [],
   "source": [
    "%%html\n",
    "<svg width=\"100\" height=\"100\" class=\"fondo\" \n",
    "    viewBox=\"-10 -10 100 100\">\n",
    "    \n",
    "    <rect x=\"0\" y=\"0\" \n",
    "    width=\"50\" \n",
    "    height=\"50\" \n",
    "    class=\"objeto\" />\n",
    "    \n",
    "    <text x=\"50\" y=\"55\">x</text>\n",
    "</svg>"
   ]
  },
  {
   "cell_type": "markdown",
   "metadata": {},
   "source": [
    "* La siguiente celda define un atributo ```viewBox``` que tiene traslaciones de magnitud ```-10``` en *x* y *y*, pero los límites ahora son de ```15``` unidades de ancho y ```15``` de alto. "
   ]
  },
  {
   "cell_type": "code",
   "execution_count": null,
   "metadata": {
    "scrolled": true
   },
   "outputs": [],
   "source": [
    "%%html\n",
    "<svg width=\"100\" height=\"100\" class=\"fondo\" viewBox=\"-10 -10 15 15\">\n",
    "    <rect x=\"0\" y=\"0\" width=\"50\" height=\"50\" class=\"objeto\" />\n",
    "    <text x=\"50\" y=\"55\">x</text>\n",
    "</svg>"
   ]
  },
  {
   "cell_type": "markdown",
   "metadata": {},
   "source": [
    "<p style=\"text-align: center\"><a rel=\"license\" href=\"http://creativecommons.org/licenses/by/4.0/\"><img alt=\"Licencia Creative Commons\" style=\"border-width:0\" src=\"https://i.creativecommons.org/l/by/4.0/80x15.png\" /></a><br />Esta obra está bajo una <a rel=\"license\" href=\"http://creativecommons.org/licenses/by/4.0/\">Licencia Creative Commons Atribución 4.0 Internacional</a>.</p>\n",
    "<p style=\"text-align: center\">&copy; José Luis Chiquete Valdivieso. 2022.</p>"
   ]
  }
 ],
 "metadata": {
  "kernelspec": {
   "display_name": "Python 3 (ipykernel)",
   "language": "python",
   "name": "python3"
  },
  "language_info": {
   "codemirror_mode": {
    "name": "ipython",
    "version": 3
   },
   "file_extension": ".py",
   "mimetype": "text/x-python",
   "name": "python",
   "nbconvert_exporter": "python",
   "pygments_lexer": "ipython3",
   "version": "3.10.4"
  }
 },
 "nbformat": 4,
 "nbformat_minor": 2
}
