{
 "cells": [
  {
   "cell_type": "markdown",
   "metadata": {},
   "source": [
    "[![img/pythonista.png](img/pythonista.png)](https://www.pythonista.io)"
   ]
  },
  {
   "cell_type": "markdown",
   "metadata": {},
   "source": [
    "# Escalas en *D3.js*"
   ]
  },
  {
   "cell_type": "markdown",
   "metadata": {},
   "source": [
    "## Inicialización de *D3.js* en la *notebook*."
   ]
  },
  {
   "cell_type": "markdown",
   "metadata": {},
   "source": [
    "La siguiente celda permite habilitar *D3.js* dentro de esta *notebook* y debe de ser ejecutada siempre antes que cualquier otra celda. \n",
    "\n",
    "**Advertencia:**\n",
    "En caso de no inicializar *D3.js* como primera acción, es probable que el código de las siguientes celdas no funcione aún cuando se haga una inicialización posteriormente. En ese caso, es necesario limpiar todas las salidas de las celdas, guardar y recargar la *notebook*."
   ]
  },
  {
   "cell_type": "code",
   "execution_count": null,
   "metadata": {},
   "outputs": [],
   "source": [
    "%%javascript\n",
    "\n",
    "require.config({\n",
    "        paths: {\n",
    "            \"d3\": \"https://d3js.org/d3.v7\"\n",
    "        }\n",
    "    });"
   ]
  },
  {
   "cell_type": "markdown",
   "metadata": {},
   "source": [
    "## El concepto de escala."
   ]
  },
  {
   "cell_type": "markdown",
   "metadata": {},
   "source": [
    "* Dominio\n",
    "* Rango"
   ]
  },
  {
   "cell_type": "markdown",
   "metadata": {},
   "source": [
    "https://github.com/d3/d3-scale"
   ]
  },
  {
   "cell_type": "code",
   "execution_count": null,
   "metadata": {
    "scrolled": true
   },
   "outputs": [],
   "source": [
    "%%svg\n",
    "<svg width=\"500\" height=\"200\" id=\"svg-1\">\n",
    "</svg>"
   ]
  },
  {
   "cell_type": "code",
   "execution_count": null,
   "metadata": {},
   "outputs": [],
   "source": [
    "%%javascript\n",
    "\n",
    "requirejs([\"d3\"], function(d3) {\n",
    "    let data = [1, 2, 3, 4, 5, 6, 7, 8, 9, 10, 11, 12, 13, 14, 15];\n",
    "    \n",
    "    let svg = d3.select(\"#svg-1\").\n",
    "    style(\"background-color\", \"lightgrey\");\n",
    "    \n",
    "    let base = d3.scaleLinear().\n",
    "    domain([1,15]).\n",
    "    range([0, 450]);\n",
    "    \n",
    "    svg.selectAll(\"text\").\n",
    "    data(data).\n",
    "    enter().\n",
    "    append(\"text\").\n",
    "    attr(\"y\", d => d*12).\n",
    "    attr(\"x\", d => base(d)).\n",
    "    text(d => d);\n",
    "})"
   ]
  },
  {
   "cell_type": "code",
   "execution_count": null,
   "metadata": {},
   "outputs": [],
   "source": [
    "%%svg\n",
    "<svg width=\"1000\" height=\"100\" id=\"svg-2\">\n",
    "</svg>"
   ]
  },
  {
   "cell_type": "code",
   "execution_count": null,
   "metadata": {},
   "outputs": [],
   "source": [
    "%%javascript\n",
    "\n",
    "requirejs([\"d3\"], function(d3) {\n",
    "    let data = [1, 2, 3, 4, 5, 6, 7, 8, 9, 10, 11, 12, 13, 14, 15];\n",
    "    \n",
    "    let svg = d3.select(\"#svg-2\");\n",
    "    \n",
    "    let miColor = d3.scaleLinear().\n",
    "    domain([1,10]).\n",
    "    range([\"yellow\", \"blue\"]);\n",
    "    \n",
    "    svg.selectAll(\".firstrow\").\n",
    "    data(data).\n",
    "    enter().\n",
    "    append(\"circle\").\n",
    "    attr(\"cx\", i => 20 + i * 40).\n",
    "    attr(\"cy\", 50).\n",
    "    attr(\"r\", 15).\n",
    "    attr(\"fill\", d => miColor(d));\n",
    "    \n",
    "})"
   ]
  },
  {
   "cell_type": "code",
   "execution_count": null,
   "metadata": {},
   "outputs": [],
   "source": [
    "%%svg\n",
    "<svg width=\"300\" height=\"300\" id=\"svg-3\">\n",
    "    <g></g>\n",
    "</svg>"
   ]
  },
  {
   "cell_type": "code",
   "execution_count": null,
   "metadata": {},
   "outputs": [],
   "source": [
    "%%javascript\n",
    "\n",
    "require([\"d3\"], function(d3) {\n",
    "    \n",
    "    const datos = [18, 14, 47, 12, 54, 32, 22];\n",
    "    \n",
    "    let svg = d3.select(\"#svg-3 g\").\n",
    "    attr(\"transform\", \"translate(150, 150)\");\n",
    "    \n",
    "    /* Se generarán los datos de la gráfica de pastel \n",
    "    que serán creador por d3.arc() */ \n",
    "    let angleGen = d3.pie()\n",
    "    .padAngle(Math.PI/60);\n",
    "    \n",
    "    let data = angleGen(datos);\n",
    "    \n",
    "    let arcGen = d3.arc()\n",
    "    .innerRadius(10)\n",
    "    .outerRadius(100);\n",
    "    \n",
    "    let miColor = d3.scaleLinear().\n",
    "    domain([0, 30, 60]).\n",
    "    range([\"gold\", \"skyblue\", \"green\"])\n",
    "    \n",
    "    svg.\n",
    "    selectAll(\"path\").\n",
    "    data(data).\n",
    "    enter().\n",
    "    append(\"path\").\n",
    "    attr(\"fill\", d => miColor(d.value)).\n",
    "    attr(\"d\", arcGen).\n",
    "    attr(\"stroke\", \"pink\").\n",
    "    attr(\"stroke-width\", 1)\n",
    "})\n",
    "    "
   ]
  },
  {
   "cell_type": "code",
   "execution_count": null,
   "metadata": {},
   "outputs": [],
   "source": [
    "%%svg\n",
    "<svg width=\"500\" height=\"200\" id=\"svg-4\">\n",
    "</svg>"
   ]
  },
  {
   "cell_type": "code",
   "execution_count": null,
   "metadata": {},
   "outputs": [],
   "source": [
    "%%javascript\n",
    "\n",
    "require([\"d3\"], function(d3) {\n",
    "    \n",
    "    const datos = [18, 14, 47, 12, 54, 32, 22];\n",
    "    \n",
    "    let svg = d3.select(\"#svg-3 g\").\n",
    "    attr(\"transform\", \"translate(150, 150)\");\n",
    "    \n",
    "    /* Se generarán los datos de la gráfica de pastel \n",
    "    que serán creador por d3.arc() */ \n",
    "    let angleGen = d3.pie()\n",
    "    .padAngle(Math.PI/60);\n",
    "    \n",
    "    let data = angleGen(datos);\n",
    "    \n",
    "    let arcGen = d3.arc()\n",
    "    .innerRadius(10)\n",
    "    .outerRadius(100);\n",
    "    \n",
    "    let miColor = d3.scaleLinear().\n",
    "    domain([0, 30, 60]).\n",
    "    range([\"gold\", \"skyblue\", \"green\"])\n",
    "    \n",
    "    svg.\n",
    "    selectAll(\"path\").\n",
    "    data(data).\n",
    "    enter().\n",
    "    append(\"path\").\n",
    "    attr(\"fill\", d => miColor(d.value)).\n",
    "    attr(\"d\", arcGen).\n",
    "    attr(\"stroke\", \"pink\").\n",
    "    attr(\"stroke-width\", 1)\n",
    "})"
   ]
  },
  {
   "cell_type": "code",
   "execution_count": null,
   "metadata": {},
   "outputs": [],
   "source": [
    "%%html\n",
    "<svg id=\"svg-5\" width=400 height=250>\n",
    "    <g>\n",
    "    </g>\n",
    "</svg>"
   ]
  },
  {
   "cell_type": "code",
   "execution_count": null,
   "metadata": {},
   "outputs": [],
   "source": [
    "%%javascript\n",
    "require([\"d3\"], function(d3){\n",
    "    d3.json(\"data/poblacion.json\").then(function(datos){\n",
    "        \n",
    "        /* Es necesario crear una nueva estructura de datos\n",
    "        convirtiendo al objeto en un arreglo e incluyendo en \n",
    "        el arreglo además del año y la población, la posición en y. */\n",
    "        \n",
    "        let y_pos=0; \n",
    "        let data=[]; \n",
    "        \n",
    "        for (let dato in datos){\n",
    "            let obj = {\"anio\":dato, \n",
    "                      \"poblacion\": datos[dato] / 1000000,\n",
    "                      \"y\": y_pos\n",
    "                      };\n",
    "            data.push(obj);\n",
    "            y_pos += 15;\n",
    "        }\n",
    "        \n",
    "        let miColor = d3.scaleLinear().\n",
    "            domain([10, 130]).\n",
    "            range([\"skyblue\", \"red\"])\n",
    "        \n",
    "        d3.select(\"#svg-5 g\").\n",
    "        attr('id', \"grupo-2\").\n",
    "        selectAll(\"rect\").\n",
    "        data(data).\n",
    "        enter().\n",
    "        append(\"rect\").\n",
    "        attr(\"x\", 0).\n",
    "        attr(\"y\", d => d.y).\n",
    "        attr(\"height\", 10).\n",
    "        attr(\"width\", d => d.poblacion).\n",
    "        attr(\"fill\", d => miColor(d.poblacion)).\n",
    "        attr(\"stroke\", \"black\")\n",
    "        \n",
    "        d3.select(\"#grupo-2\").\n",
    "        selectAll(\"text\").\n",
    "        data(data).\n",
    "        enter().\n",
    "        append(\"text\").\n",
    "        text(d => d.anio).\n",
    "        attr(\"x\", d => d.poblacion + 5).\n",
    "        attr(\"y\", d => d.y + 8).\n",
    "        attr(\"stroke\", \"black\").\n",
    "        attr(\"font-size\", \"70%\")\n",
    "    })\n",
    "});"
   ]
  },
  {
   "cell_type": "markdown",
   "metadata": {},
   "source": [
    "https://github.com/d3/d3-scale-chromatic"
   ]
  },
  {
   "cell_type": "markdown",
   "metadata": {},
   "source": [
    "<p style=\"text-align: center\"><a rel=\"license\" href=\"http://creativecommons.org/licenses/by/4.0/\"><img alt=\"Licencia Creative Commons\" style=\"border-width:0\" src=\"https://i.creativecommons.org/l/by/4.0/80x15.png\" /></a><br />Esta obra está bajo una <a rel=\"license\" href=\"http://creativecommons.org/licenses/by/4.0/\">Licencia Creative Commons Atribución 4.0 Internacional</a>.</p>\n",
    "<p style=\"text-align: center\">&copy; José Luis Chiquete Valdivieso. 2022.</p>"
   ]
  }
 ],
 "metadata": {
  "kernelspec": {
   "display_name": "Python 3 (ipykernel)",
   "language": "python",
   "name": "python3"
  },
  "language_info": {
   "codemirror_mode": {
    "name": "ipython",
    "version": 3
   },
   "file_extension": ".py",
   "mimetype": "text/x-python",
   "name": "python",
   "nbconvert_exporter": "python",
   "pygments_lexer": "ipython3",
   "version": "3.10.4"
  }
 },
 "nbformat": 4,
 "nbformat_minor": 2
}
