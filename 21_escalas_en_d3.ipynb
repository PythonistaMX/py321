{
 "cells": [
  {
   "cell_type": "markdown",
   "metadata": {},
   "source": [
    "[![img/pythonista.png](img/pythonista.png)](https://www.pythonista.io)"
   ]
  },
  {
   "cell_type": "markdown",
   "metadata": {},
   "source": [
    "# Escalas en *D3.js*"
   ]
  },
  {
   "cell_type": "markdown",
   "metadata": {},
   "source": [
    "## Inicialización de *D3.js* en la *notebook*."
   ]
  },
  {
   "cell_type": "markdown",
   "metadata": {},
   "source": [
    "La siguiente celda permite habilitar *D3.js* dentro de esta *notebook* y debe de ser ejecutada siempre antes que cualquier otra celda. \n",
    "\n",
    "**Advertencia:**\n",
    "En caso de no inicializar *D3.js* como primera acción, es probable que el código de las siguientes celdas no funcione aún cuando se haga una inicialización posteriormente. En ese caso, es necesario limpiar todas las salidas de las celdas, guardar y recargar la *notebook*."
   ]
  },
  {
   "cell_type": "code",
   "execution_count": null,
   "metadata": {},
   "outputs": [],
   "source": [
    "%%javascript\n",
    "\n",
    "require.config({\n",
    "        paths: {\n",
    "            \"d3\": \"https://d3js.org/d3.v7\"\n",
    "        }\n",
    "    });"
   ]
  },
  {
   "cell_type": "markdown",
   "metadata": {},
   "source": [
    "## El concepto de escala."
   ]
  },
  {
   "cell_type": "markdown",
   "metadata": {},
   "source": [
    "En *D3.js* las escalas son un componente crítico para el despliegue de visaulizaciones. Una escala permite delimitar y generar proporciones a partir de los datos crudos.\n",
    "\n",
    "Las escalas permiten distribuir de manera homogénea y lógica el despluegue de una visualización de datos.\n",
    "\n",
    "*D3.js* identifica dos componentes pricipales.\n",
    "\n",
    "* Dominio, que define los límites del conjunto de los valores esperados. \n",
    "* Rango, delimita los valores que serán mapeados al dominio. Estos valores pueden ser un conjunto de elementos continuos. "
   ]
  },
  {
   "cell_type": "markdown",
   "metadata": {},
   "source": [
    "## Tipos de escalas en función de la naturaleza de los dato."
   ]
  },
  {
   "cell_type": "markdown",
   "metadata": {},
   "source": [
    "### Tipos de datos cuantitativos.\n",
    "\n",
    "* Discretos. Es decir, datos sólo pueden tomar ciertos valores bien definidos.\n",
    "* Continuos. Es decir, datos que pueden tomar cualquier valor en un rango."
   ]
  },
  {
   "cell_type": "markdown",
   "metadata": {},
   "source": [
    "### Escalas continuas."
   ]
  },
  {
   "cell_type": "markdown",
   "metadata": {},
   "source": [
    "### Escalas discretas."
   ]
  },
  {
   "cell_type": "markdown",
   "metadata": {},
   "source": [
    "## La función ```d3.scaleLinear()```.\n",
    "\n",
    "Esta función permite definir escalas lineales continuas.\n",
    "\n",
    "https://github.com/d3/d3-scale"
   ]
  },
  {
   "cell_type": "markdown",
   "metadata": {},
   "source": [
    "**Ejempos:**"
   ]
  },
  {
   "cell_type": "markdown",
   "metadata": {},
   "source": [
    "* Las siguientes celdas desplegarán una sucesión de números en los que se utulizará una escala linal para definir la posición en el eje de las *x* de un dato que será presentado como texto."
   ]
  },
  {
   "cell_type": "code",
   "execution_count": null,
   "metadata": {
    "scrolled": true
   },
   "outputs": [],
   "source": [
    "%%svg\n",
    "<svg width=\"500\" height=\"200\" id=\"svg-1\">\n",
    "</svg>"
   ]
  },
  {
   "cell_type": "code",
   "execution_count": null,
   "metadata": {},
   "outputs": [],
   "source": [
    "%%javascript\n",
    "\n",
    "requirejs([\"d3\"], function(d3) {\n",
    "    \n",
    "    /* Se definen los datos */\n",
    "    let data = [1, 2, 3, 4, 5, 6, 7, 8, 9, 10, 11, 12, 13, 14, 15];\n",
    "    \n",
    "    /* Se selecciona el elemento SVG */\n",
    "    let svg = d3.select(\"#svg-1\").\n",
    "    style(\"background-color\", \"lightgrey\");\n",
    "    \n",
    "    /* Se define una función de escala lineal usando d3.scaleLinear */ \n",
    "    let base = d3.scaleLinear().\n",
    "    domain([1,15]).\n",
    "    range([0, 450]); // El rango corresponde al ancho de la imagen.\n",
    "    \n",
    "    /* Se construye la visualización */\n",
    "    svg.selectAll(\"text\").\n",
    "    data(data).\n",
    "    enter().\n",
    "    append(\"text\").\n",
    "    attr(\"y\", d => d*12).\n",
    "    attr(\"x\", d => base(d)).\n",
    "    text(d => d);\n",
    "})"
   ]
  },
  {
   "cell_type": "markdown",
   "metadata": {},
   "source": [
    "* Las siguientes celdas desplegarán una sucesión de círculos en los que se utilizará una escala lineal para definir el color de cada círculo."
   ]
  },
  {
   "cell_type": "code",
   "execution_count": null,
   "metadata": {},
   "outputs": [],
   "source": [
    "%%svg\n",
    "<svg width=\"1000\" height=\"100\" id=\"svg-2\">\n",
    "</svg>"
   ]
  },
  {
   "cell_type": "code",
   "execution_count": null,
   "metadata": {},
   "outputs": [],
   "source": [
    "%%javascript\n",
    "\n",
    "requirejs([\"d3\"], function(d3) {\n",
    "    \n",
    "    /* Se definen los datos */\n",
    "    let data = [1, 2, 3, 4, 5, 6, 7, 8, 9, 10, 11, 12, 13, 14, 15];\n",
    "    \n",
    "    /* Se selecciona el elemento SVG */\n",
    "    let svg = d3.select(\"#svg-2\");\n",
    "    \n",
    "    /* Se define una función de escala lineal usando d3.scaleLinear,\n",
    "     pero en esta ocasión el rango no es numérico sino que corresponde a colores*/\n",
    "    let miColor = d3.scaleLinear().\n",
    "    domain([1,15]).\n",
    "    range([\"yellow\", \"blue\"]);\n",
    "    \n",
    "    svg.selectAll(\".firstrow\").\n",
    "    data(data).\n",
    "    enter().\n",
    "    append(\"circle\").\n",
    "    attr(\"cx\", i => 20 + i * 40).\n",
    "    attr(\"cy\", 50).\n",
    "    attr(\"r\", 15).\n",
    "    attr(\"fill\", d => miColor(d));\n",
    "    \n",
    "})"
   ]
  },
  {
   "cell_type": "markdown",
   "metadata": {},
   "source": [
    "* Las siguientes celdas desplegarán una *pie chart* en la que se utilizará una escala lineal para definir el color de cada segmento."
   ]
  },
  {
   "cell_type": "code",
   "execution_count": null,
   "metadata": {},
   "outputs": [],
   "source": [
    "%%svg\n",
    "<svg width=\"300\" height=\"300\" id=\"svg-3\">\n",
    "    <g></g>\n",
    "</svg>"
   ]
  },
  {
   "cell_type": "code",
   "execution_count": null,
   "metadata": {},
   "outputs": [],
   "source": [
    "%%javascript\n",
    "\n",
    "require([\"d3\"], function(d3) {\n",
    "    \n",
    "    const datos = [18, 14, 47, 12, 54, 32, 22];\n",
    "    \n",
    "    let svg = d3.select(\"#svg-3 g\").\n",
    "    attr(\"transform\", \"translate(150, 150)\");\n",
    "    \n",
    "    /* Se generarán los datos de la gráfica de pastel \n",
    "    que serán creador por d3.arc() */ \n",
    "    let angleGen = d3.pie()\n",
    "    .padAngle(Math.PI/60);\n",
    "    \n",
    "    let data = angleGen(datos);\n",
    "    \n",
    "    let arcGen = d3.arc()\n",
    "    .innerRadius(10)\n",
    "    .outerRadius(100);\n",
    "    \n",
    "    let miColor = d3.scaleLinear().\n",
    "    domain([14, 27, 54]).\n",
    "    range([\"gold\", \"skyblue\", \"green\"])\n",
    "    \n",
    "    svg.\n",
    "    selectAll(\"path\").\n",
    "    data(data).\n",
    "    enter().\n",
    "    append(\"path\").\n",
    "    attr(\"fill\", d => miColor(d.value)).\n",
    "    attr(\"d\", arcGen).\n",
    "    attr(\"stroke\", \"pink\").\n",
    "    attr(\"stroke-width\", 1)\n",
    "})\n",
    "    "
   ]
  },
  {
   "cell_type": "markdown",
   "metadata": {},
   "source": [
    "* Las siguientes celdas desplegarán una gráfica de barras en la que se utilizará una escala lineal para definir el color de cada segmento."
   ]
  },
  {
   "cell_type": "code",
   "execution_count": null,
   "metadata": {},
   "outputs": [],
   "source": [
    "%%html\n",
    "<svg id=\"svg-5\" width=400 height=250>\n",
    "    <g>\n",
    "    </g>\n",
    "</svg>"
   ]
  },
  {
   "cell_type": "code",
   "execution_count": null,
   "metadata": {},
   "outputs": [],
   "source": [
    "%%javascript\n",
    "require([\"d3\"], function(d3){\n",
    "    d3.json(\"data/poblacion.json\").then(function(datos){\n",
    "        \n",
    "        /* Es necesario crear una nueva estructura de datos\n",
    "        convirtiendo al objeto en un arreglo e incluyendo en \n",
    "        el arreglo además del año y la población, la posición en y. */\n",
    "        \n",
    "        let y_pos=0; \n",
    "        let data=[]; \n",
    "        \n",
    "        for (let dato in datos){\n",
    "            let obj = {\"anio\":dato, \n",
    "                      \"poblacion\": datos[dato] / 1000000,\n",
    "                      \"y\": y_pos\n",
    "                      };\n",
    "            data.push(obj);\n",
    "            y_pos += 15;\n",
    "        }\n",
    "        \n",
    "        let miColor = d3.scaleLinear().\n",
    "            domain([10, 130]).\n",
    "            range([\"skyblue\", \"red\"])\n",
    "        \n",
    "        \n",
    "        d3.select(\"#svg-5 g\").\n",
    "        attr('id', \"grupo-2\").\n",
    "        selectAll(\"rect\").\n",
    "        data(data).\n",
    "        enter().\n",
    "        append(\"rect\").\n",
    "        attr(\"x\", 0).\n",
    "        attr(\"y\", d => d.y).\n",
    "        attr(\"height\", 10).\n",
    "        attr(\"width\", d => d.poblacion).\n",
    "        attr(\"fill\", d => miColor(d.poblacion)).\n",
    "        attr(\"stroke\", \"black\")\n",
    "        \n",
    "        d3.select(\"#grupo-2\").\n",
    "        selectAll(\"text\").\n",
    "        data(data).\n",
    "        enter().\n",
    "        append(\"text\").\n",
    "        text(d => d.anio).\n",
    "        attr(\"x\", d => d.poblacion + 5).\n",
    "        attr(\"y\", d => d.y + 8).\n",
    "        attr(\"stroke\", \"black\").\n",
    "        attr(\"font-size\", \"70%\")\n",
    "    })\n",
    "});"
   ]
  },
  {
   "cell_type": "markdown",
   "metadata": {},
   "source": [
    "https://github.com/d3/d3-scale-chromatic"
   ]
  },
  {
   "cell_type": "code",
   "execution_count": null,
   "metadata": {},
   "outputs": [],
   "source": [
    "%%html\n",
    "<svg id=\"svg-6\" width=400 height=250>\n",
    "    <g>\n",
    "    </g>\n",
    "</svg>"
   ]
  },
  {
   "cell_type": "code",
   "execution_count": null,
   "metadata": {},
   "outputs": [],
   "source": [
    "%%javascript\n",
    "require([\"d3\"], function(d3){\n",
    "    d3.json(\"data/poblacion.json\").then(function(datos){\n",
    "        \n",
    "        /* Es necesario crear una nueva estructura de datos\n",
    "        convirtiendo al objeto en un arreglo e incluyendo en \n",
    "        el arreglo además del año y la población, la posición en y. */\n",
    "        \n",
    "        let y_pos=0; \n",
    "        let data=[]; \n",
    "        \n",
    "        for (let dato in datos){\n",
    "            let obj = {\"anio\":dato, \n",
    "                      \"poblacion\": datos[dato] / 1000000,\n",
    "                      \"y\": y_pos\n",
    "                      };\n",
    "            data.push(obj);\n",
    "            y_pos += 15;\n",
    "        }\n",
    "        \n",
    "        let miColor = d3.scaleOrdinal(d3.schemeCategory10);\n",
    "        \n",
    "        \n",
    "        d3.select(\"#svg-6 g\").\n",
    "        attr('id', \"grupo-2\").\n",
    "        selectAll(\"rect\").\n",
    "        data(data).\n",
    "        enter().\n",
    "        append(\"rect\").\n",
    "        attr(\"x\", 0).\n",
    "        attr(\"y\", d => d.y).\n",
    "        attr(\"height\", 10).\n",
    "        attr(\"width\", d => d.poblacion).\n",
    "        attr(\"fill\", d => miColor(d.poblacion)).\n",
    "        attr(\"stroke\", \"black\")\n",
    "        \n",
    "        d3.select(\"#grupo-2\").\n",
    "        selectAll(\"text\").\n",
    "        data(data).\n",
    "        enter().\n",
    "        append(\"text\").\n",
    "        text(d => d.anio).\n",
    "        attr(\"x\", d => d.poblacion + 5).\n",
    "        attr(\"y\", d => d.y + 8).\n",
    "        attr(\"stroke\", \"black\").\n",
    "        attr(\"font-size\", \"70%\")\n",
    "    })\n",
    "});"
   ]
  },
  {
   "cell_type": "markdown",
   "metadata": {},
   "source": [
    "<p style=\"text-align: center\"><a rel=\"license\" href=\"http://creativecommons.org/licenses/by/4.0/\"><img alt=\"Licencia Creative Commons\" style=\"border-width:0\" src=\"https://i.creativecommons.org/l/by/4.0/80x15.png\" /></a><br />Esta obra está bajo una <a rel=\"license\" href=\"http://creativecommons.org/licenses/by/4.0/\">Licencia Creative Commons Atribución 4.0 Internacional</a>.</p>\n",
    "<p style=\"text-align: center\">&copy; José Luis Chiquete Valdivieso. 2022.</p>"
   ]
  }
 ],
 "metadata": {
  "kernelspec": {
   "display_name": "Python 3 (ipykernel)",
   "language": "python",
   "name": "python3"
  },
  "language_info": {
   "codemirror_mode": {
    "name": "ipython",
    "version": 3
   },
   "file_extension": ".py",
   "mimetype": "text/x-python",
   "name": "python",
   "nbconvert_exporter": "python",
   "pygments_lexer": "ipython3",
   "version": "3.10.4"
  }
 },
 "nbformat": 4,
 "nbformat_minor": 2
}
