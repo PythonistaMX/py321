{
 "cells": [
  {
   "cell_type": "markdown",
   "metadata": {},
   "source": [
    "[![imagenes/pythonista.png](imagenes/pythonista.png)](https://pythonista.io)"
   ]
  },
  {
   "cell_type": "markdown",
   "metadata": {},
   "source": [
    "## El microframework _Flask_.\n",
    "\n",
    "El proyecto [flask](http://flask.pocoo.org/) es un framework para desarrollo de aplicaciones web estremadamente ligero. \n",
    "Flask se diferencia de proyectos como Django en que su funcionalidad básica es extremadamente simple, pero cuenta con diversas [extensiones](http://flask.pocoo.org/extensions/)."
   ]
  },
  {
   "cell_type": "code",
   "execution_count": null,
   "metadata": {
    "scrolled": false
   },
   "outputs": [],
   "source": [
    "!pip install flask"
   ]
  },
  {
   "cell_type": "markdown",
   "metadata": {},
   "source": [
    "## \"¡Hola, Mundo!\" con Flask."
   ]
  },
  {
   "cell_type": "markdown",
   "metadata": {},
   "source": [
    "### La clase *flask.Flask*.\n",
    "\n",
    "El componente principal del framework es la clase *flask.Flask*. Los objetos instanciados de esta clase contienen varios métodos que permiten levantar un servicio web básico.\n",
    "\n",
    "Una instancia de Flask se crea con la siguiente sintaxis:\n",
    "\n",
    "``` python\n",
    "<nombre> = flask.Flask(__name__);\n",
    "```\n",
    "\n",
    "Es común que el nombre del servicio sea *app*. Por convención, en este módulo se utilizará ese nombre para referirse a una instancia de *flask.Flask*."
   ]
  },
  {
   "cell_type": "markdown",
   "metadata": {},
   "source": [
    "**Ejemplo:**"
   ]
  },
  {
   "cell_type": "code",
   "execution_count": null,
   "metadata": {},
   "outputs": [],
   "source": [
    "from flask import Flask\n",
    "app = Flask(__name__)"
   ]
  },
  {
   "cell_type": "markdown",
   "metadata": {},
   "source": [
    "### El método *app.route()*.\n",
    "\n",
    "Este método permite relacionar una ruta del servicio web a una función mediante el uso de un decorador. SA estas funciones se les conoce comop *funciones de vista*.\n",
    "\n",
    "``` python\n",
    "@app.route(\"<ruta>\")\n",
    "def uncion>(<parámetros>):\n",
    "    ...\n",
    "    ...\n",
    "    return <contenido>\n",
    "```\n",
    "De tal forma que el contenido que regresa la función decorada es lo que el servidor entregará al cliente cuando apunte a la ruta especificada."
   ]
  },
  {
   "cell_type": "markdown",
   "metadata": {},
   "source": [
    "**Ejemplo:**\n",
    "\n",
    "* Se creará la función *hola()* ligada a la ruta raíz (*\"/\"*) del servidor, la cual regresará la cadena *\"¡Hola, Mundo!\"*."
   ]
  },
  {
   "cell_type": "code",
   "execution_count": null,
   "metadata": {},
   "outputs": [],
   "source": [
    "@app.route(\"/\")\n",
    "def hola():\n",
    "    return \"¡Hola, Mundo!\""
   ]
  },
  {
   "cell_type": "markdown",
   "metadata": {},
   "source": [
    "### Ejecución del servicio con el método *app.run()*.\n",
    "\n",
    "Este metodo ejecuta el servidor escuchando a las IP definidas en el puerto indicado.\n",
    "\n",
    "``` python\n",
    "app.run(host=\"<máscara IP>\" port=<puerto>)\n",
    "```\n",
    "\n",
    "* El valor por defecto de *host* es *\"localhost\"*, por lo que el servicio sólo escucharía peticiones de la máquina en la que se encuentra.\n",
    "* Para permitir que el servicio escuche a todas las IP el valor de *host* debe de ser *\"0.0.0.0\"*.\n",
    "* El valor por defecto de *port* es *5000*."
   ]
  },
  {
   "cell_type": "markdown",
   "metadata": {},
   "source": [
    "**Ejemplo:**\n",
    "\n",
    "* Se iniciará el servicio escuchando a todas las IP en el puerto 5000.\n",
    "\n",
    "Una vez ejecutada la celda. el contenido ser;a accesible desde http://localhost:5000/"
   ]
  },
  {
   "cell_type": "markdown",
   "metadata": {},
   "source": [
    "**Advertencia:** Una vez ejecutada la siguiente celda, es necesario reiniciar el kernel de Jupyter para poder ejecutar el resto de las celdas de la notebook."
   ]
  },
  {
   "cell_type": "code",
   "execution_count": null,
   "metadata": {
    "scrolled": true
   },
   "outputs": [],
   "source": [
    "# app.run(\"localhost\")\n",
    "\n",
    "app.run(host='0.0.0.0')"
   ]
  },
  {
   "cell_type": "markdown",
   "metadata": {},
   "source": [
    "## Rutas dinámicas.\n",
    "\n",
    "Una ruta dinámica es aquella en la que una función de vista acepta parte de la ruta comoc un argumento. El nomnbre del parámetro de la ruta se define nombrándolo entre los signos de *menor que* (*<*) y  *mayor que* (*>*).\n",
    "\n",
    "``` python\n",
    "@app.route(\"<ruta fija><<parametro>>\")\n",
    "def <funcion>(<parametro>):\n",
    "    ...\n",
    "    ...\n",
    "```"
   ]
  },
  {
   "cell_type": "markdown",
   "metadata": {},
   "source": [
    "**Ejemplo:**\n",
    "\n",
    "* La siguiente celda definirá un servicio para las rutas que contengan cualquier cadena de caracteres después de la raíz (*/*).\n",
    "* Regresará un mensaje de saludo con el texto dinámico.\n",
    "\n",
    "En el caso de la ULR http://localhost:5000/Juan, el servidor regresará la cadena *\"Hola, Juan.\"*"
   ]
  },
  {
   "cell_type": "markdown",
   "metadata": {},
   "source": [
    "**Advertencia:** Una vez ejecutada la siguiente celda, es necesario reiniciar el kernel de Jupyter para poder ejecutar el resto de las celdas de la notebook."
   ]
  },
  {
   "cell_type": "code",
   "execution_count": null,
   "metadata": {
    "scrolled": true
   },
   "outputs": [],
   "source": [
    "from flask import Flask\n",
    "\n",
    "app = Flask(__name__)\n",
    "\n",
    "@app.route(\"/<cadena>\")\n",
    "def saluda(cadena):\n",
    "    return \"Hola, {}.\".format(cadena)\n",
    "\n",
    "\n",
    "app.run(host='0.0.0.0')"
   ]
  },
  {
   "cell_type": "markdown",
   "metadata": {},
   "source": [
    "## Uso de plantillas con *Flask*.\n",
    "\n",
    "Las funciones pueden regresar cualquier tipo de recurso, sin embargo, los navegadores y clientes convencionales no reconocen los tipos de datos de Python, por lo que es conveniente asegurarse en compartir recursos compatibles con los navegadores."
   ]
  },
  {
   "cell_type": "markdown",
   "metadata": {},
   "source": [
    "### Jinja 2 en Flask.\n",
    "\n",
    "Es posible publicar contenidos dinámicos en HTML mediante el uso de plantillas hechas para ser interpretadas por  [Jinja 2](http://jinja.pocoo.org/).\n",
    "\n",
    "Jinja 2 es un lenguaje de plantillas (templates) escrito en Python y compatible con los objetos de Python, el cual permite insertar datos dentro de un documento de texto, particularmente en HTML.\n",
    "\n",
    "Jinja 2 es un lenguaje de programación que puede ejecutar algunas declaraciones con una sintaxis específica. Para conocer más al respecto se recomienda consultar la documentación localizada en http://jinja.pocoo.org/docs/2.10/"
   ]
  },
  {
   "cell_type": "markdown",
   "metadata": {},
   "source": [
    "### La función *flask.render_template()*.\n",
    "\n",
    "Esta función implementa Jijna 2 en Flask, de tal modo que es posible regresar texto al que se le pueden inyectar datos de Python a partir de una plantilla.\n",
    "\n",
    "\n",
    "```\n",
    "render_template('<nombre de la plantilla', **kwargs)\n",
    "```\n",
    "\n",
    "* El servidor de Flask está configurado para buscar las plantilla en la carpeta [templates/](templates/) de la ruta en la que se ejecuta.\n",
    "\n",
    "* Esta función permite ingresar cualquier cantidad de argumentos, cuyos valores serán sustituidos en la plantilla cuando se encuente a su identificador encerrado entre dobles llaves:\n",
    "\n",
    "\n",
    "```\n",
    "{{<identificador>}}\n",
    "```"
   ]
  },
  {
   "cell_type": "markdown",
   "metadata": {},
   "source": [
    "**Ejemplo:**\n",
    "\n",
    "* La plantilla [templates/plantilla_1.html](templates/plantilla_1.html) contiene el siguiente código:\n",
    "\n",
    "``` HTML\n",
    "<!DOCTYPE html>\n",
    "<html>\n",
    "    <head>\n",
    "        <meta charset=\"utf-8\">\n",
    "        <title>Página de {{titulo}}</title>\n",
    "    </head>\n",
    "    <body>\n",
    "        <h1>Bienvenido a {{titulo}}</h1>\n",
    "        <p>Esta página fue creada dinámicamente.</p>\n",
    "    </body>\n",
    "</html>\n",
    "```\n",
    "\n",
    "* La siguiente celda iniciará un servicio que sustituirá el texto *{{titulo}}* por la porción dinámica de la URL dentro de la plantilla y el código HTML será enviado al cliente.\n",
    "\n",
    "* URL de ejemplo:  http://localhost:5000/Juan "
   ]
  },
  {
   "cell_type": "markdown",
   "metadata": {},
   "source": [
    "**Advertencia:** Una vez ejecutada la siguiente celda, es necesario reiniciar el kernel de Jupyter para poder ejecutar el resto de las celdas de la notebook."
   ]
  },
  {
   "cell_type": "code",
   "execution_count": null,
   "metadata": {},
   "outputs": [],
   "source": [
    "from flask import Flask, render_template\n",
    "\n",
    "app = Flask(__name__)\n",
    "\n",
    "@app.route(\"/<cadena>\")\n",
    "def saluda(cadena):\n",
    "    return render_template(\"plantilla_1.html\", titulo=cadena)\n",
    "\n",
    "app.run(host='0.0.0.0')"
   ]
  },
  {
   "cell_type": "markdown",
   "metadata": {},
   "source": [
    "## La función *flask. jsonify()*.\n",
    "\n",
    "El paquete *flask* incluye a la función *jsonify()*, el cual permite enviar datos basados en JSON en formato binario a partir de un objeto de Python.\n",
    "\n",
    "Dicha función sólo puede funcionar dentro del contexto de una aplicación de *flask*."
   ]
  },
  {
   "cell_type": "markdown",
   "metadata": {},
   "source": [
    "**Ejemplo:**\n",
    "\n",
    "La siguiente celda levantará un servicio web simple el cual convertirá en un mensaje JSON a un objeto de tipo *dict* y lo desplegará en [http://localhost:5000](http://localhost:5000)."
   ]
  },
  {
   "cell_type": "markdown",
   "metadata": {},
   "source": [
    "**Advertencia:** Una vez ejecutada la siguiente celda, es necesario reiniciar el kernel de Jupyter para poder ejecutar el resto de las celdas de la notebook."
   ]
  },
  {
   "cell_type": "code",
   "execution_count": null,
   "metadata": {
    "scrolled": true
   },
   "outputs": [],
   "source": [
    "from flask import Flask, jsonify\n",
    "\n",
    "app = Flask(__name__)\n",
    "\n",
    "@app.route('/')\n",
    "def inicio():\n",
    "    return jsonify({'Nombre': 'Juan', \n",
    "        'Primer Apellido': 'Pérez', \n",
    "        'Segundo Apellido': None})\n",
    "\n",
    "#Si no se define el parámetro host, flask sólo será visible desde localhost\n",
    "# app.run(host='localhost')\n",
    "app.run(host='0.0.0.0')"
   ]
  },
  {
   "cell_type": "markdown",
   "metadata": {},
   "source": [
    "<p style=\"text-align: center\"><a rel=\"license\" href=\"http://creativecommons.org/licenses/by/4.0/\"><img alt=\"Licencia Creative Commons\" style=\"border-width:0\" src=\"https://i.creativecommons.org/l/by/4.0/80x15.png\" /></a><br />Esta obra está bajo una <a rel=\"license\" href=\"http://creativecommons.org/licenses/by/4.0/\">Licencia Creative Commons Atribución 4.0 Internacional</a>.</p>\n",
    "<p style=\"text-align: center\">&copy; José Luis Chiquete Valdivieso. 2019.</p>"
   ]
  }
 ],
 "metadata": {
  "kernelspec": {
   "display_name": "Python 3",
   "language": "python",
   "name": "python3"
  },
  "language_info": {
   "codemirror_mode": {
    "name": "ipython",
    "version": 3
   },
   "file_extension": ".py",
   "mimetype": "text/x-python",
   "name": "python",
   "nbconvert_exporter": "python",
   "pygments_lexer": "ipython3",
   "version": "3.6.5"
  }
 },
 "nbformat": 4,
 "nbformat_minor": 2
}
