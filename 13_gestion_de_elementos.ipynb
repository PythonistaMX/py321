{
 "cells": [
  {
   "cell_type": "markdown",
   "metadata": {},
   "source": [
    "[![imagenes/pythonista.png](imagenes/pythonista.png)](https://pythonista.io)"
   ]
  },
  {
   "cell_type": "markdown",
   "metadata": {},
   "source": [
    "## Inicialización de *D3.js* en la notebook.\n",
    "\n",
    "La siguiente celda permite habilitar *D3.js* dentro de esta notebook y debe de ser ejecutada siempre antes que cualquier otra celda. \n",
    "\n",
    "**Advertencia:**\n",
    "En caso de no inicializar *D3.js* como primera acción, es probable que el código de las siguientes celdas no funcione aún cuando se haga una inicialización posteriormente. En ese caso, es necesario limpiar todas las salidas de las celdas, guardar y recargar la notebook."
   ]
  },
  {
   "cell_type": "code",
   "execution_count": null,
   "metadata": {},
   "outputs": [],
   "source": [
    "%%javascript\n",
    "    require.config({\n",
    "        paths: {\n",
    "            d3: 'https://d3js.org/d3.v5.min'\n",
    "        }\n",
    "    })"
   ]
  },
  {
   "cell_type": "markdown",
   "metadata": {},
   "source": [
    "## El método *text()*.\n",
    "\n",
    "Para poder ilustrar la gestión básica de elementos con *D3.js* se utilizará el método *text()*.\n",
    "\n",
    "Este método permite añadir o modificar la propiedad *textContent* de un elemento del DOM selecionado, asignándoles el contenido de la cadena de caracteres que es ingresada como argumento de este método.\n",
    "\n",
    "```\n",
    "<selección>.text<\"cadena de caracteres>\"\n",
    "```"
   ]
  },
  {
   "cell_type": "markdown",
   "metadata": {},
   "source": [
    "## Selección de elementos.\n",
    "\n",
    "*D3.js* permite identificar y seleccionar elementos de un documento dos formas:\n",
    "\n",
    "* Como una cadena de caracteres con la sintaxis de selectores usada por CSS, que será usada como criterio de búsqueda.\n",
    "* Como un elemento del DOM."
   ]
  },
  {
   "cell_type": "markdown",
   "metadata": {},
   "source": [
    "### El método *select()*.\n",
    "\n",
    "Este método selecciona al primer elemento que encuentre conforme a lo que se le ingrese como argumento."
   ]
  },
  {
   "cell_type": "markdown",
   "metadata": {},
   "source": [
    "**Ejemplo:**"
   ]
  },
  {
   "cell_type": "code",
   "execution_count": null,
   "metadata": {
    "scrolled": true
   },
   "outputs": [],
   "source": [
    "%%html\n",
    "<div id=\"contenedor-1\">\n",
    "    <h3>Ejemplo de los selectores de <span class=\"d3-1\"></span>.</h3>\n",
    "    <p>La biblioteca <span class=\"d3-1\"></span> constituye una herramienta \n",
    "    de gran utilidad para la creación y gestión de documentos orientados en datos.</p>\n",
    "    <h3>Funcionalidades de <span class=\"d3-1\">.</span></h3>\n",
    "    <ul id=\"listado-1\">\n",
    "        <li>Selección de elementos.</li>\n",
    "        <li>Modificación y añadidura de elementos.</li>\n",
    "        <li>Obtención de datos.</li>\n",
    "        <li>Filtrado de datos.</li>\n",
    "        <li>Gestión de atributo.</li> \n",
    "    </ul>\n",
    "</div>"
   ]
  },
  {
   "cell_type": "code",
   "execution_count": null,
   "metadata": {},
   "outputs": [],
   "source": [
    "%%javascript\n",
    "\n",
    "require([\"d3\"], function(d3){\n",
    "    d3.select(\".d3-1\").\n",
    "    text(\"DE TRES JS\");\n",
    "});"
   ]
  },
  {
   "cell_type": "code",
   "execution_count": null,
   "metadata": {},
   "outputs": [],
   "source": [
    "%%javascript\n",
    "\n",
    "require([\"d3\"], function(d3){\n",
    "    d3.select(document.getElementById(\"contenedor-1\")).\n",
    "    text(\"Se borró todo el texto.\");\n",
    "});"
   ]
  },
  {
   "cell_type": "markdown",
   "metadata": {},
   "source": [
    "### El método *selectAll()*.\n",
    "\n",
    "Este método selecciona a todos los elemento que encuentre conforme a lo que se ingrese como argumento."
   ]
  },
  {
   "cell_type": "markdown",
   "metadata": {},
   "source": [
    "**Ejemplo:**"
   ]
  },
  {
   "cell_type": "code",
   "execution_count": null,
   "metadata": {
    "scrolled": true
   },
   "outputs": [],
   "source": [
    "%%html\n",
    "<div id=\"contenedor-2\">\n",
    "    <h3>Ejemplo de los selectores de <span class=\"d3-2\"></span>.</h3>\n",
    "    <p>La biblioteca <span class=\"d3-2\"></span> constituye una herramienta \n",
    "    de gran utilidad para la creación y gestión de documentos orientados en datos.</p>\n",
    "    <h3>Funcionalidades de <span class=\"d3-2\"></span>.</h3>\n",
    "    <ul id=\"listado-2\">\n",
    "        <li>Selección de elementos.</li>\n",
    "        <li>Modificación y añadidura de elementos.</li>\n",
    "        <li>Obtención de datos.</li>\n",
    "        <li>Filtrado de datos.</li>\n",
    "        <li>Gestión de atributo.</li> \n",
    "    </ul>\n",
    "</div>"
   ]
  },
  {
   "cell_type": "code",
   "execution_count": null,
   "metadata": {},
   "outputs": [],
   "source": [
    "%%javascript\n",
    "\n",
    "require([\"d3\"], function(d3){\n",
    "    d3.selectAll(\".d3-2\").\n",
    "    text(\"DE TRES JS\")\n",
    "});"
   ]
  },
  {
   "cell_type": "markdown",
   "metadata": {},
   "source": [
    "## Inserción de elementos."
   ]
  },
  {
   "cell_type": "markdown",
   "metadata": {},
   "source": [
    "### El método *append()*."
   ]
  },
  {
   "cell_type": "code",
   "execution_count": null,
   "metadata": {},
   "outputs": [],
   "source": [
    "%%html\n",
    "<div id=\"contenedor-3\">\n",
    "   <ul>\n",
    "        <li>uno.</li>\n",
    "        <li>dos.</li>\n",
    "        <li id=\"tres\">tres.</li>\n",
    "        <li>cuatro.</li>\n",
    "</div>"
   ]
  },
  {
   "cell_type": "code",
   "execution_count": null,
   "metadata": {},
   "outputs": [],
   "source": [
    "%%javascript\n",
    "\n",
    "require([\"d3\"], function(d3){\n",
    "    d3.select(\"#contenedor-3\").\n",
    "    select(\"ul\").\n",
    "    append(\"li\").\n",
    "    text(\"NUEVA OPCIÓN.\");\n",
    "});"
   ]
  },
  {
   "cell_type": "markdown",
   "metadata": {},
   "source": [
    "### El método *insert()*."
   ]
  },
  {
   "cell_type": "code",
   "execution_count": null,
   "metadata": {},
   "outputs": [],
   "source": [
    "%%html\n",
    "<div id=\"contenedor-5\">\n",
    "   <ul>\n",
    "        <li>uno</li>\n",
    "        <li>dos</li>\n",
    "        <li id=\"tres\">tres</li>\n",
    "        <li>cuatro</li>\n",
    "</div>"
   ]
  },
  {
   "cell_type": "code",
   "execution_count": null,
   "metadata": {},
   "outputs": [],
   "source": [
    "%%javascript\n",
    "\n",
    "require([\"d3\"], function(d3){\n",
    "    d3.select(\"#contenedor-5\").\n",
    "    select(\"ul\").\n",
    "    insert(\"li\", \"#tres\").\n",
    "    text(\"DOS Y MEDIO.\");\n",
    "});"
   ]
  },
  {
   "cell_type": "markdown",
   "metadata": {},
   "source": [
    "### El método clone()."
   ]
  },
  {
   "cell_type": "code",
   "execution_count": null,
   "metadata": {},
   "outputs": [],
   "source": [
    "%%html\n",
    "<div id=\"contenedor-6\">\n",
    "<p id=\"parrafo-6\">Hola.</p>\n",
    "</div>"
   ]
  },
  {
   "cell_type": "code",
   "execution_count": null,
   "metadata": {},
   "outputs": [],
   "source": [
    "%%javascript\n",
    "\n",
    "require([\"d3\"], function(d3){\n",
    "    d3.select(\"#parrafo-6\").\n",
    "    clone(true);\n",
    "});"
   ]
  },
  {
   "cell_type": "code",
   "execution_count": null,
   "metadata": {},
   "outputs": [],
   "source": [
    "%%html\n",
    "\n",
    "<div id=\"contenedor-7\">Hola.</div>"
   ]
  },
  {
   "cell_type": "code",
   "execution_count": null,
   "metadata": {},
   "outputs": [],
   "source": [
    "%%javascript\n",
    "\n",
    "require([\"d3\"], function(d3){\n",
    "    d3.select(\"#contenedor-7\").\n",
    "    clone();\n",
    "});"
   ]
  },
  {
   "cell_type": "code",
   "execution_count": null,
   "metadata": {},
   "outputs": [],
   "source": [
    "%%javascript\n",
    "\n",
    "require([\"d3\"], function(d3){\n",
    "    d3.select(\"#contenedor-7\").\n",
    "    clone().\n",
    "    text('CLONADO.')\n",
    "});"
   ]
  },
  {
   "cell_type": "markdown",
   "metadata": {},
   "source": [
    "## Inserción de codigo HTML con el método *html()*."
   ]
  },
  {
   "cell_type": "code",
   "execution_count": null,
   "metadata": {},
   "outputs": [],
   "source": [
    "%%html\n",
    "<div id=\"contenedor-8\">\n",
    "</div>"
   ]
  },
  {
   "cell_type": "code",
   "execution_count": null,
   "metadata": {
    "scrolled": true
   },
   "outputs": [],
   "source": [
    "%%javascript\n",
    "\n",
    "require([\"d3\"], function(d3){\n",
    "    d3.select(\"#contenedor-8\").\n",
    "    style(\"color\", \"blue\").\n",
    "    html(\"<h3>Este es código insertado.</h3>\");\n",
    "});"
   ]
  },
  {
   "cell_type": "code",
   "execution_count": null,
   "metadata": {},
   "outputs": [],
   "source": [
    "%%javascript\n",
    "\n",
    "require([\"d3\"], function(d3){\n",
    "    d3.select(\"#contenedor-8\").\n",
    "    text(\"Este es texto insertado.\");\n",
    "});"
   ]
  },
  {
   "cell_type": "markdown",
   "metadata": {},
   "source": [
    "## Eliminación de elementos."
   ]
  },
  {
   "cell_type": "code",
   "execution_count": null,
   "metadata": {},
   "outputs": [],
   "source": [
    "%%html\n",
    "<div id=\"contenedor-9\">\n",
    "<p id=\"parrafo-9\">Hola</p>\n",
    "</div>"
   ]
  },
  {
   "cell_type": "code",
   "execution_count": null,
   "metadata": {},
   "outputs": [],
   "source": [
    "%%javascript\n",
    "\n",
    "require([\"d3\"], function(d3){\n",
    "    d3.select(\"#parrafo-9\").\n",
    "    \n",
    "    remove()\n",
    "});"
   ]
  },
  {
   "cell_type": "markdown",
   "metadata": {},
   "source": [
    "<p style=\"text-align: center\"><a rel=\"license\" href=\"http://creativecommons.org/licenses/by/4.0/\"><img alt=\"Licencia Creative Commons\" style=\"border-width:0\" src=\"https://i.creativecommons.org/l/by/4.0/80x15.png\" /></a><br />Esta obra está bajo una <a rel=\"license\" href=\"http://creativecommons.org/licenses/by/4.0/\">Licencia Creative Commons Atribución 4.0 Internacional</a>.</p>\n",
    "<p style=\"text-align: center\">&copy; José Luis Chiquete Valdivieso. 2019.</p>"
   ]
  }
 ],
 "metadata": {
  "kernelspec": {
   "display_name": "Python 3",
   "language": "python",
   "name": "python3"
  },
  "language_info": {
   "codemirror_mode": {
    "name": "ipython",
    "version": 3
   },
   "file_extension": ".py",
   "mimetype": "text/x-python",
   "name": "python",
   "nbconvert_exporter": "python",
   "pygments_lexer": "ipython3",
   "version": "3.6.5"
  }
 },
 "nbformat": 4,
 "nbformat_minor": 2
}
