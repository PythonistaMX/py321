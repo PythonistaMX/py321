{
 "cells": [
  {
   "cell_type": "markdown",
   "metadata": {},
   "source": [
    "[![img/pythonista.png](img/pythonista.png)](https://www.pythonista.io)"
   ]
  },
  {
   "cell_type": "markdown",
   "metadata": {},
   "source": [
    "# Funciones de selecciones."
   ]
  },
  {
   "cell_type": "markdown",
   "metadata": {},
   "source": [
    "## Inicialización de *D3.js* en la notebook.\n",
    "\n",
    "La siguiente celda permite habilitar *D3.js* dentro de esta notebook y debe de ser ejecutada siempre antes que cualquier otra celda. \n",
    "\n",
    "**Advertencia:**\n",
    "En caso de no inicializar *D3.js* como primera acción, es probable que el código de las siguientes celdas no funcione aún cuando se haga una inicialización posteriormente. En ese caso, es necesario limpiar todas las salidas de las celdas, guardar y recargar la notebook."
   ]
  },
  {
   "cell_type": "code",
   "execution_count": null,
   "metadata": {},
   "outputs": [],
   "source": [
    "%%javascript\n",
    "    require.config({\n",
    "        paths: {\n",
    "            d3: 'https://d3js.org/d3.v7'\n",
    "        }\n",
    "    })"
   ]
  },
  {
   "cell_type": "markdown",
   "metadata": {},
   "source": [
    "## Datos de prueba."
   ]
  },
  {
   "cell_type": "markdown",
   "metadata": {},
   "source": [
    "```\n",
    "Nombre,py101,py111,py121,py201,py211\n",
    "Enrique,8,7,6,NA,NA\n",
    "Alberto,6,8,9,8,8\n",
    "Rocío,8,8,9,9,9\n",
    "Julián,10,9,9,8,10\n",
    "Norberto,8,NA,6,7,7\n",
    "Carmen,9,9,9,10,9\n",
    "Ximena,NA,NA,8,8,9\n",
    "Iván,8,8,7,8,8\n",
    "Sergio,7,6,6,7,7\n",
    "```"
   ]
  },
  {
   "cell_type": "markdown",
   "metadata": {},
   "source": [
    "## La función ```selection.filter()```.\n",
    "\n",
    "La función ```d3.selection.filter()``` permite evaluar cada dato generado por el método ```d3.selection.enter()``` a partir de una función que regrese un valor booleano. Se seleccionarán sólo aquellos datos que obtengan un valor ```true``` como resultado de la función."
   ]
  },
  {
   "cell_type": "code",
   "execution_count": null,
   "metadata": {},
   "outputs": [],
   "source": [
    "%%html\n",
    "<div id=\"contenedor-1\">\n",
    "</div>"
   ]
  },
  {
   "cell_type": "code",
   "execution_count": null,
   "metadata": {
    "scrolled": true
   },
   "outputs": [],
   "source": [
    "%%javascript\n",
    "\n",
    "require([\"d3\"], function(d3) {\n",
    "    d3.csv(\"data/calificaciones.csv\",).then(function(datos){\n",
    "        d3.select(\"#contenedor-1\").\n",
    "            selectAll(\"p\").\n",
    "            data(datos).\n",
    "            enter().append(\"p\").\n",
    "            filter(d => d.py121 > 6).\n",
    "            text(d => d.Nombre + \". py101: \" + d.py101 + \". py111: \" + d.py111 \n",
    "                 + \". py121: \" + d.py121);\n",
    "    })\n",
    "});"
   ]
  },
  {
   "cell_type": "code",
   "execution_count": null,
   "metadata": {},
   "outputs": [],
   "source": [
    "%%html\n",
    "<div id=\"contenedor-2\">\n",
    "</div>"
   ]
  },
  {
   "cell_type": "code",
   "execution_count": null,
   "metadata": {},
   "outputs": [],
   "source": [
    "%%javascript\n",
    "\n",
    "require([\"d3\"], function(d3) {\n",
    "    d3.csv(\"data/calificaciones.csv\",).then(function(datos){\n",
    "        d3.select(\"#contenedor-2\").\n",
    "            selectAll(\"p\").\n",
    "            data(datos).\n",
    "            enter().append(\"p\").\n",
    "            filter(d => isNaN(d.py101)).\n",
    "            text(d => d.Nombre + \". py101: \" + d.py101 + \". py111: \" + d.py111 \n",
    "                 + \". py121: \" + d.py121);\n",
    "    })\n",
    "});"
   ]
  },
  {
   "cell_type": "markdown",
   "metadata": {},
   "source": [
    "## La función ```selection.join()```."
   ]
  },
  {
   "cell_type": "markdown",
   "metadata": {},
   "source": [
    "https://github.com/d3/d3-selection#selection_join"
   ]
  },
  {
   "cell_type": "code",
   "execution_count": null,
   "metadata": {},
   "outputs": [],
   "source": [
    "%%html\n",
    "<div id=\"contenedor-3\">\n",
    "</div>"
   ]
  },
  {
   "cell_type": "code",
   "execution_count": null,
   "metadata": {},
   "outputs": [],
   "source": [
    "%%javascript\n",
    "\n",
    "require([\"d3\"], function(d3){\n",
    "    \n",
    "    function sleep(delay){\n",
    "    return new Promise((resolve) => {\n",
    "        setTimeout(() => resolve(), delay)})\n",
    "    }\n",
    "    \n",
    "    function actualiza_alumno(obj, dato){\n",
    "        obj.\n",
    "            selectAll(\"p\").\n",
    "            data([dato]).\n",
    "            join(\"p\").\n",
    "            text(d => d.Nombre + \". py101: \" + d.py101 + \". py111: \" + d.py111 \n",
    "                 + \". py121: \" + d.py121);      \n",
    "    }\n",
    "    \n",
    "    d3.csv(\"data/calificaciones.csv\").\n",
    "        then(async function(datos){\n",
    "            let contenedor = d3.select(\"#contenedor-3\");\n",
    "            for (let dato of datos){\n",
    "                actualiza_alumno(contenedor, dato);\n",
    "                await sleep(2000);\n",
    "            }\n",
    "        });\n",
    "    });"
   ]
  },
  {
   "cell_type": "code",
   "execution_count": null,
   "metadata": {},
   "outputs": [],
   "source": [
    "%%svg\n",
    "<svg id=\"contenedor-4\" width=\"700\" height=\"100\">\n",
    "</svg>"
   ]
  },
  {
   "cell_type": "code",
   "execution_count": null,
   "metadata": {},
   "outputs": [],
   "source": [
    "%%javascript\n",
    "\n",
    "require([\"d3\"], function(d3){\n",
    "    \n",
    "    function sleep(delay){\n",
    "    return new Promise((resolve) => {\n",
    "        setTimeout(() => resolve(), delay)})\n",
    "    }\n",
    "    \n",
    "    function actualiza_circulos(obj, data){\n",
    "        obj.\n",
    "            selectAll(\"circle\").\n",
    "            data(data).\n",
    "            join(\"circle\").\n",
    "            attr(\"cx\", (d, i) => 30 + i * 100).\n",
    "            attr(\"cy\", 50).\n",
    "            attr(\"fill\", \"gold\").\n",
    "            attr(\"r\", d => d * 10);\n",
    "    }\n",
    "    \n",
    "    let contenedor = d3.select(\"#contenedor-4\");\n",
    "    \n",
    "    let datos = [[1, 2, 3, 4, 5],\n",
    "                 [3, 2],\n",
    "                 [1, 3, 4, 5, 3, 2, 1],\n",
    "                 [5, 3, 1, 5, 4, 3]];\n",
    "    \n",
    "    async function circulos(){\n",
    "        for (let dato of datos){\n",
    "            actualiza_circulos(contenedor, dato);\n",
    "            console.log(dato);\n",
    "            await sleep(2000);\n",
    "        }\n",
    "    }\n",
    "    \n",
    "    circulos();  \n",
    "});"
   ]
  },
  {
   "cell_type": "markdown",
   "metadata": {},
   "source": [
    "## La función ```selection.insert()```."
   ]
  },
  {
   "cell_type": "markdown",
   "metadata": {},
   "source": [
    "https://github.com/d3/d3-selection#selection_insert"
   ]
  },
  {
   "cell_type": "code",
   "execution_count": null,
   "metadata": {
    "scrolled": true
   },
   "outputs": [],
   "source": [
    "%%svg\n",
    "\n",
    "<svg id=\"contenedor-5\" width=\"100\" height=\"100\">\n",
    "    <g id=\"grupo-5\">\n",
    "    </g>\n",
    "</svg>"
   ]
  },
  {
   "cell_type": "code",
   "execution_count": null,
   "metadata": {},
   "outputs": [],
   "source": [
    "%%javascript\n",
    "\n",
    "require([\"d3\"], function(d3){\n",
    "    \n",
    "        let circulo = d3.create(\"svg:circle\").\n",
    "        attr(\"r\", 30).\n",
    "        attr(\"x\", \"50\").\n",
    "        attr(\"y\", \"50\").\n",
    "        attr(\"fill\", \"blue\").\n",
    "        node();\n",
    "    \n",
    "    let contenedor = d3.select(\"#contenedor-5\");\n",
    "    \n",
    "    contenedor.insert(\"g\", \"#grupo-5\");\n",
    "});"
   ]
  },
  {
   "cell_type": "markdown",
   "metadata": {},
   "source": [
    "## La función ```selection.remove()```."
   ]
  },
  {
   "cell_type": "markdown",
   "metadata": {},
   "source": [
    "https://github.com/d3/d3-selection#selection_remove"
   ]
  },
  {
   "cell_type": "markdown",
   "metadata": {},
   "source": [
    "## La función ```selection.clone()```."
   ]
  },
  {
   "cell_type": "markdown",
   "metadata": {},
   "source": [
    "https://github.com/d3/d3-selection#selection_clone"
   ]
  },
  {
   "cell_type": "markdown",
   "metadata": {},
   "source": [
    "## La función ```selection.sort()```."
   ]
  },
  {
   "cell_type": "markdown",
   "metadata": {},
   "source": [
    "https://github.com/d3/d3-selection#selection_sort"
   ]
  },
  {
   "cell_type": "markdown",
   "metadata": {},
   "source": [
    "## La función ```selection.order()```."
   ]
  },
  {
   "cell_type": "markdown",
   "metadata": {},
   "source": [
    "https://github.com/d3/d3-selection#selection_order"
   ]
  },
  {
   "cell_type": "markdown",
   "metadata": {},
   "source": [
    "## La función ```d3.create()```."
   ]
  },
  {
   "cell_type": "markdown",
   "metadata": {},
   "source": [
    "https://github.com/d3/d3-selection#create"
   ]
  },
  {
   "cell_type": "markdown",
   "metadata": {},
   "source": [
    "<p style=\"text-align: center\"><a rel=\"license\" href=\"http://creativecommons.org/licenses/by/4.0/\"><img alt=\"Licencia Creative Commons\" style=\"border-width:0\" src=\"https://i.creativecommons.org/l/by/4.0/80x15.png\" /></a><br />Esta obra está bajo una <a rel=\"license\" href=\"http://creativecommons.org/licenses/by/4.0/\">Licencia Creative Commons Atribución 4.0 Internacional</a>.</p>\n",
    "<p style=\"text-align: center\">&copy; José Luis Chiquete Valdivieso. 2022.</p>"
   ]
  }
 ],
 "metadata": {
  "kernelspec": {
   "display_name": "Python 3 (ipykernel)",
   "language": "python",
   "name": "python3"
  },
  "language_info": {
   "codemirror_mode": {
    "name": "ipython",
    "version": 3
   },
   "file_extension": ".py",
   "mimetype": "text/x-python",
   "name": "python",
   "nbconvert_exporter": "python",
   "pygments_lexer": "ipython3",
   "version": "3.10.4"
  }
 },
 "nbformat": 4,
 "nbformat_minor": 2
}
