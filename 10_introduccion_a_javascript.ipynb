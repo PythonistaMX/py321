{
 "cells": [
  {
   "cell_type": "markdown",
   "id": "1faa2ed5",
   "metadata": {},
   "source": [
    "# Introducción a *Javascript*."
   ]
  },
  {
   "cell_type": "markdown",
   "id": "5c44b8c9",
   "metadata": {},
   "source": [
    "## Despliegue en la consola."
   ]
  },
  {
   "cell_type": "markdown",
   "id": "3f09611e",
   "metadata": {},
   "source": [
    "La función ```console.log()```.\n",
    "\n",
    "``` javascript\n",
    "console.log(\"Hola, mundo.\");"
   ]
  },
  {
   "cell_type": "markdown",
   "id": "a61f9ef2",
   "metadata": {},
   "source": [
    "## Definición de variables."
   ]
  },
  {
   "cell_type": "markdown",
   "id": "721b4b75",
   "metadata": {},
   "source": [
    "* ```let```\n",
    "* ```const``\n",
    "* ```var```"
   ]
  },
  {
   "cell_type": "markdown",
   "id": "e218070a",
   "metadata": {},
   "source": [
    "```javascript\n",
    "let x = 2;\n",
    "console.log(x + 2);\n",
    "x = x * 3;\n",
    "const NUMERO = 12;\n",
    "console.log(NUMERO + 2);\n",
    "NUMER0 = 25;\n",
    "```"
   ]
  },
  {
   "cell_type": "markdown",
   "id": "ec212438",
   "metadata": {},
   "source": [
    "## Tipos de datos.\n",
    "\n",
    "* \n",
    "\n",
    "https://developer.mozilla.org/es/docs/Web/JavaScript/Data_structures"
   ]
  },
  {
   "cell_type": "markdown",
   "id": "b6725013",
   "metadata": {},
   "source": [
    "```javascript\n",
    "console.log(typeof(1));\n",
    "console.log(typeof('hola'));\n",
    "console.log(typeof(true));\n",
    "console.log(typeof(['hola', 'mundo']));\n",
    "console.log(typeof(null));\n",
    "console.log(typeof(Infinity));\n",
    "console.log(typeof(undefined));\n",
    "```"
   ]
  },
  {
   "cell_type": "markdown",
   "id": "e6e8fb15",
   "metadata": {},
   "source": [
    "## Arreglos."
   ]
  },
  {
   "cell_type": "markdown",
   "id": "fde99308",
   "metadata": {},
   "source": [
    "``` javascript\n",
    "let arreglo = [\"Hugo\", \"Paco\", \"Luis\"];\n",
    "console.log(arreglo[0])\n",
    "```"
   ]
  },
  {
   "cell_type": "markdown",
   "id": "83cf84c5",
   "metadata": {},
   "source": [
    "``` javascript\n",
    "for (let i of arreglo) {\n",
    "    console.log(i);\n",
    "}\n",
    "```"
   ]
  },
  {
   "cell_type": "markdown",
   "id": "9433508f",
   "metadata": {},
   "source": [
    "## Objetos convencionales de *Javascript*."
   ]
  },
  {
   "cell_type": "markdown",
   "id": "56d873f3",
   "metadata": {},
   "source": [
    "``` javascript\n",
    "let objeto = {\"nombre\": \"Juan\",\n",
    "             \"valor\": 2};\n",
    "console.log(typeof(objeto));\n",
    "console.log(objeto[\"nombre\"]);\n",
    "console.log(objeto[\"valor\"]);\n",
    "```\n",
    "\n",
    "``` javascript\n",
    "\n",
    "for (let i in objeto) {\n",
    "    console.log(i);\n",
    "}\n",
    "\n",
    "for (let i in objeto) {\n",
    "    console.log(i, objeto[i]);\n",
    "}\n",
    "```"
   ]
  },
  {
   "cell_type": "markdown",
   "id": "62307af6",
   "metadata": {},
   "source": [
    "## Expresioness y operadores."
   ]
  },
  {
   "cell_type": "markdown",
   "id": "0a1b827c",
   "metadata": {},
   "source": [
    "https://developer.mozilla.org/es/docs/Web/JavaScript/Guide/Expressions_and_Operators"
   ]
  },
  {
   "cell_type": "markdown",
   "id": "59149f90",
   "metadata": {},
   "source": [
    "## Mensajes y formularios."
   ]
  },
  {
   "cell_type": "markdown",
   "id": "8953bfbb",
   "metadata": {},
   "source": [
    "``` javascript\n",
    "alert(\"Hola, mundo.\");\n",
    "```"
   ]
  },
  {
   "cell_type": "markdown",
   "id": "2dc76866",
   "metadata": {},
   "source": [
    "``` javascript\n",
    "let mensaje = prompt(\"Ingresa el mensaje.\")\n",
    "console.log(mensaje);\n",
    "console.log(typeof(mensaje);\n",
    "```"
   ]
  },
  {
   "cell_type": "markdown",
   "id": "b4fba31e",
   "metadata": {},
   "source": [
    "## Condicionales."
   ]
  },
  {
   "cell_type": "markdown",
   "id": "3f4c6362",
   "metadata": {},
   "source": [
    "https://developer.mozilla.org/en-US/docs/Web/JavaScript/Reference/Statements/if...else"
   ]
  },
  {
   "cell_type": "markdown",
   "id": "7aa70297",
   "metadata": {},
   "source": [
    "```javascript\n",
    "let valor = 3;\n",
    "if (valor % 2  == 0) {\n",
    "    console.log(\"Es par.\");\n",
    "}\n",
    "else {\n",
    "    console.log(\"Es non.\");\n",
    "}\n",
    "```"
   ]
  },
  {
   "cell_type": "markdown",
   "id": "20c51a4a",
   "metadata": {},
   "source": [
    "## Ciclos."
   ]
  },
  {
   "cell_type": "markdown",
   "id": "26168ee7",
   "metadata": {},
   "source": [
    "let iterador = 0;\n",
    "while (iterador < 5) {\n",
    "    iterador +=1;\n",
    "    console.log(iterador)\n",
    "}"
   ]
  },
  {
   "cell_type": "markdown",
   "id": "10c03633",
   "metadata": {},
   "source": [
    "``` javascript\n",
    "iterador = 0;\n",
    "do {\n",
    "    iterador +=1;\n",
    "    console.log(iterador)\n",
    "} while (iterador < 5)\n",
    "```"
   ]
  },
  {
   "cell_type": "markdown",
   "id": "6f4e7c53",
   "metadata": {},
   "source": [
    "## Funciones."
   ]
  },
  {
   "cell_type": "markdown",
   "id": "8a3e5ed4",
   "metadata": {},
   "source": [
    "```javascript\n",
    "function saluda(nombre){\n",
    "    console.log(\"Hola\", nombre);\n",
    "}\n",
    "console.log(saluda(\"Juan\"));\n",
    "```"
   ]
  },
  {
   "cell_type": "markdown",
   "id": "278855f0",
   "metadata": {},
   "source": [
    "``` javascript\n",
    "function suma(a, b=3){\n",
    "    return a + b\n",
    "}\n",
    "console.log(suma(2,2));\n",
    "console.log(suma(7));\n",
    "```"
   ]
  },
  {
   "cell_type": "markdown",
   "id": "35edff05",
   "metadata": {},
   "source": [
    "### Funciones flecha."
   ]
  },
  {
   "cell_type": "markdown",
   "id": "f2e6cf84",
   "metadata": {},
   "source": [
    "let sumatoria = (a, b) => a + b;\n",
    "console.log(sumatoria(2, 5));"
   ]
  },
  {
   "cell_type": "markdown",
   "id": "eac5eefa",
   "metadata": {},
   "source": [
    "``` javascript\n",
    "let par = numero => numero % 2 == 0;\n",
    "console.log(par(2));\n",
    "```"
   ]
  },
  {
   "cell_type": "markdown",
   "id": "d7731e12",
   "metadata": {},
   "source": [
    "``` javascript\n",
    "let sumatoria = (a, b) => a + b;\n",
    "console.log(sumatoria(2, 5));\n",
    "```"
   ]
  }
 ],
 "metadata": {
  "kernelspec": {
   "display_name": "Python 3 (ipykernel)",
   "language": "python",
   "name": "python3"
  },
  "language_info": {
   "codemirror_mode": {
    "name": "ipython",
    "version": 3
   },
   "file_extension": ".py",
   "mimetype": "text/x-python",
   "name": "python",
   "nbconvert_exporter": "python",
   "pygments_lexer": "ipython3",
   "version": "3.10.4"
  }
 },
 "nbformat": 4,
 "nbformat_minor": 5
}
