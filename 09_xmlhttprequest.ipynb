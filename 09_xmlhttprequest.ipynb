{
 "cells": [
  {
   "cell_type": "markdown",
   "metadata": {},
   "source": [
    "[![imagenes/pythonista.png](imagenes/pythonista.png)](https://pythonista.io)"
   ]
  },
  {
   "cell_type": "markdown",
   "metadata": {},
   "source": [
    "La especificación [*XMLHttpRequest*](https://xhr.spec.whatwg.org/) es un estándar que ha sido implementado como una API en prácticamente todos los navegadores modernos.\n",
    "\n",
    "El objetivo de esta API es el de enviar peticiones (requests) a un servidor (HTTP, FTP, etc.) y obtener las respuestas (responses) correspondientes, directamente desde el navegador.\n",
    "\n",
    "A pesar del nombre, la API es capaz de aceptar respuestas en cualquier formato, no necesariamente XML.\n",
    "\n",
    "**Nota:** Firefox sólo permite hasta 6 conexiones simultáneas.\n",
    "\n"
   ]
  },
  {
   "cell_type": "markdown",
   "metadata": {},
   "source": [
    "## Propiedades de *XMLHttpRequest*. \n",
    "\n",
    "* *readystate* indica el estado de la conexión de un objeto instanciado de *XMLHttpRequest* y corresponde a uno de los siguientes números:\n",
    "    * *0* no se ha inicializado la petición.\n",
    "    * *1* la petición está configurada.\n",
    "    * *2* la petición fue enviada.   \n",
    "    * *3* la petición está en proceso.\n",
    "    * *4* la petición se completó.\n",
    "* *status* contiene el [código de estado HTTP](https://www.restapitutorial.com/httpstatuscodes.html) que el servidor envía una vez que recibe una petición.\n",
    "* *statusText* contiene el mensaje de estado que el servidor envía una vez que recibe una petición.\n",
    "* *response* contiene el mesaje crudo de la respuesta que envía el servidor al responder una petición. \n",
    "* *resonseText* contiene el texto de la respuesta que envía el servidor al responder una petición.\n",
    "* *esponseType* indica el tipo formato de mensaje de la respuesta que envía el servidora partir de una petición.\n",
    "* *responseURL* contiene la URL de la petición.\n",
    "* *responseXML* contiene la respuesta en formato XML que envía el servidor al responder una petición.\n",
    "* *timeout* corresponde al número de milisegundos que debe esperar el cliente entes de cerrar la conexión en caso de que no haya respuesta por parte del servidor.\n",
    "* *upload* corresponde a un objeto que es enviado al servidor, tal como el contenido de una forma o un archivo.\n",
    "* *withCredentials* corresponde a un valor booleano indicando que el objeto tiene permisos CORS para acceder al servidor.\n",
    "* *onreadystatechange* es un sensor de eventos, el cual se activa cuando cambia la propiedad *readystate* del objeto.\n"
   ]
  },
  {
   "cell_type": "markdown",
   "metadata": {},
   "source": [
    "## Métodos de XMLHttpRequest.\n",
    "\n",
    "### El método *open()*.\n",
    "\n",
    "Este método inicializa una conexión al ingresar el método HTTP a utilizar, la URL y el tipo de conexión como argumentos;\n",
    "\n",
    "```\n",
    "<objeto>.open(\"<metodo>\", \"<URL>\", <tipo>); \n",
    "```\n",
    "\n",
    "Donde:\n",
    "\n",
    "* *&lt;tipo&gt;* corresponde a un booleano indicando si la conexión es asíncrona (*true*) o síncrona (*false*). El valor por defecto es *true*.\n",
    "\n",
    "En caso de que la conexión requiera de autenticación es posible usar la siguiente sintaxis:\n",
    "\n",
    "```\n",
    "<objeto>.open(\"<metodo>\", \"<URL>\", <tipo>, \"<usuario>\", \"<contraseña>\"); \n",
    "```\n",
    "Este método configura la conexión, pero no la realiza."
   ]
  },
  {
   "cell_type": "markdown",
   "metadata": {},
   "source": [
    "### El método *setRequestHeader()*.\n",
    "\n",
    "Este método permite añadir un encabezado a la petición con la siguiente sintaxis:\n",
    "\n",
    "```\n",
    "<objeto>.setRequestHeader(\"<identificador>\", \"<valor>\");\n",
    "```\n",
    "Es posible añadir más de un encabezado con este método."
   ]
  },
  {
   "cell_type": "markdown",
   "metadata": {},
   "source": [
    "### El método *send()*.\n",
    "\n",
    "Este método crea la conexión entre el cliente y el servidor enviando una petición.\n",
    "\n",
    "```\n",
    "<objeto>.send();\n",
    "```"
   ]
  },
  {
   "cell_type": "markdown",
   "metadata": {},
   "source": [
    "### El método *abort()*.\n",
    "\n",
    "Este método cierra la conexión.\n",
    "\n",
    "```\n",
    "<objeto>.abort();\n",
    "```"
   ]
  },
  {
   "cell_type": "markdown",
   "metadata": {},
   "source": [
    "### El método *getAllResponseHeaders()*.\n",
    "\n",
    "Regresa una cadena de caracteres con todos los encabezados de una respuesta. Cada encabezado corresponde a una línea. \n",
    "\n",
    "```\n",
    "<objeto>.getAllResponseHeaders();\n",
    "```\n",
    "\n",
    "Si no hay una repsuesta por parte del servidor, el método regresará *null*."
   ]
  },
  {
   "cell_type": "markdown",
   "metadata": {},
   "source": [
    "### El método *getResponseHeader()*.\n",
    "\n",
    "Regresa el valor del ecabezado que se indica como argumento.\n",
    "\n",
    "```\n",
    "<objeto>.getResponseHeader(\"<identificador>\");\n",
    "```\n",
    "\n",
    "Si no existe el encabezado, el método regresará *null*."
   ]
  },
  {
   "cell_type": "markdown",
   "metadata": {},
   "source": [
    "### El método *overrideMimeType()*.\n",
    "\n",
    "Este método inidca el tipo de formato de dato de la respuesta aún cuando el servidor la envíe en otro formato."
   ]
  },
  {
   "cell_type": "markdown",
   "metadata": {},
   "source": [
    "**Ejemplo:**\n",
    "\n",
    "* Se crearán dos elemento *&lt;div&gt;*. "
   ]
  },
  {
   "cell_type": "code",
   "execution_count": null,
   "metadata": {},
   "outputs": [],
   "source": [
    "%%html\n",
    "<div id=\"respuesta_1\"></div>\n",
    "<div id=\"respuesta_2\"></div>"
   ]
  },
  {
   "cell_type": "markdown",
   "metadata": {},
   "source": [
    "* Se abrirá una conexión para obtener el recurso localizado en [html/ejemplo_d3.html](html/ejemplo_d3.html)\n",
    "* En caso de encontrar el recurso, los siguientes datos se despelgarán en la celda previa:\n",
    "    * El texto que contiene el archivo.\n",
    "    * La URL del recurso.\n",
    "* En caso de no encontrar el recurso, los siguientes datos se despelgarán en la celda previa:\n",
    "    * El códido de estado correspondiente a *404*.\n",
    "    * El texto del estado."
   ]
  },
  {
   "cell_type": "code",
   "execution_count": null,
   "metadata": {},
   "outputs": [],
   "source": [
    "%%javascript\n",
    "const conexion = new XMLHttpRequest();\n",
    "let respuesta_1 = document.getElementById(\"respuesta_1\");\n",
    "let respuesta_2 = document.getElementById(\"respuesta_2\");\n",
    "\n",
    "conexion.onreadystatechange = function() {\n",
    "    if(conexion.readyState == 4){\n",
    "        \n",
    "        if (conexion.status == 200) {\n",
    "            \n",
    "            respuesta_1.textContent = conexion.responseText; \n",
    "            respuesta_2.textContent = conexion.responseURL; \n",
    "        }\n",
    "        if (conexion.status != 200) {\n",
    "            respuesta_1.textContent = conexion.status;\n",
    "            respuesta_2.textContent = conexion.statusText;\n",
    "            \n",
    "        }\n",
    "    }\n",
    "}\n",
    "\n",
    "conexion.open(\"get\", \"html/ejemplo_d3.html\", true);\n",
    "conexion.send();"
   ]
  },
  {
   "cell_type": "markdown",
   "metadata": {},
   "source": [
    "## Cross-Origin Resource Sharing (CORS).\n",
    "\n",
    "Por seguridad, los objetos instanciados de *XMLHttpRequest* sólo pueden acceder a los recursos orignados desde el mismo servidor del que se hacen las peticiones.\n",
    "\n"
   ]
  },
  {
   "cell_type": "markdown",
   "metadata": {},
   "source": [
    "<p style=\"text-align: center\"><a rel=\"license\" href=\"http://creativecommons.org/licenses/by/4.0/\"><img alt=\"Licencia Creative Commons\" style=\"border-width:0\" src=\"https://i.creativecommons.org/l/by/4.0/80x15.png\" /></a><br />Esta obra está bajo una <a rel=\"license\" href=\"http://creativecommons.org/licenses/by/4.0/\">Licencia Creative Commons Atribución 4.0 Internacional</a>.</p>\n",
    "<p style=\"text-align: center\">&copy; José Luis Chiquete Valdivieso. 2019.</p>"
   ]
  }
 ],
 "metadata": {
  "kernelspec": {
   "display_name": "Python 3",
   "language": "python",
   "name": "python3"
  },
  "language_info": {
   "codemirror_mode": {
    "name": "ipython",
    "version": 3
   },
   "file_extension": ".py",
   "mimetype": "text/x-python",
   "name": "python",
   "nbconvert_exporter": "python",
   "pygments_lexer": "ipython3",
   "version": "3.6.5"
  }
 },
 "nbformat": 4,
 "nbformat_minor": 2
}
