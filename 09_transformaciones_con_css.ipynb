{
 "cells": [
  {
   "cell_type": "markdown",
   "metadata": {},
   "source": [
    "[![img/pythonista.png](img/pythonista.png)](https://www.pythonista.io)"
   ]
  },
  {
   "cell_type": "markdown",
   "metadata": {},
   "source": [
    "# Transformaciones con *CSS*."
   ]
  },
  {
   "cell_type": "markdown",
   "metadata": {},
   "source": [
    "Las hojas de estilo cuentan con la regla ```transform``` el cual permite transformar elementos mediante diversos métodos.\n",
    "\n",
    "La sintaxis es la siguiente:\n",
    "```\n",
    "<selector>{\n",
    "transform: <método>(<atributos>);\n",
    "}\n",
    "```\n",
    "\n",
    "* ```translate()```\n",
    "    * ```translateX()```\n",
    "    * ```translateY()```\n",
    "* ```scale()```\n",
    "    * ```scaleX()```\n",
    "    * ```scaleY()```\n",
    "* ```skew()```\n",
    "    * ```skewX()```\n",
    "    * ```skewY()```\n",
    "* ```matrix()```\n",
    "* ```rotate()```\n",
    "* ```rotateX()```\n",
    "* ```rotateY()```\n",
    "* ```rotateZ()```\n",
    "\n",
    "**Nota:** El punto de origen en *CSS* es en la mitad del elemento. "
   ]
  },
  {
   "cell_type": "markdown",
   "metadata": {},
   "source": [
    "## La clase contenedor."
   ]
  },
  {
   "cell_type": "markdown",
   "metadata": {},
   "source": [
    "La siguiente clase será reutilizada a lo largo del capítulo para definir elementos con las mismas características;"
   ]
  },
  {
   "cell_type": "code",
   "execution_count": null,
   "metadata": {},
   "outputs": [],
   "source": [
    "%%html\n",
    "\n",
    "<style>\n",
    "    .contenedor {\n",
    "       margin-top: 60px;\n",
    "       margin-left: 60px;\n",
    "       width: 200px;\n",
    "       height:200px;\n",
    "       background-color:#e9f0f2;\n",
    "    }\n",
    "</style>"
   ]
  },
  {
   "cell_type": "markdown",
   "metadata": {},
   "source": [
    "## Muestra original."
   ]
  },
  {
   "cell_type": "markdown",
   "metadata": {},
   "source": [
    "Para fines ilustrativos se utulizará in elemento ```<div>``` que se reutilizará."
   ]
  },
  {
   "cell_type": "code",
   "execution_count": null,
   "metadata": {},
   "outputs": [],
   "source": [
    "%%html\n",
    "<style>\n",
    "    #ejemplo {\n",
    "        background-color:gold;\n",
    "        width: 100px;\n",
    "        height: 100px;\n",
    "        color:red;\n",
    "        }\n",
    "</style>\n",
    "<div class=\"contenedor\">\n",
    "    <div id=\"ejemplo\">texto</div>\n",
    "</div>"
   ]
  },
  {
   "cell_type": "markdown",
   "metadata": {},
   "source": [
    "## El método ```translate()```."
   ]
  },
  {
   "cell_type": "markdown",
   "metadata": {},
   "source": [
    "El método ```translate()``` permite mover un elemento en una posición ```x``` , ```y```.\n",
    "\n",
    "```\n",
    "translate(<x>, <y>)\n",
    "```"
   ]
  },
  {
   "cell_type": "code",
   "execution_count": null,
   "metadata": {
    "scrolled": false
   },
   "outputs": [],
   "source": [
    "%%html\n",
    "<!-- Estilo para el objeto con id=\"ejemplo_1\"-->\n",
    "<style>\n",
    "    #ejemplo_1 {\n",
    "        background-color:gold;\n",
    "        width: 100px;\n",
    "        height: 100px;\n",
    "        color:red;\n",
    "        transform: translate(250px, 150px);    \n",
    "        }\n",
    "</style>\n",
    "\n",
    "\n",
    "<div class=\"contenedor\">\n",
    "    <div id=\"ejemplo_1\">texto</div>\n",
    "</div>"
   ]
  },
  {
   "cell_type": "markdown",
   "metadata": {},
   "source": [
    "### Los métodos ```translateX()``` y ```translateY()```."
   ]
  },
  {
   "cell_type": "code",
   "execution_count": null,
   "metadata": {
    "scrolled": false
   },
   "outputs": [],
   "source": [
    "%%html\n",
    "<!-- Estilo para el objeto con id=\"ejemplo_2\"-->\n",
    "<style>\n",
    "    #ejemplo_2 {\n",
    "        background-color:gold;\n",
    "        width: 100px;\n",
    "        height: 100px;\n",
    "        color:red;\n",
    "        transform: translateX(-50px);\n",
    "        transform: translateY(50px);\n",
    "        z-axis: 120;\n",
    "        }\n",
    "</style>\n",
    "<div class=\"contenedor\">\n",
    "    <div id=\"ejemplo_2\">texto</div>\n",
    "</div>"
   ]
  },
  {
   "cell_type": "markdown",
   "metadata": {},
   "source": [
    "## El método ```scale()```."
   ]
  },
  {
   "cell_type": "markdown",
   "metadata": {},
   "source": [
    "El método ```scale()``` permite definir una escala en el eje de las *x* y en el eje de las *y*. Donde ```1``` es la escala normal, menos de ```1``` es reducción y más de ```1 ``` es ampliación.\n",
    "\n",
    "```\n",
    "scale(<rel_x>, <rel_y>)\n",
    "```\n",
    "\n",
    "Donde:\n",
    "\n",
    "* ```<rel_x>``` es la relación de escala en el eje de las *x*.\n",
    "* ```<rel_y>``` es la relación de escala en el eje de las *y*."
   ]
  },
  {
   "cell_type": "code",
   "execution_count": null,
   "metadata": {
    "scrolled": false
   },
   "outputs": [],
   "source": [
    "%%html\n",
    "<!-- Estilo para el objeto con id=\"ejemplo_3\"-->\n",
    "<style>\n",
    "    #ejemplo_3 {\n",
    "        background-color:gold;\n",
    "        color:red;\n",
    "        width: 100px;\n",
    "        height: 100px;\n",
    "        transform: scale(0.5, 1.2); \n",
    "        }\n",
    "</style>\n",
    "\n",
    "<div class=\"contenedor\">\n",
    "    <div id=\"ejemplo_3\">texto</div>\n",
    "</div>"
   ]
  },
  {
   "cell_type": "markdown",
   "metadata": {},
   "source": [
    "### Los métodos ```scaleX()``` y ```scaleY()```."
   ]
  },
  {
   "cell_type": "code",
   "execution_count": null,
   "metadata": {
    "scrolled": false
   },
   "outputs": [],
   "source": [
    "%%html\n",
    "\n",
    "<!-- Estilo para el objeto con id=\"ejemplo_4\"-->\n",
    "<style>\n",
    "    #ejemplo_4 {\n",
    "        background-color:gold;\n",
    "        color:red;\n",
    "        width: 100px;\n",
    "        height: 100px;\n",
    "        transform: scaleX(0.75);\n",
    "        transform: scaleY(1.2); \n",
    "        }\n",
    "</style>\n",
    "<div class=\"contenedor\">\n",
    "    <div id=\"ejemplo_4\">texto</div>\n",
    "</div>"
   ]
  },
  {
   "cell_type": "markdown",
   "metadata": {},
   "source": [
    "## El método ```skew()```."
   ]
  },
  {
   "cell_type": "markdown",
   "metadata": {},
   "source": []
  },
  {
   "cell_type": "code",
   "execution_count": null,
   "metadata": {
    "scrolled": false
   },
   "outputs": [],
   "source": [
    "%%html\n",
    "<!-- Estilo para el objeto con id=\"ejemplo_5\"-->\n",
    "<style>\n",
    "    #ejemplo_5 {\n",
    "        background-color:gold;\n",
    "        color:red;\n",
    "        width: 100px;\n",
    "        height: 100px;\n",
    "        transform: skew(15deg, 20deg);\n",
    "        }\n",
    "</style>\n",
    "\n",
    "<div class=\"contenedor\">\n",
    "    <div id=\"ejemplo_5\">texto</div>\n",
    "</div>"
   ]
  },
  {
   "cell_type": "markdown",
   "metadata": {},
   "source": [
    "### Los métodos ```skewX()``` y ```skewY()```."
   ]
  },
  {
   "cell_type": "code",
   "execution_count": null,
   "metadata": {
    "scrolled": true
   },
   "outputs": [],
   "source": [
    "%%html\n",
    "\n",
    "<!-- Estilo para el objeto con id=\"ejemplo_6\"-->\n",
    "<style>\n",
    "    #ejemplo_6 {\n",
    "        background-color:gold;\n",
    "        color:red;\n",
    "        width: 100px;\n",
    "        height: 100px;\n",
    "        transform: skewX(15deg);\n",
    "        transform: skewY(20deg);\n",
    "        }\n",
    "</style>\n",
    "<div class=\"contenedor\">\n",
    "    <div id=\"ejemplo_6\">texto</div>\n",
    "</div>"
   ]
  },
  {
   "cell_type": "markdown",
   "metadata": {},
   "source": [
    "## El método ```matrix()```."
   ]
  },
  {
   "cell_type": "markdown",
   "metadata": {},
   "source": [
    "```\n",
    "transform: matrix (scaleX(), skewY(), skewX(), scaleY(), translateX(), translateY())\n",
    "```\n",
    "\n",
    "* ```translateX()``` y ```translateY()``` se definen en pixeles.\n",
    "* ```skewX()``` y ```skewY()``` se definen en radianes."
   ]
  },
  {
   "cell_type": "code",
   "execution_count": null,
   "metadata": {
    "scrolled": false
   },
   "outputs": [],
   "source": [
    "%%html\n",
    "\n",
    "<!-- Estilo para el objeto con id=\"ejemplo_7\"-->\n",
    "<style>\n",
    "    #ejemplo_7 {\n",
    "        background-color:gold;\n",
    "        color:red;\n",
    "        width: 100px;\n",
    "        height: 100px;\n",
    "        transform: matrix(0.5, 0, 0, 0.5, 100, 50);\n",
    "        }\n",
    "</style>\n",
    "<div class=\"contenedor\">\n",
    "    <div id=\"ejemplo_7\">texto</div>\n",
    "</div>"
   ]
  },
  {
   "cell_type": "markdown",
   "metadata": {},
   "source": [
    "## El método ```rotate()```."
   ]
  },
  {
   "cell_type": "markdown",
   "metadata": {},
   "source": []
  },
  {
   "cell_type": "code",
   "execution_count": null,
   "metadata": {
    "scrolled": true
   },
   "outputs": [],
   "source": [
    "%%html\n",
    "\n",
    "<!-- Estilo para el objeto con id=\"ejemplo_8\"-->\n",
    "<style>\n",
    "    #ejemplo_8 {\n",
    "        background-color:gold;\n",
    "        color:red;\n",
    "        width: 100px;\n",
    "        height: 100px;\n",
    "        transform: rotate(0.78649125rad); \n",
    "        }\n",
    "</style>\n",
    "<div class=\"contenedor\">\n",
    "    <div id=\"ejemplo_8\">texto</div>\n",
    "</div>"
   ]
  },
  {
   "cell_type": "markdown",
   "metadata": {},
   "source": [
    "## Métodos de rotaciónes en 3D."
   ]
  },
  {
   "cell_type": "markdown",
   "metadata": {},
   "source": [
    "También usan la regla ```transform``` para rotar en los ejes *x*, *y* y *z*.\n",
    "\n",
    "* ```rotateX()```\n",
    "* ```rotateY()```\n",
    "* ```rotateZ()```"
   ]
  },
  {
   "cell_type": "code",
   "execution_count": null,
   "metadata": {},
   "outputs": [],
   "source": [
    "%%html\n",
    "\n",
    "<!-- Estilo para el objeto con id=\"ejemplo_8\"-->\n",
    "<style>\n",
    "    #ejemplo_9 {\n",
    "        background-color:gold;\n",
    "        color:red;\n",
    "        width: 100px;\n",
    "        height: 100px;\n",
    "        transform: rotateX(15deg);\n",
    "        transform: rotateY(35deg);\n",
    "        transform: rotateZ(65deg);\n",
    "        }\n",
    "    .contenedor {\n",
    "        margin-left:60px;\n",
    "    }\n",
    "</style>\n",
    "<div class=\"contenedor\">\n",
    "    <div id=\"ejemplo_9\">texto</div>\n",
    "</div>"
   ]
  },
  {
   "cell_type": "markdown",
   "metadata": {},
   "source": [
    "##  La regla ```perspective```."
   ]
  },
  {
   "cell_type": "markdown",
   "metadata": {},
   "source": [
    "Esta regla define un punto de fuga.\n",
    "\n",
    "```\n",
    "perspective: <z>;\n",
    "```\n",
    "\n",
    "* Donde ```<z>``` define un punto de fuga en el eje de las *z*."
   ]
  },
  {
   "cell_type": "markdown",
   "metadata": {},
   "source": [
    "## La regla ```transform-style```.\n",
    "\n",
    "Esta regla permite heredar o no  una regla de transformación de 3D de un elemento padre.\n",
    "\n",
    "https://developer.mozilla.org/en-US/docs/Web/CSS/transform-style"
   ]
  },
  {
   "cell_type": "code",
   "execution_count": null,
   "metadata": {},
   "outputs": [],
   "source": [
    "%%html\n",
    "<style>\n",
    ".contenedor {\n",
    "    perspective: 50px;\n",
    "}\n",
    "#ejemplo_10 {\n",
    "    background-color:gold;\n",
    "    color:red;\n",
    "    width: 100px;\n",
    "    height: 100px;\n",
    "    transform-style: preserve-3d;\n",
    "    transform: rotateX(15deg);\n",
    "}\n",
    "\n",
    "</style>\n",
    "\n",
    "<div class=\"contenedor\">\n",
    "  <div id=\"ejemplo_10\">texto</div>\n",
    "</div>\n"
   ]
  },
  {
   "cell_type": "markdown",
   "metadata": {},
   "source": [
    "<p style=\"text-align: center\"><a rel=\"license\" href=\"http://creativecommons.org/licenses/by/4.0/\"><img alt=\"Licencia Creative Commons\" style=\"border-width:0\" src=\"https://i.creativecommons.org/l/by/4.0/80x15.png\" /></a><br />Esta obra está bajo una <a rel=\"license\" href=\"http://creativecommons.org/licenses/by/4.0/\">Licencia Creative Commons Atribución 4.0 Internacional</a>.</p>\n",
    "<p style=\"text-align: center\">&copy; José Luis Chiquete Valdivieso. 2022.</p>"
   ]
  }
 ],
 "metadata": {
  "kernelspec": {
   "display_name": "Python 3 (ipykernel)",
   "language": "python",
   "name": "python3"
  },
  "language_info": {
   "codemirror_mode": {
    "name": "ipython",
    "version": 3
   },
   "file_extension": ".py",
   "mimetype": "text/x-python",
   "name": "python",
   "nbconvert_exporter": "python",
   "pygments_lexer": "ipython3",
   "version": "3.10.4"
  }
 },
 "nbformat": 4,
 "nbformat_minor": 2
}
