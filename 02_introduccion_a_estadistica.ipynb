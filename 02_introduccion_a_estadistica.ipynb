{
 "cells": [
  {
   "cell_type": "markdown",
   "metadata": {},
   "source": [
    "[![imagenes/pythonista.png](imagenes/pythonista.png)](https://pythonista.io)"
   ]
  },
  {
   "cell_type": "markdown",
   "metadata": {},
   "source": [
    "## Estadística.\n",
    "\n",
    "Es la rama de las matemáticas que estudia los datos generados a partir de eventos aleatorios que se apegan a las leyes de la probabilidad."
   ]
  },
  {
   "cell_type": "markdown",
   "metadata": {},
   "source": [
    "### Estadística descriptiva.\n",
    "\n",
    "* Es aquella que permite conocer las características de una muestra desde el punto de vista estadístico."
   ]
  },
  {
   "cell_type": "markdown",
   "metadata": {},
   "source": [
    "### Estadística inferencial.\n",
    "\n",
    "* Es auqella que a partir del análisis de una o varias muestras puede generar conclusiones aplicables al universo muestral."
   ]
  },
  {
   "cell_type": "markdown",
   "metadata": {},
   "source": [
    "## Probabilidad.\n",
    "\n",
    "Es una medida numérica que indica el nivel de certeza de que evento ocurra en futuro.\n",
    "\n",
    "* En el caso de que exista la certeza absoluta de que un evento ocurra en el futuro, la probabilidad es 1.\n",
    "* En caso de que se tenga la certeza absoluta de que un evento NO ocurra en el futuro, la probabilidad es 0."
   ]
  },
  {
   "cell_type": "markdown",
   "metadata": {},
   "source": [
    "### Notación de probabilidad.\n",
    "\n",
    "Para indicar la probabilidad de que un suceso *A* ocurra decimos $P(A)$."
   ]
  },
  {
   "cell_type": "markdown",
   "metadata": {},
   "source": [
    "## Aleatoriedad.\n",
    "\n",
    "La aleatoriedad se refiere a la igualdad de probabilidad de que un evento ocurra de forma independiente a otros eventos."
   ]
  },
  {
   "cell_type": "markdown",
   "metadata": {},
   "source": [
    "## Método cientifico.\n",
    "\n",
    "El método científico es la base de cualquier estudio formal de fenómenos observables, a partir del cual es posible enunciar, verificar y validar hipótesis ya sea mediante observación empírica o experimental.\n",
    "\n",
    "### Pasos del método científico.\n",
    "\n",
    "* Preguntar.\n",
    "* Observar.\n",
    "* Hipótesis.\n",
    "* Experimentación.\n",
    "* Análisis de datos.\n",
    "* Aceptamos o rechazamos la hipótesis.\n",
    "\n",
    "### Experimentos.\n",
    "\n",
    "Son ejercicios de observación en entornos controlados a los que se les aplican técnicas específicas para que ocurran.\n",
    "\n"
   ]
  },
  {
   "cell_type": "markdown",
   "metadata": {},
   "source": [
    "### Muestreo.\n",
    "\n",
    "En muchos casos no es posible observare fenomenos en entronos controlados e incluso es imposible poder observar a todos los elementos que son susceptibles de experimentar dicho fenómeno.\n",
    "\n",
    "A la totalidad de los elementos que experimentan el fenómeno estudiado en un momento específico se les conoce como universo muestral.\n",
    "\n",
    "Al subconjunto de elementos que pueden ser observados se le conoce  como espacio muestral.\n",
    "\n",
    "El espacio muestral puede definirse por uno o por milladros de datos. "
   ]
  },
  {
   "cell_type": "markdown",
   "metadata": {},
   "source": [
    "<p style=\"text-align: center\"><a rel=\"license\" href=\"http://creativecommons.org/licenses/by/4.0/\"><img alt=\"Licencia Creative Commons\" style=\"border-width:0\" src=\"https://i.creativecommons.org/l/by/4.0/80x15.png\" /></a><br />Esta obra está bajo una <a rel=\"license\" href=\"http://creativecommons.org/licenses/by/4.0/\">Licencia Creative Commons Atribución 4.0 Internacional</a>.</p>\n",
    "<p style=\"text-align: center\">&copy; José Luis Chiquete Valdivieso. 2019.</p>"
   ]
  }
 ],
 "metadata": {
  "kernelspec": {
   "display_name": "Python 3",
   "language": "python",
   "name": "python3"
  },
  "language_info": {
   "codemirror_mode": {
    "name": "ipython",
    "version": 3
   },
   "file_extension": ".py",
   "mimetype": "text/x-python",
   "name": "python",
   "nbconvert_exporter": "python",
   "pygments_lexer": "ipython3",
   "version": "3.7.3"
  }
 },
 "nbformat": 4,
 "nbformat_minor": 2
}
