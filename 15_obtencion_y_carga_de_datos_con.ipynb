{
 "cells": [
  {
   "cell_type": "markdown",
   "metadata": {},
   "source": [
    "[![img/pythonista.png](img/pythonista.png)](https://www.pythonista.io)"
   ]
  },
  {
   "cell_type": "markdown",
   "metadata": {},
   "source": [
    "# Obtención y carga de datos."
   ]
  },
  {
   "cell_type": "markdown",
   "metadata": {},
   "source": [
    "## Inicialización de *D3.js* en la notebook.\n",
    "\n",
    "La siguiente celda permite habilitar *D3.js* dentro de esta notebook y debe de ser ejecutada siempre antes que cualquier otra celda. \n",
    "\n",
    "**Advertencia:**\n",
    "En caso de no inicializar *D3.js* como primera acción, es probable que el código de las siguientes celdas no funcione aún cuando se haga una inicialización posteriormente. En ese caso, es necesario limpiar todas las salidas de las celdas, guardar y recargar la *notebook*."
   ]
  },
  {
   "cell_type": "code",
   "execution_count": null,
   "metadata": {},
   "outputs": [],
   "source": [
    "%%javascript\n",
    "\n",
    "require.config({\n",
    "        paths: {\n",
    "            d3: 'https://d3js.org/d3.v7.min'\n",
    "        }\n",
    "    });"
   ]
  },
  {
   "cell_type": "markdown",
   "metadata": {},
   "source": [
    "## Obtención de un conjunto de datos."
   ]
  },
  {
   "cell_type": "markdown",
   "metadata": {},
   "source": [
    "### El método ```d3.selection.data()```.\n",
    "\n",
    "Este método me permite asignar datos a un objeto ```d3```. Dichos datos serán preservados dentro de la estructura de dicho objeto.\n",
    "\n",
    "```\n",
    "d3.data(<datos>)\n",
    "```\n",
    "\n",
    "Donde: \n",
    "\n",
    "* ```<datos>``` es un objeto de *Javascript*.\n",
    "\n",
    "https://github.com/d3/d3-selection#selection_data"
   ]
  },
  {
   "cell_type": "markdown",
   "metadata": {},
   "source": [
    "### El método ```d3.selection.enter()```.\n",
    "\n",
    "Este metódo crea un iterador que permite acceder a cada elemento de ```data``` de forma similar a un ```for``` y a cada dato iterado de ```data``` se le asignará el nombre ```d```."
   ]
  },
  {
   "cell_type": "code",
   "execution_count": null,
   "metadata": {},
   "outputs": [],
   "source": [
    "%%html\n",
    "<div id=\"contenedor-1\"></div>"
   ]
  },
  {
   "cell_type": "code",
   "execution_count": null,
   "metadata": {},
   "outputs": [],
   "source": [
    "%%javascript\n",
    "\n",
    "const datos_1 = [1, 2, 3, 4, 12 ,17];\n",
    "\n",
    "require([\"d3\"], function(d3) { \n",
    "    d3.select(\"#contenedor-1\").\n",
    "        selectAll(\"p\").\n",
    "        data(datos_1).\n",
    "        enter().\n",
    "        append(\"p\").\n",
    "        text(d => d);\n",
    "});"
   ]
  },
  {
   "cell_type": "code",
   "execution_count": null,
   "metadata": {
    "scrolled": false
   },
   "outputs": [],
   "source": [
    "%%html\n",
    "<div id=\"contenedor-2\">\n",
    "</div>"
   ]
  },
  {
   "cell_type": "code",
   "execution_count": null,
   "metadata": {},
   "outputs": [],
   "source": [
    "%%javascript\n",
    "\n",
    "const datos_2 = [1, 2, 3, 4, 12, 3, 1, 15];\n",
    "\n",
    "require([\"d3\"], function(d3) {\n",
    "    d3.select(\"#contenedor-2\").\n",
    "        selectAll(\"div\").\n",
    "        data(datos_2).\n",
    "        enter().\n",
    "        append(\"div\").\n",
    "        style(\"background-color\", \"blue\").\n",
    "        style(\"color\", \"white\").\n",
    "        style(\"text-align\", \"center\").      \n",
    "        style(\"width\", d => d * 10 + \"px\").\n",
    "        text(d => d);\n",
    "        })"
   ]
  },
  {
   "cell_type": "code",
   "execution_count": null,
   "metadata": {},
   "outputs": [],
   "source": [
    "%%html\n",
    "<div id=\"contenedor-3\">\n",
    "<svg id=\"svg-3\" width=\"100\" height=\"100\">\n",
    "</div>"
   ]
  },
  {
   "cell_type": "code",
   "execution_count": null,
   "metadata": {},
   "outputs": [],
   "source": [
    "%%javascript\n",
    "\n",
    "const datos_3 = [1, 2, 3, 2.3, 6, \"hola\", 12];\n",
    "\n",
    "let contador = -15;\n",
    "\n",
    "function suma(){\n",
    "    contador += 15;\n",
    "    return contador;\n",
    "}\n",
    "\n",
    "require([\"d3\"], function(d3) {\n",
    "    d3.select(\"#svg-3\").\n",
    "        selectAll(\"rect\").\n",
    "        data(datos_3).\n",
    "        enter().append(\"rect\").\n",
    "        attr(\"fill\", \"skyblue\").\n",
    "        attr(\"x\", \"0\").\n",
    "        attr(\"height\", \"10\").\n",
    "        attr(\"width\", d => d * 10).\n",
    "        attr(\"y\", d => suma());\n",
    "        })"
   ]
  },
  {
   "cell_type": "markdown",
   "metadata": {},
   "source": [
    "**Ejemplo:**"
   ]
  },
  {
   "cell_type": "markdown",
   "metadata": {},
   "source": [
    "https://github.com/d3/d3-selection#joining-data"
   ]
  },
  {
   "cell_type": "code",
   "execution_count": null,
   "metadata": {},
   "outputs": [],
   "source": [
    "%%html\n",
    "<div id=\"contenedor-4\"></div>"
   ]
  },
  {
   "cell_type": "code",
   "execution_count": null,
   "metadata": {},
   "outputs": [],
   "source": [
    "%%javascript\n",
    "\n",
    "const matriz = [\n",
    "  [11975,  5871, 8916, 2868],\n",
    "  [ 1951, 10048, 2060, 6171],\n",
    "  [ 8010, 16145, 8090, 8045],\n",
    "  [ 1013,   990,  940, 6907]\n",
    "];\n",
    "\n",
    "require([\"d3\"], function(d3) { \n",
    "    let tr = d3.select(\"#contenedor-4\")\n",
    "        .append(\"table\")\n",
    "        .selectAll(\"tr\")\n",
    "        .data(matriz)\n",
    "        .enter().append(\"tr\");\n",
    "    \n",
    "    let td = tr.selectAll(\"td\")\n",
    "        .data(d => d)\n",
    "        .enter().append(\"td\")\n",
    "        .text(d => d);\n",
    "});"
   ]
  },
  {
   "cell_type": "markdown",
   "metadata": {},
   "source": [
    "## Carga de documentos.\n",
    "\n",
    "La biblioteca *D3.js* ha implementado la especificación de [```fetch```](https://fetch.spec.whatwg.org/) para intercambiar mensajes *HTTP* con diversos servidores y en diversos formatos.\n",
    "\n",
    "https://github.com/d3/d3-fetch\n",
    "\n",
    "Algunos métodos que permiten extraer datos son:\n",
    "\n",
    "* ```d3.text(\"<URL>\")```, el cual permite obtener documentos de texto desde una *URL*.\n",
    "* ```d3.image(\"<URL>\")```, el cual permite obtener imágenes desde una *URL*.\n",
    "* ```d3.html(\"<URL>\")```, el cual permite obtener código *HTML* desde una *URL*.\n",
    "* ```d3.csv(\"<URL>\")```, el cual permite obtener documentos *CSV* desde una *URL*.\n",
    "* ```d3.json(\"<URL>\")```, el cual permite obtener objetos de *Javascript* a partir de la notación *JSON* desde una *URL*.\n",
    "* ```d3.xml(\"<URL>\")```, el cual permite obtener documentos de *XML* desde una *URL*.\n",
    "\n",
    "Debido a que ```fetch``` fue diseñado para realizar comunicaciones asíncronas, los métodos posteriores a la extracción de datos requieren del método ```then()```, el cual ejecutará una función una vez que la carga esté completa. Los datos obtenidos serán el argumento de la función de ```then```.\n",
    "\n",
    "\n",
    "```\n",
    "d3.fetch.then(<funcion>)\n",
    "```"
   ]
  },
  {
   "cell_type": "markdown",
   "metadata": {},
   "source": [
    "### Carga de documentos de texto."
   ]
  },
  {
   "cell_type": "code",
   "execution_count": null,
   "metadata": {
    "scrolled": true
   },
   "outputs": [],
   "source": [
    "%%html\n",
    "<div id=\"contenedor-5\">\n",
    "</div>"
   ]
  },
  {
   "cell_type": "code",
   "execution_count": null,
   "metadata": {},
   "outputs": [],
   "source": [
    "%%javascript\n",
    "\n",
    "require([\"d3\"], function(d3){\n",
    "    d3.text(\"data/texto.txt\").then(function(datos){\n",
    "            d3.select(\"#contenedor-5\").\n",
    "            append(\"p\").\n",
    "            text(datos);\n",
    "    });\n",
    "});"
   ]
  },
  {
   "cell_type": "markdown",
   "metadata": {},
   "source": [
    "### Carga de imágenes."
   ]
  },
  {
   "cell_type": "code",
   "execution_count": null,
   "metadata": {},
   "outputs": [],
   "source": [
    "%%html\n",
    "<div id=\"contenedor-6\">\n",
    "</div>"
   ]
  },
  {
   "cell_type": "code",
   "execution_count": null,
   "metadata": {},
   "outputs": [],
   "source": [
    "%%javascript\n",
    "\n",
    "require([\"d3\"], function(d3) {\n",
    "    d3.image(\"img/pythonista.png\").then(function(imagen) {\n",
    "        let contenedor = document.getElementById(\"contenedor-6\");\n",
    "        contenedor.appendChild(imagen);\n",
    "    });\n",
    "});"
   ]
  },
  {
   "cell_type": "markdown",
   "metadata": {},
   "source": [
    "### Carga de documentos HTML."
   ]
  },
  {
   "cell_type": "code",
   "execution_count": null,
   "metadata": {
    "scrolled": true
   },
   "outputs": [],
   "source": [
    "%%html\n",
    "<div id=\"contenedor-7\">\n",
    "</div>"
   ]
  },
  {
   "cell_type": "code",
   "execution_count": null,
   "metadata": {},
   "outputs": [],
   "source": [
    "%%javascript\n",
    "\n",
    "require([\"d3\"], function(d3) {\n",
    "    d3.html(\"data/codigo.html\").then(function(contenido){\n",
    "        d3.select(\"#contenedor-7\").\n",
    "        html(contenido.body.innerHTML);\n",
    "    });\n",
    "});"
   ]
  },
  {
   "cell_type": "markdown",
   "metadata": {},
   "source": [
    "### Carga de  de documentos CSV."
   ]
  },
  {
   "cell_type": "markdown",
   "metadata": {},
   "source": [
    "**Ejemplo:**\n",
    "\n",
    "Se leerá el archivo [data/calificaciones.csv](data/calificaciones.csv) y se desplegarán las propiedades:\n",
    "* *Nombre*\n",
    "* *py101*\n",
    "* *py111*\n",
    "* *py121* "
   ]
  },
  {
   "cell_type": "code",
   "execution_count": null,
   "metadata": {},
   "outputs": [],
   "source": [
    "%%html\n",
    "<div id=\"contenedor-8\">\n",
    "</div>"
   ]
  },
  {
   "cell_type": "code",
   "execution_count": null,
   "metadata": {},
   "outputs": [],
   "source": [
    "%%javascript\n",
    "\n",
    "require([\"d3\"], function(d3) {\n",
    "    d3.csv(\"data/calificaciones.csv\",).then(function(datos){\n",
    "        d3.select(\"#contenedor-8\").\n",
    "            selectAll(\"p\").\n",
    "            data(datos).\n",
    "            enter().append(\"p\").\n",
    "            text(d => d.Nombre + \". py101: \" + d.py101 + \". py111: \" + d.py111 \n",
    "                 + \". py121: \" + d.py121);\n",
    "    })\n",
    "});"
   ]
  },
  {
   "cell_type": "markdown",
   "metadata": {},
   "source": [
    "### Carga de documentos JSON."
   ]
  },
  {
   "cell_type": "code",
   "execution_count": null,
   "metadata": {},
   "outputs": [],
   "source": [
    "%%html\n",
    "<div id=\"contenedor-9\">\n",
    "</div>"
   ]
  },
  {
   "cell_type": "code",
   "execution_count": null,
   "metadata": {},
   "outputs": [],
   "source": [
    "%%javascript\n",
    "\n",
    "require([\"d3\"], function(d3){\n",
    "    d3.json(\"data/calificaciones.json\",).then(function(datos){\n",
    "    d3.select(\"#contenedor-9\").\n",
    "            selectAll(\"p\").\n",
    "            data(datos).\n",
    "            enter().\n",
    "            append(\"p\").\n",
    "            text(d => d.Nombre + \". py101: \" + d.py101 + \". py111: \" + d.py111 \n",
    "                 + \". py121: \" + d.py121);\n",
    "    })\n",
    "});"
   ]
  },
  {
   "cell_type": "markdown",
   "metadata": {},
   "source": [
    "### Carga de documentos XML."
   ]
  },
  {
   "cell_type": "code",
   "execution_count": null,
   "metadata": {},
   "outputs": [],
   "source": [
    "%%html\n",
    "<div id=\"contenedor-10\">\n",
    "</div>"
   ]
  },
  {
   "cell_type": "code",
   "execution_count": null,
   "metadata": {},
   "outputs": [],
   "source": [
    "%%javascript\n",
    "require([\"d3\"], function(d3){\n",
    "    d3.xml(\"data/cursos.xml\").then(function(datos){\n",
    "        d3.select(\"#contenedor-10\").\n",
    "        selectAll(\"p\").\n",
    "        data(datos.getElementsByTagName(\"curso\")).\n",
    "        enter().\n",
    "        append(\"p\").\n",
    "        text(d => d.getAttribute(\"clave\") + \": \" + d.getAttribute(\"nombre\"));\n",
    "    });\n",
    "});"
   ]
  },
  {
   "cell_type": "markdown",
   "metadata": {},
   "source": []
  },
  {
   "cell_type": "code",
   "execution_count": null,
   "metadata": {
    "scrolled": true
   },
   "outputs": [],
   "source": [
    "%%html\n",
    "<svg id=\"contenedor-11\" width=200 height=250>\n",
    "    <g>\n",
    "    </g>\n",
    "</svg>"
   ]
  },
  {
   "cell_type": "code",
   "execution_count": null,
   "metadata": {},
   "outputs": [],
   "source": [
    "%%javascript\n",
    "require([\"d3\"], function(d3){\n",
    "    d3.json(\"data/poblacion.json\").then(function(datos){\n",
    "        \n",
    "        let y_pos=0;\n",
    "        let data=[];\n",
    "        for (let dato in datos){\n",
    "            let obj = {\"anio\":dato, \n",
    "                      \"poblacion\": datos[dato] / 1000000,\n",
    "                      \"y\": y_pos\n",
    "                      };\n",
    "            data.push(obj);\n",
    "            y_pos += 15;\n",
    "        }\n",
    "\n",
    "        d3.select(\"#contenedor-11 g\").\n",
    "        selectAll(\"rect\").\n",
    "        data(data).\n",
    "        enter().\n",
    "        append(\"rect\").\n",
    "        attr(\"x\", 0).\n",
    "        attr(\"y\", d => d.y).\n",
    "        attr(\"height\", 10).\n",
    "        attr(\"width\", d => d.poblacion).\n",
    "        attr(\"fill\", \"skyblue\").\n",
    "        attr(\"stroke\", \"black\")\n",
    "        \n",
    "        d3.select(\"#contenedor-11 g\").\n",
    "        selectAll(\"text\").\n",
    "        data(data).\n",
    "        enter().\n",
    "        append(\"text\").\n",
    "        text(d => d.anio).\n",
    "        attr(\"x\", d => d.poblacion + 5).\n",
    "        attr(\"y\", d => d.y + 8).\n",
    "        attr(\"stroke\", \"black\").\n",
    "        attr(\"font-size\", \"70%\")\n",
    "    })\n",
    "});"
   ]
  },
  {
   "cell_type": "markdown",
   "metadata": {},
   "source": [
    "<p style=\"text-align: center\"><a rel=\"license\" href=\"http://creativecommons.org/licenses/by/4.0/\"><img alt=\"Licencia Creative Commons\" style=\"border-width:0\" src=\"https://i.creativecommons.org/l/by/4.0/80x15.png\" /></a><br />Esta obra está bajo una <a rel=\"license\" href=\"http://creativecommons.org/licenses/by/4.0/\">Licencia Creative Commons Atribución 4.0 Internacional</a>.</p>\n",
    "<p style=\"text-align: center\">&copy; José Luis Chiquete Valdivieso. 2022.</p>"
   ]
  }
 ],
 "metadata": {
  "kernelspec": {
   "display_name": "Python 3 (ipykernel)",
   "language": "python",
   "name": "python3"
  },
  "language_info": {
   "codemirror_mode": {
    "name": "ipython",
    "version": 3
   },
   "file_extension": ".py",
   "mimetype": "text/x-python",
   "name": "python",
   "nbconvert_exporter": "python",
   "pygments_lexer": "ipython3",
   "version": "3.10.4"
  }
 },
 "nbformat": 4,
 "nbformat_minor": 2
}
