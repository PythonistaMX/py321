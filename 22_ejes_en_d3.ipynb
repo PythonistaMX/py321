{
 "cells": [
  {
   "cell_type": "markdown",
   "metadata": {},
   "source": [
    "[![img/pythonista.png](img/pythonista.png)](https://www.pythonista.io)"
   ]
  },
  {
   "cell_type": "markdown",
   "metadata": {},
   "source": [
    "# Ejes en *D3.js*"
   ]
  },
  {
   "cell_type": "markdown",
   "metadata": {},
   "source": [
    "## Inicialización de *D3.js* en la *notebook*."
   ]
  },
  {
   "cell_type": "markdown",
   "metadata": {},
   "source": [
    "La siguiente celda permite habilitar *D3.js* dentro de esta *notebook* y debe de ser ejecutada siempre antes que cualquier otra celda. \n",
    "\n",
    "**Advertencia:**\n",
    "En caso de no inicializar *D3.js* como primera acción, es probable que el código de las siguientes celdas no funcione aún cuando se haga una inicialización posteriormente. En ese caso, es necesario limpiar todas las salidas de las celdas, guardar y recargar la *notebook*."
   ]
  },
  {
   "cell_type": "code",
   "execution_count": null,
   "metadata": {},
   "outputs": [],
   "source": [
    "%%javascript\n",
    "\n",
    "require.config({\n",
    "        paths: {\n",
    "            \"d3\": \"https://d3js.org/d3.v7\"\n",
    "        }\n",
    "    });"
   ]
  },
  {
   "cell_type": "markdown",
   "metadata": {},
   "source": [
    "## El módulo ```d3-axis```."
   ]
  },
  {
   "cell_type": "markdown",
   "metadata": {},
   "source": [
    "Las funciones del módulo ```d3-axis``` combinadas con ```d3-scale``` permiten trazar ejes dentro de un objeto *SVG*, los ejes están compuestos por múltiples elementos *SVG*, los cuales son contenidos en un elemento ```<g>```. Los ejes siempre son construidos a partir de la esquina superior izquierda del elemento *SVG*, correspondientes a las coordenadas (```0```, ```0```).\n",
    "\n",
    "```\n",
    "d3.axis(<escala>)\n",
    "```\n",
    "\n",
    "Donde:\n",
    "\n",
    "*```<escala>``` es una función creada a partir de ```d3-scale```.\n",
    "\n",
    "https://github.com/d3/d3-axis"
   ]
  },
  {
   "cell_type": "markdown",
   "metadata": {},
   "source": [
    "* ```d3.axisTop()```\n",
    "* ```d3.axisBottom()```\n",
    "* ```d3.axisLeft()```\n",
    "* ```d3.axisRight()```"
   ]
  },
  {
   "cell_type": "markdown",
   "metadata": {},
   "source": [
    "**Ejemplos:**"
   ]
  },
  {
   "cell_type": "markdown",
   "metadata": {},
   "source": [
    "* Las siguientes celdas trazarán un eje horizontal construido a partir del punto (```0,0```) a partir de una función ```d3.scaleLinear()```."
   ]
  },
  {
   "cell_type": "code",
   "execution_count": null,
   "metadata": {
    "scrolled": true
   },
   "outputs": [],
   "source": [
    "%%svg\n",
    "<svg width=\"500\" height=\"300\" id=\"svg-1\">\n",
    "</svg>"
   ]
  },
  {
   "cell_type": "code",
   "execution_count": null,
   "metadata": {},
   "outputs": [],
   "source": [
    "%%javascript\n",
    "\n",
    "requirejs([\"d3\"], function(d3) {\n",
    "    \n",
    "    /* Se crea la escala lineal. */\n",
    "    let escalaX = d3.scaleLinear().\n",
    "    domain([0,15]).\n",
    "    range([0, 450]);\n",
    "    \n",
    "    /* Se define la función de eje a partir de d3.axisBottom. */ \n",
    "    let ejeX = d3.axisBottom(escalaX);\n",
    "    \n",
    "    /* Se construye el eje insertando un elemento <g>. */\n",
    "    d3.select(\"#svg-1\").\n",
    "        append(\"g\").\n",
    "        call(ejeX);\n",
    "})"
   ]
  },
  {
   "cell_type": "markdown",
   "metadata": {},
   "source": [
    "* Las siguientes celdas trazarán un eje vertical construido a partir del punto (```20, 5```) a partir de una función ```d3.scaleLinear()```. La escala se mostrará de arriba hacia abajo, debido al sistema de coordenadas de *SVG*."
   ]
  },
  {
   "cell_type": "code",
   "execution_count": null,
   "metadata": {
    "scrolled": true
   },
   "outputs": [],
   "source": [
    "%%svg\n",
    "<svg width=\"500\" height=\"300\" id=\"svg-2\">\n",
    "</svg>"
   ]
  },
  {
   "cell_type": "code",
   "execution_count": null,
   "metadata": {},
   "outputs": [],
   "source": [
    "%%javascript\n",
    "\n",
    "requirejs([\"d3\"], function(d3) {\n",
    "    \n",
    "    /* Se crea la escala lineal. */\n",
    "    let escalaY = d3.scaleLinear().\n",
    "    domain([0,15]).\n",
    "    range([0, 250]);\n",
    "    \n",
    "    /* Se define la función de eje a partir de d3.axisBottom. */ \n",
    "    let ejeY = d3.axisLeft(escalaY);\n",
    "    \n",
    "    /* Se construye el eje insertando un elemento <g>. */\n",
    "    d3.select(\"#svg-2\").\n",
    "        append(\"g\").\n",
    "        attr(\"transform\", \"translate(20, 5)\").\n",
    "        call(ejeY);\n",
    "})"
   ]
  },
  {
   "cell_type": "markdown",
   "metadata": {},
   "source": [
    "* Las siguientes celdas trazarán un eje vertical construido a partir del punto (```20, 5```) a partir de una función ```d3.scaleLinear()```. Para que la escala se muestre de abajo para arriba, se definirá un rango ```[250, 0]``` a ```escalaY.range()```."
   ]
  },
  {
   "cell_type": "markdown",
   "metadata": {},
   "source": [
    "* Las siguientes celdas trazarán un eje vertical construido a partir del punto (```30, 255```) y un eje horizontal construido a partir del punto (```30```, ```5```) ."
   ]
  },
  {
   "cell_type": "code",
   "execution_count": null,
   "metadata": {
    "scrolled": false
   },
   "outputs": [],
   "source": [
    "%%svg\n",
    "<svg width=\"500\" height=\"300\" id=\"svg-3\">\n",
    "</svg>"
   ]
  },
  {
   "cell_type": "code",
   "execution_count": null,
   "metadata": {},
   "outputs": [],
   "source": [
    "%%javascript\n",
    "\n",
    "requirejs([\"d3\"], function(d3) {\n",
    "    \n",
    "    /* Se definen los datos. */\n",
    "    let data = [1, 2, 3, 4, 5, 6, 7, 8, 9, 10, 11, 12, 13, 14, 15];\n",
    "    \n",
    "    /* Se crea la escala lineal. */\n",
    "    let escalaY = d3.scaleLinear().\n",
    "    domain([0,15]).\n",
    "    range([250, 0]);\n",
    "    \n",
    "    /* Se define la función de eje a partir de d3.axisLeft. */ \n",
    "    let ejeY = d3.axisLeft(escalaY);\n",
    "    \n",
    "    /* Se construye el eje insertando un elemento <g>. */\n",
    "    d3.select(\"#svg-3\").\n",
    "        append(\"g\").\n",
    "        attr(\"transform\", \"translate(20, 5)\").\n",
    "        call(ejeY);\n",
    "})"
   ]
  },
  {
   "cell_type": "code",
   "execution_count": null,
   "metadata": {},
   "outputs": [],
   "source": [
    "%%svg\n",
    "<svg width=\"500\" height=\"300\" id=\"svg-4\">\n",
    "</svg>"
   ]
  },
  {
   "cell_type": "code",
   "execution_count": null,
   "metadata": {},
   "outputs": [],
   "source": [
    "%%javascript\n",
    "\n",
    "requirejs([\"d3\"], function(d3) {\n",
    "    \n",
    "    /* Se definen los datos. */\n",
    "    let data = [1, 2, 3, 4, 5, 6, 7, 8, 9, 10, 11, 12, 13, 14, 15];\n",
    "    \n",
    "    /* Se crea la escala lineal. */\n",
    "    let escalaX = d3.scaleLinear().\n",
    "    domain([0,15]).\n",
    "    range([0, 450]);\n",
    "    \n",
    "    /* Se define la función de eje a partir de d3.axisBottom. */ \n",
    "    let ejeX = d3.axisBottom(escalaX);\n",
    "    \n",
    "    /* Se construye el eje insertando un elemento <g>. */\n",
    "    d3.select(\"#svg-4\").\n",
    "        append(\"g\").\n",
    "        attr(\"transform\", \"translate(30, 255)\").\n",
    "        call(ejeX);\n",
    "    \n",
    "    /* Se crea la escala lineal. */\n",
    "    let escalaY = d3.scaleLinear().\n",
    "    domain([0,15]).\n",
    "    range([250, 0]);\n",
    "    \n",
    "    /* Se define la función de eje a partir de d3.axisBottom. */ \n",
    "    let ejeY = d3.axisLeft(escalaY);\n",
    "    \n",
    "    /* Se construye el eje insertando un elemento <g>. */\n",
    "    d3.select(\"#svg-4\").\n",
    "        append(\"g\").\n",
    "        attr(\"transform\", \"translate(30, 5)\").\n",
    "        call(ejeY);\n",
    "  \n",
    "    \n",
    "})"
   ]
  },
  {
   "cell_type": "markdown",
   "metadata": {},
   "source": [
    "* Las siguientes celdas trazarán:\n",
    "    * Un eje vertical construido a partir del punto (```30, 255```).\n",
    "    * Un eje horizontal construido a partir del punto (```30```, ```5```).\n",
    "    * Un conjunto de círculos cuya posició  y color están en función del valor de los datos que representan."
   ]
  },
  {
   "cell_type": "code",
   "execution_count": null,
   "metadata": {
    "scrolled": true
   },
   "outputs": [],
   "source": [
    "%%svg\n",
    "<svg width=\"500\" height=\"300\" id=\"svg-5\">\n",
    "</svg>"
   ]
  },
  {
   "cell_type": "code",
   "execution_count": null,
   "metadata": {},
   "outputs": [],
   "source": [
    "%%javascript\n",
    "\n",
    "requirejs([\"d3\"], function(d3) {\n",
    "    \n",
    "    /* Se definen los datos. */\n",
    "    let data = [1, 2, 3, 4, 5, 6, 7, 8, 9, 10, 11, 12, 13, 14, 15];\n",
    "    \n",
    "    /* Se crea la escala lineal para el eje x. */\n",
    "    let escalaX = d3.scaleLinear().\n",
    "    domain([0,15]).\n",
    "    range([0, 450]);\n",
    "    \n",
    "    /* Se define la función de eje a partir de d3.axisBottom. */ \n",
    "    let ejeX = d3.axisBottom(escalaX);\n",
    "    \n",
    "    /* Se construye el eje insertando un elemento <g>. */\n",
    "    d3.select(\"#svg-5\").\n",
    "        append(\"g\").\n",
    "        attr(\"transform\", \"translate(30, 255)\").\n",
    "        call(ejeX);\n",
    "    \n",
    "    /* Se crea la escala lineal para el eje y. */\n",
    "    let escalaY = d3.scaleLinear().\n",
    "    domain([0,15]).\n",
    "    range([250, 0]);\n",
    "    \n",
    "    /* Se define la función de eje a partir de d3.axisBottom. */ \n",
    "    let ejeY = d3.axisLeft(escalaY);\n",
    "    \n",
    "    /* Se construye el eje insertando un elemento <g>. */\n",
    "    d3.select(\"#svg-5\").\n",
    "        append(\"g\").\n",
    "        attr(\"transform\", \"translate(30, 5)\").\n",
    "        call(ejeY);\n",
    "    \n",
    "    /* Se crea la escala lineal de colores. */\n",
    "    let escalaColores = d3.scaleLinear().\n",
    "    domain([1, 15]).\n",
    "    range([\"yellow\", \"blue\"]);\n",
    "    \n",
    "    /* Se trazará un conjunto de círculos cuya posición y color \n",
    "      estarán en función del valor de cada dato. */\n",
    "\n",
    "    d3.select(\"#svg-5\").\n",
    "        append(\"g\").\n",
    "        attr(\"transform\", \"translate(30, 5)\").\n",
    "        selectAll(\".circulos\").\n",
    "        data(data).\n",
    "        enter().\n",
    "        append(\"circle\").\n",
    "        attr(\"cx\", d => escalaX(d)).\n",
    "        attr(\"cy\", d => escalaY(d)).\n",
    "        attr(\"fill\", d => escalaColores(d)).\n",
    "        attr(\"r\", \"5\");\n",
    "    \n",
    "})"
   ]
  },
  {
   "cell_type": "code",
   "execution_count": null,
   "metadata": {},
   "outputs": [],
   "source": [
    "%%svg\n",
    "<svg width=\"500\" height=\"300\" id=\"svg-6\">\n",
    "</svg>"
   ]
  },
  {
   "cell_type": "code",
   "execution_count": null,
   "metadata": {},
   "outputs": [],
   "source": [
    "%%javascript\n",
    "\n",
    "requirejs([\"d3\"], function(d3) {\n",
    "    \n",
    "    /* Se definen los datos. */\n",
    "    let data = [1, 4, 9, 16, 25, 36, 49, 64, 81, 100, 121, 144, 169, 196, 225];\n",
    "    \n",
    "    /* Se crea la escala lineal para el eje x. */\n",
    "    let escalaX = d3.scaleLinear().\n",
    "    domain([0,225]).\n",
    "    range([0, 450]);\n",
    "    \n",
    "    /* Se define la función de eje a partir de d3.axisBottom. */ \n",
    "    let ejeX = d3.axisBottom(escalaX);\n",
    "    \n",
    "    /* Se construye el eje insertando un elemento <g>. */\n",
    "    d3.select(\"#svg-6\").\n",
    "        append(\"g\").\n",
    "        attr(\"transform\", \"translate(30, 255)\").\n",
    "        call(ejeX);\n",
    "    \n",
    "    /* Se crea la escala lineal para el eje y. */\n",
    "    let escalaY = d3.scaleLinear().\n",
    "    domain([0,225]).\n",
    "    range([250, 0]);\n",
    "    \n",
    "    /* Se define la función de eje a partir de d3.axisBottom. */ \n",
    "    let ejeY = d3.axisLeft(escalaY);\n",
    "    \n",
    "    /* Se construye el eje insertando un elemento <g>. */\n",
    "    d3.select(\"#svg-6\").\n",
    "        append(\"g\").\n",
    "        attr(\"transform\", \"translate(30, 5)\").\n",
    "        call(ejeY);\n",
    "    \n",
    "    /* Se crea la escala lineal de colores. */\n",
    "    let escalaColores = d3.scaleLinear().\n",
    "    domain([1, 225]).\n",
    "    range([\"blue\", \"yellow\"]);\n",
    "    \n",
    "    /* Se trazará un conjunto de círculos cuya posición y color \n",
    "      estarán en función del valor de cada dato. */\n",
    "\n",
    "    d3.select(\"#svg-6\").\n",
    "        append(\"g\").\n",
    "        attr(\"transform\", \"translate(30, 5)\").\n",
    "        selectAll(\".circulos\").\n",
    "        data(data).\n",
    "        enter().\n",
    "        append(\"circle\").\n",
    "        attr(\"cx\", d => escalaX(d)).\n",
    "        attr(\"cy\", d => escalaY(d)).\n",
    "        attr(\"fill\", d => escalaColores(d)).\n",
    "        attr(\"r\", \"5\");\n",
    "    \n",
    "})"
   ]
  },
  {
   "cell_type": "markdown",
   "metadata": {},
   "source": [
    "https://github.com/d3/d3-scale#scaleSqrt"
   ]
  },
  {
   "cell_type": "code",
   "execution_count": null,
   "metadata": {},
   "outputs": [],
   "source": [
    "%%svg\n",
    "<svg width=\"500\" height=\"300\" id=\"svg-7\">\n",
    "</svg>"
   ]
  },
  {
   "cell_type": "code",
   "execution_count": null,
   "metadata": {},
   "outputs": [],
   "source": [
    "%%javascript\n",
    "\n",
    "requirejs([\"d3\"], function(d3) {\n",
    "    \n",
    "    /* Se definen los datos. */\n",
    "    let data = [1, 4, 9, 16, 25, 36, 49, 64, 81, 100, 121, 144, 169, 196, 225];\n",
    "    \n",
    "    /* Se crea la escala para el eje x. */\n",
    "    let escalaX = d3.scaleSqrt().\n",
    "    domain([0,225]).\n",
    "    range([0, 450]);\n",
    "    \n",
    "    /* Se define la función de eje a partir de d3.axisBottom. */ \n",
    "    let ejeX = d3.axisBottom(escalaX);\n",
    "    \n",
    "    /* Se construye el eje insertando un elemento <g>. */\n",
    "    d3.select(\"#svg-7\").\n",
    "        append(\"g\").\n",
    "        attr(\"transform\", \"translate(30, 255)\").\n",
    "        call(ejeX);\n",
    "    \n",
    "    /* Se crea la escala para el eje y. */\n",
    "    let escalaY = d3.scaleSqrt().\n",
    "    domain([0,225]).\n",
    "    range([250, 0]);\n",
    "    \n",
    "    /* Se define la función de eje a partir de d3.axisBottom. */ \n",
    "    let ejeY = d3.axisLeft(escalaY);\n",
    "    \n",
    "    /* Se construye el eje insertando un elemento <g>. */\n",
    "    d3.select(\"#svg-7\").\n",
    "        append(\"g\").\n",
    "        attr(\"transform\", \"translate(30, 5)\").\n",
    "        call(ejeY);\n",
    "    \n",
    "    /* Se crea la escala de colores. */\n",
    "    let escalaColores = d3.scaleSqrt().\n",
    "    domain([1, 225]).\n",
    "    range([\"yellow\", \"blue\"]);\n",
    "    \n",
    "    /* Se trazará un conjunto de círculos cuya posición y color \n",
    "      estarán en función del valor de cada dato. */\n",
    "\n",
    "    d3.select(\"#svg-7\").\n",
    "        append(\"g\").\n",
    "        attr(\"transform\", \"translate(30, 5)\").\n",
    "        selectAll(\".circulos\").\n",
    "        data(data).\n",
    "        enter().\n",
    "        append(\"circle\").\n",
    "        attr(\"cx\", d => escalaX(d)).\n",
    "        attr(\"cy\", d => escalaY(d)).\n",
    "        attr(\"fill\", d => escalaColores(d)).\n",
    "        attr(\"r\", \"5\");\n",
    "    \n",
    "})"
   ]
  },
  {
   "cell_type": "markdown",
   "metadata": {},
   "source": [
    "<p style=\"text-align: center\"><a rel=\"license\" href=\"http://creativecommons.org/licenses/by/4.0/\"><img alt=\"Licencia Creative Commons\" style=\"border-width:0\" src=\"https://i.creativecommons.org/l/by/4.0/80x15.png\" /></a><br />Esta obra está bajo una <a rel=\"license\" href=\"http://creativecommons.org/licenses/by/4.0/\">Licencia Creative Commons Atribución 4.0 Internacional</a>.</p>\n",
    "<p style=\"text-align: center\">&copy; José Luis Chiquete Valdivieso. 2022.</p>"
   ]
  }
 ],
 "metadata": {
  "kernelspec": {
   "display_name": "Python 3 (ipykernel)",
   "language": "python",
   "name": "python3"
  },
  "language_info": {
   "codemirror_mode": {
    "name": "ipython",
    "version": 3
   },
   "file_extension": ".py",
   "mimetype": "text/x-python",
   "name": "python",
   "nbconvert_exporter": "python",
   "pygments_lexer": "ipython3",
   "version": "3.10.4"
  }
 },
 "nbformat": 4,
 "nbformat_minor": 2
}
