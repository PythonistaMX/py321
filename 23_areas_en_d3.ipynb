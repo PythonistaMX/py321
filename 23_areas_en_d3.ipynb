{
 "cells": [
  {
   "cell_type": "markdown",
   "metadata": {},
   "source": [
    "[![img/pythonista.png](img/pythonista.png)](https://www.pythonista.io)"
   ]
  },
  {
   "cell_type": "markdown",
   "metadata": {},
   "source": [
    "# Áreas en *D3.js*."
   ]
  },
  {
   "cell_type": "markdown",
   "metadata": {},
   "source": [
    "## Inicialización de *D3.js* en la *notebook*."
   ]
  },
  {
   "cell_type": "markdown",
   "metadata": {},
   "source": [
    "La siguiente celda permite habilitar *D3.js* dentro de esta *notebook* y debe de ser ejecutada siempre antes que cualquier otra celda. \n",
    "\n",
    "**Advertencia:**\n",
    "En caso de no inicializar *D3.js* como primera acción, es probable que el código de las siguientes celdas no funcione aún cuando se haga una inicialización posteriormente. En ese caso, es necesario limpiar todas las salidas de las celdas, guardar y recargar la *notebook*."
   ]
  },
  {
   "cell_type": "code",
   "execution_count": null,
   "metadata": {},
   "outputs": [],
   "source": [
    "%%javascript\n",
    "\n",
    "require.config({\n",
    "        paths: {\n",
    "            \"d3\": \"https://d3js.org/d3.v7\"\n",
    "        }\n",
    "    });"
   ]
  },
  {
   "cell_type": "markdown",
   "metadata": {},
   "source": [
    "## La función ```d3.area()```."
   ]
  },
  {
   "cell_type": "markdown",
   "metadata": {},
   "source": [
    "La función ```d3.area()``` permite trazar áreas utilizando varios puntos.\n",
    "\n",
    "```\n",
    "<nombre> = d3.area()\n",
    " ```\n",
    "Donde:\n",
    "\n",
    "* ```<nombre>``` es el nombre de la función que se creará para procesar los datos.\n",
    "\n",
    "```\n",
    "d3.select().\n",
    "append(\"path\").\n",
    "attr(\"d\", <nombre>(<datos>))\n",
    "```\n",
    "\n",
    "* Los datos deben de contener arreglos cuando menos 2 elementos y corresponden a las coordenadas *x* y *y1* de las áreas.\n",
    "\n",
    "* Es posible definir un tercer elemento y corresponde *y0*. Es decir, el límite inferior del área. "
   ]
  },
  {
   "cell_type": "markdown",
   "metadata": {},
   "source": [
    "### Propiedades de un área.\n",
    "\n",
    "Las funciones creadas por ```d3.area()``` aceptan 3 datos principales:\n",
    "\n",
    "* ```x```\n",
    "* ```y1```\n",
    "* ```y0```"
   ]
  },
  {
   "cell_type": "markdown",
   "metadata": {},
   "source": [
    "https://github.com/d3/d3-shape#areas"
   ]
  },
  {
   "cell_type": "code",
   "execution_count": null,
   "metadata": {
    "scrolled": true
   },
   "outputs": [],
   "source": [
    "%%svg\n",
    "<svg width=\"500\" height=\"300\" id=\"svg-1\">\n",
    "</svg>"
   ]
  },
  {
   "cell_type": "code",
   "execution_count": null,
   "metadata": {},
   "outputs": [],
   "source": [
    "%%javascript\n",
    "\n",
    "require([\"d3\"], function(d3){ \n",
    "    d3.json(\"data/poblacion.json\").then(function(datos){\n",
    "        \n",
    "    /* Es necesario crear una nueva estructura de datos\n",
    "    convirtiendo al objeto en un arreglo e incluyendo en \n",
    "    el arreglo además del año y la población, la posición en y. */\n",
    "    let data = [];\n",
    "        \n",
    "    for (let dato in datos){\n",
    "        let lista = [dato - 1900,\n",
    "                     datos[dato] / 1000000];\n",
    "        data.push(lista);\n",
    "        \n",
    "        let area=d3.area();\n",
    "            \n",
    "        d3.select(\"#svg-1\").\n",
    "            append(\"g\").\n",
    "            append(\"path\").\n",
    "            attr(\"d\", area(data)).\n",
    "            attr(\"fill\", \"lavender\").\n",
    "            attr(\"stroke\", \"black\");\n",
    "        }\n",
    "    })\n",
    "})"
   ]
  },
  {
   "cell_type": "code",
   "execution_count": null,
   "metadata": {
    "scrolled": true
   },
   "outputs": [],
   "source": [
    "%%svg\n",
    "<svg width=\"500\" height=\"300\" id=\"svg-2\">\n",
    "</svg>"
   ]
  },
  {
   "cell_type": "code",
   "execution_count": null,
   "metadata": {},
   "outputs": [],
   "source": [
    "%%javascript\n",
    "\n",
    "require([\"d3\"], function(d3){\n",
    "    \n",
    "    /* Se crea la escala lineal para el eje x. */\n",
    "    let escalaX = d3.scaleLinear().\n",
    "        domain([1900, 2020]).\n",
    "        range([0, 450]);\n",
    "    \n",
    "    /* Se define la función de eje a partir de d3.axisBottom. */ \n",
    "    let ejeX = d3.axisBottom(escalaX);\n",
    "    \n",
    "    /* Se construye el eje insertando un elemento <g>. */\n",
    "    d3.select(\"#svg-2\").\n",
    "        append(\"g\").\n",
    "        attr(\"transform\", \"translate(30, 255)\").\n",
    "        call(ejeX);\n",
    "       \n",
    "    /* Se crea la escala lineal. */\n",
    "    let escalaY = d3.scaleLinear().\n",
    "        domain([10, 120]).\n",
    "        range([250, 0]);\n",
    "    \n",
    "    /* Se define la función de eje a partir de d3.axisBottom. */ \n",
    "    let ejeY = d3.axisLeft(escalaY);\n",
    "    \n",
    "    /* Se construye el eje insertando un elemento <g>. */\n",
    "    d3.select(\"#svg-2\").\n",
    "        append(\"g\").\n",
    "        attr(\"transform\", \"translate(30, 5)\").\n",
    "        call(ejeY);\n",
    "\n",
    "    \n",
    "    d3.json(\"data/poblacion.json\").then(function(datos){\n",
    "        \n",
    "        /* Es necesario crear una nueva estructura de datos\n",
    "        convirtiendo al objeto en un arreglo e incluyendo en \n",
    "        el arreglo además del año y la población, la posición en y. */\n",
    "        let data = [];\n",
    "        \n",
    "        for (let dato in datos){\n",
    "            let lista = [escalaX(dato),\n",
    "                         escalaY(datos[dato] / 1000000)];\n",
    "            data.push(lista);\n",
    "        \n",
    "        let area = d3.area().\n",
    "            y0(255);\n",
    "            \n",
    "        d3.select(\"#svg-2\").\n",
    "            append(\"g\").\n",
    "            append(\"path\").\n",
    "            attr(\"d\", area(data)).\n",
    "            attr(\"fill\", \"lavender\").\n",
    "            attr(\"stroke\", \"black\");\n",
    "        }\n",
    "    })\n",
    "})"
   ]
  },
  {
   "cell_type": "code",
   "execution_count": null,
   "metadata": {},
   "outputs": [],
   "source": [
    "%%svg\n",
    "<svg width=\"500\" height=\"300\" id=\"svg-3\">\n",
    "</svg>"
   ]
  },
  {
   "cell_type": "code",
   "execution_count": null,
   "metadata": {},
   "outputs": [],
   "source": [
    "%%javascript\n",
    "\n",
    "require([\"d3\"], function(d3){\n",
    "    \n",
    "    /* Se crea la escala lineal para el eje x. */\n",
    "    let escalaX = d3.scaleLinear().\n",
    "        domain([1900, 2020]).\n",
    "        range([0, 450]);\n",
    "    \n",
    "    /* Se define la función de eje a partir de d3.axisBottom. */ \n",
    "    let ejeX = d3.axisBottom(escalaX);\n",
    "    \n",
    "    /* Se construye el eje insertando un elemento <g>. */\n",
    "    d3.select(\"#svg-3\").\n",
    "        append(\"g\").\n",
    "        attr(\"transform\", \"translate(30, 255)\").\n",
    "        call(ejeX);\n",
    "       \n",
    "    /* Se crea la escala lineal. */\n",
    "    let escalaY = d3.scaleLinear().\n",
    "        domain([10, 120]).\n",
    "        range([250, 0]);\n",
    "    \n",
    "    /* Se define la función de eje a partir de d3.axisBottom. */ \n",
    "    let ejeY = d3.axisLeft(escalaY);\n",
    "    \n",
    "    /* Se construye el eje insertando un elemento <g>. */\n",
    "    d3.select(\"#svg-3\").\n",
    "        append(\"g\").\n",
    "        attr(\"transform\", \"translate(30, 5)\").\n",
    "        call(ejeY);\n",
    "\n",
    "    \n",
    "    d3.json(\"data/poblacion.json\").then(function(datos){\n",
    "        \n",
    "        /* Es necesario crear una nueva estructura de datos\n",
    "        convirtiendo al objeto en un arreglo e incluyendo en \n",
    "        el arreglo además del año y la población, la posición en y. */\n",
    "        let data = [];\n",
    "        let y_previo = 240;\n",
    "        \n",
    "        for (let dato in datos){\n",
    "            \n",
    "            let lista = [escalaX(dato),\n",
    "                         escalaY(datos[dato]/1000000),\n",
    "                         y_previo];\n",
    "            y_previo = escalaY(datos[dato]/1000000);\n",
    "            data.push(lista);\n",
    "            \n",
    "        let area = d3.area().\n",
    "            x(d => d[0]).\n",
    "            y0(d => d[1]).\n",
    "            y1(d => d[2]);\n",
    "            \n",
    "        d3.select(\"#svg-3\").\n",
    "            append(\"g\").\n",
    "            append(\"path\").\n",
    "            attr(\"d\", area(data)).\n",
    "            attr(\"fill\", \"purple\").\n",
    "            attr(\"stroke\", \"black\");\n",
    "        }\n",
    "    })\n",
    "})"
   ]
  },
  {
   "cell_type": "markdown",
   "metadata": {},
   "source": [
    "<p style=\"text-align: center\"><a rel=\"license\" href=\"http://creativecommons.org/licenses/by/4.0/\"><img alt=\"Licencia Creative Commons\" style=\"border-width:0\" src=\"https://i.creativecommons.org/l/by/4.0/80x15.png\" /></a><br />Esta obra está bajo una <a rel=\"license\" href=\"http://creativecommons.org/licenses/by/4.0/\">Licencia Creative Commons Atribución 4.0 Internacional</a>.</p>\n",
    "<p style=\"text-align: center\">&copy; José Luis Chiquete Valdivieso. 2022.</p>"
   ]
  }
 ],
 "metadata": {
  "kernelspec": {
   "display_name": "Python 3 (ipykernel)",
   "language": "python",
   "name": "python3"
  },
  "language_info": {
   "codemirror_mode": {
    "name": "ipython",
    "version": 3
   },
   "file_extension": ".py",
   "mimetype": "text/x-python",
   "name": "python",
   "nbconvert_exporter": "python",
   "pygments_lexer": "ipython3",
   "version": "3.10.4"
  }
 },
 "nbformat": 4,
 "nbformat_minor": 2
}
