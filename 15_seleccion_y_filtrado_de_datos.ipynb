{
 "cells": [
  {
   "cell_type": "markdown",
   "metadata": {},
   "source": [
    "[![imagenes/pythonista.png](imagenes/pythonista.png)](https://pythonista.io)"
   ]
  },
  {
   "cell_type": "markdown",
   "metadata": {},
   "source": [
    "## Inicialización de *D3.js* en la notebook.\n",
    "\n",
    "La siguiente celda permite habilitar *D3.js* dentro de esta notebook y debe de ser ejecutada siempre antes que cualquier otra celda. \n",
    "\n",
    "**Advertencia:**\n",
    "En caso de no inicializar *D3.js* como primera acción, es probable que el código de las siguientes celdas no funcione aún cuando se haga una inicialización posteriormente. En ese caso, es necesario limpiar todas las salidas de las celdas, guardar y recargar la notebook."
   ]
  },
  {
   "cell_type": "code",
   "execution_count": null,
   "metadata": {},
   "outputs": [],
   "source": [
    "%%javascript\n",
    "    require.config({\n",
    "        paths: {\n",
    "            d3: 'https://d3js.org/d3.v5.min'\n",
    "        }\n",
    "    })"
   ]
  },
  {
   "cell_type": "markdown",
   "metadata": {},
   "source": [
    "## Selección de datos mediante el método *filter()*.\n",
    "\n",
    "El método *filter()* permite evaluar cada dato generado por el método *enter()* a partir de una función que regrese un valor booleano. Se seleccionarán sólo aquellos datos que obtengan un valor *true* como resultado de la función."
   ]
  },
  {
   "cell_type": "code",
   "execution_count": null,
   "metadata": {},
   "outputs": [],
   "source": [
    "%%html\n",
    "<div id=\"contenedor-1\">\n",
    "</div>"
   ]
  },
  {
   "cell_type": "code",
   "execution_count": null,
   "metadata": {
    "scrolled": true
   },
   "outputs": [],
   "source": [
    "%%javascript\n",
    "\n",
    "require([\"d3\"], function(d3) {\n",
    "    d3.csv(\"data/calificaciones.csv\",).then(function(datos){\n",
    "        d3.select(\"#contenedor-1\").\n",
    "            selectAll(\"p\").\n",
    "            data(datos).\n",
    "            enter().append(\"p\").\n",
    "            filter(d => !isNaN(d.py101)).\n",
    "            text(d => d.Nombre + \". py101: \" + d.py101 + \". py111: \" + d.py111 \n",
    "                 + \". py121: \" + d.py121);\n",
    "    })\n",
    "});"
   ]
  },
  {
   "cell_type": "code",
   "execution_count": null,
   "metadata": {},
   "outputs": [],
   "source": [
    "%%html\n",
    "<div id=\"contenedor-2\">\n",
    "</div>"
   ]
  },
  {
   "cell_type": "code",
   "execution_count": null,
   "metadata": {},
   "outputs": [],
   "source": [
    "%%javascript\n",
    "\n",
    "require([\"d3\"], function(d3) {\n",
    "    d3.csv(\"data/calificaciones.csv\",).then(function(datos){\n",
    "        d3.select(\"#contenedor-2\").\n",
    "            selectAll(\"p\").\n",
    "            data(datos).\n",
    "            enter().append(\"p\").\n",
    "            filter(d => isNaN(d.py101)).\n",
    "            text(d => d.Nombre + \". py101: \" + d.py101 + \". py111: \" + d.py111 \n",
    "                 + \". py121: \" + d.py121);\n",
    "    })\n",
    "});"
   ]
  },
  {
   "cell_type": "markdown",
   "metadata": {},
   "source": [
    "## Metodos de evaluación."
   ]
  },
  {
   "cell_type": "markdown",
   "metadata": {},
   "source": [
    "### El método *matcher()*."
   ]
  },
  {
   "cell_type": "code",
   "execution_count": null,
   "metadata": {},
   "outputs": [],
   "source": [
    "%%html\n",
    "<div id=\"contenedor-3\"><div>"
   ]
  },
  {
   "cell_type": "code",
   "execution_count": null,
   "metadata": {},
   "outputs": [],
   "source": [
    "%%javascript\n",
    "\n",
    "require([\"d3\"], function(d3) {\n",
    "        d3.select(\"#contenedor-2\").\n",
    "        \n",
    "});"
   ]
  },
  {
   "cell_type": "markdown",
   "metadata": {},
   "source": [
    "## El método *selector()*."
   ]
  },
  {
   "cell_type": "markdown",
   "metadata": {},
   "source": [
    "## La función *window().*"
   ]
  },
  {
   "cell_type": "markdown",
   "metadata": {},
   "source": [
    "## El método *classed().*"
   ]
  },
  {
   "cell_type": "markdown",
   "metadata": {},
   "source": [
    "## La función *nodes().*"
   ]
  },
  {
   "cell_type": "markdown",
   "metadata": {},
   "source": [
    "## La función *node().*"
   ]
  },
  {
   "cell_type": "markdown",
   "metadata": {},
   "source": [
    "## La función *each().*"
   ]
  },
  {
   "cell_type": "markdown",
   "metadata": {},
   "source": [
    "## El método *merge()*."
   ]
  },
  {
   "cell_type": "markdown",
   "metadata": {},
   "source": [
    "## El método *sort()*."
   ]
  },
  {
   "cell_type": "markdown",
   "metadata": {},
   "source": [
    "## La función *empty().*"
   ]
  },
  {
   "cell_type": "code",
   "execution_count": null,
   "metadata": {},
   "outputs": [],
   "source": []
  },
  {
   "cell_type": "code",
   "execution_count": null,
   "metadata": {},
   "outputs": [],
   "source": [
    "%%html\n",
    "<div id=\"contenedor-2\">\n",
    "</div>"
   ]
  },
  {
   "cell_type": "code",
   "execution_count": null,
   "metadata": {},
   "outputs": [],
   "source": [
    "%%javascript\n",
    "\n",
    "require([\"d3\"], function(d3) {\n",
    "    d3.csv(\"data/calificaciones.csv\",).then(function(datos){\n",
    "        d3.select(\"#contenedor-2\").\n",
    "            selectAll(\"p\").\n",
    "            data(datos).\n",
    "            enter().append(\"p\").\n",
    "            sort(d => d.Nombre).\n",
    "            text(d => d.Nombre + \". py101: \" + d.py101 + \". py111: \" + d.py111 \n",
    "                 + \". py121: \" + d.py121);\n",
    "    })\n",
    "});"
   ]
  },
  {
   "cell_type": "markdown",
   "metadata": {},
   "source": [
    "## El método *raise()*."
   ]
  },
  {
   "cell_type": "markdown",
   "metadata": {},
   "source": [
    "## El método *order()*."
   ]
  },
  {
   "cell_type": "markdown",
   "metadata": {},
   "source": [
    "## El método *lower()*"
   ]
  },
  {
   "cell_type": "markdown",
   "metadata": {},
   "source": [
    "## Variables locales."
   ]
  },
  {
   "cell_type": "markdown",
   "metadata": {},
   "source": [
    "## Actualización de datos."
   ]
  },
  {
   "cell_type": "markdown",
   "metadata": {},
   "source": [
    "### El método exit()."
   ]
  },
  {
   "cell_type": "code",
   "execution_count": null,
   "metadata": {
    "scrolled": false
   },
   "outputs": [],
   "source": [
    "%%html\n",
    "<svg id=\"contenedor-1\" width=\"600\" height=\"100\"></svg>"
   ]
  },
  {
   "cell_type": "code",
   "execution_count": null,
   "metadata": {},
   "outputs": [],
   "source": [
    "%%javascript\n",
    "require([\"d3\"], function(d3) {\n",
    "    let datos = [1, 3, 6, 7];\n",
    "    let circulos = d3.select(\"#contenedor-1\").\n",
    "        selectAll(\"circle\").\n",
    "        data(datos);\n",
    "    circulos.\n",
    "        enter().\n",
    "        append(\"circle\").\n",
    "        attr(\"fill\", \"gold\").\n",
    "        attr(\"opacity\", 0.5).\n",
    "        attr(\"cy\", 50).\n",
    "        attr(\"r\", d => d*5).\n",
    "        attr(\"cx\", d => d*30);\n",
    "    circulos.\n",
    "        exit().\n",
    "        remove();\n",
    "});"
   ]
  },
  {
   "cell_type": "markdown",
   "metadata": {},
   "source": []
  },
  {
   "cell_type": "code",
   "execution_count": null,
   "metadata": {},
   "outputs": [],
   "source": [
    "%%html\n",
    "<svg id=\"contenedor-2\" width=\"600\" height=\"100\"></svg>"
   ]
  },
  {
   "cell_type": "code",
   "execution_count": null,
   "metadata": {},
   "outputs": [],
   "source": [
    "%%javascript\n",
    "require([\"d3\"], function(d3) {\n",
    "    let datos = [{\"mes\":\"julio\", \"cantidad\": 2}, \n",
    "                {\"mes\":\"agosto\", \"cantidad\": 5},\n",
    "                {\"mes\":\"septiembre\", \"cantidad\": 1},\n",
    "                {\"mes\":\"octubre\", \"cantidad\": 3.5}];\n",
    "    let circulos = d3.select(\"#contenedor-2\").\n",
    "        selectAll(\"circle\").\n",
    "        data(datos);\n",
    "    circulos.\n",
    "        enter().\n",
    "        append(\"circle\").\n",
    "        attr(\"fill\", \"gold\").\n",
    "        attr(\"opacity\", 0.5).\n",
    "        attr(\"cy\", 50).\n",
    "        attr(\"id\", d => d.mes).\n",
    "        attr(\"r\", d => d.cantidad * 5).\n",
    "        attr(\"cx\", d => d.cantidad * 30);\n",
    "    circulos.\n",
    "       exit().\n",
    "       remove();\n",
    "});"
   ]
  },
  {
   "cell_type": "markdown",
   "metadata": {},
   "source": [
    "https://github.com/d3/d3-selection-multi"
   ]
  },
  {
   "cell_type": "markdown",
   "metadata": {},
   "source": [
    "<p style=\"text-align: center\"><a rel=\"license\" href=\"http://creativecommons.org/licenses/by/4.0/\"><img alt=\"Licencia Creative Commons\" style=\"border-width:0\" src=\"https://i.creativecommons.org/l/by/4.0/80x15.png\" /></a><br />Esta obra está bajo una <a rel=\"license\" href=\"http://creativecommons.org/licenses/by/4.0/\">Licencia Creative Commons Atribución 4.0 Internacional</a>.</p>\n",
    "<p style=\"text-align: center\">&copy; José Luis Chiquete Valdivieso. 2019.</p>"
   ]
  }
 ],
 "metadata": {
  "kernelspec": {
   "display_name": "Python 3",
   "language": "python",
   "name": "python3"
  },
  "language_info": {
   "codemirror_mode": {
    "name": "ipython",
    "version": 3
   },
   "file_extension": ".py",
   "mimetype": "text/x-python",
   "name": "python",
   "nbconvert_exporter": "python",
   "pygments_lexer": "ipython3",
   "version": "3.6.5"
  }
 },
 "nbformat": 4,
 "nbformat_minor": 2
}
