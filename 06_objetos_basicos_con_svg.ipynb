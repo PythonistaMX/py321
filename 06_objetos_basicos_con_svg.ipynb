{
 "cells": [
  {
   "cell_type": "markdown",
   "metadata": {},
   "source": [
    "[![img/pythonista.png](img/pythonista.png)](https://www.pythonista.io)"
   ]
  },
  {
   "cell_type": "markdown",
   "metadata": {},
   "source": [
    "# Objetos básicos con *SVG*."
   ]
  },
  {
   "cell_type": "markdown",
   "metadata": {},
   "source": [
    "[*SVG*](https://www.w3.org/Graphics/SVG/) es una especificación de la *W3C* para definir un formato de imágenes vectoriales capaces de ser desplegadas por diversas herramientas y particularmente en navegadores web.\n",
    "\n",
    "Actualmente diversas herramientas de diseño, paquetes ofimáticos y navegadores pueden exportar, importar y desplegar imágenes en formato *SVG*. Para identificar archivos que contengan una imagen con esta especificación se utiliza la extensión ```.svg```.\n",
    "\n",
    "Hay un tutorial disponible en https://www.w3schools.com/graphics/svg_intro.asp.\n",
    "\n",
    "Además la documentación de Mozilla es muy completa https://developer.mozilla.org/es/docs/Web/SVG"
   ]
  },
  {
   "cell_type": "markdown",
   "metadata": {},
   "source": [
    "## Estructura de un elemento *SVG*.\n",
    "\n",
    "Las imágenes *SVG* se definen mediante una estructura de etiquetas similar a *HTML* y es compatible con *CSS* y *DOM*.\n",
    "\n",
    "Para indicar de que se trata de una imagen *svg* se utiliza la etiqueta ```<svg>```."
   ]
  },
  {
   "cell_type": "markdown",
   "metadata": {},
   "source": [
    "## Dimensiones de una imagen *SVG*.\n",
    "\n",
    "Los atributos mínimos de una imagen *SVG* son ```width``` y ```height``` para definir el tamaño de esta."
   ]
  },
  {
   "cell_type": "markdown",
   "metadata": {},
   "source": [
    "**Ejemplo:**"
   ]
  },
  {
   "cell_type": "markdown",
   "metadata": {},
   "source": [
    "* La siguiente celda creará una imagen *SVG* de ```50px``` x ```50px```."
   ]
  },
  {
   "cell_type": "code",
   "execution_count": null,
   "metadata": {
    "scrolled": false
   },
   "outputs": [],
   "source": [
    "%%svg\n",
    "<!-- Ejemplo del margen de una imagen -->\n",
    "<svg width=\"50px\" height=\"50px\">\n",
    "</svg>"
   ]
  },
  {
   "cell_type": "markdown",
   "metadata": {},
   "source": [
    "## Sistema de referencia de la imagen.\n",
    "\n",
    "* Por defecto, los puntos dentro de una imagen *SVG* se identfican mediante las coordenadas cartesianas ```(x, y)``` tomando al punto de origen ```(0, 0)``` a la esquina superior izquierda de la imagen."
   ]
  },
  {
   "cell_type": "markdown",
   "metadata": {},
   "source": [
    "**Ejemplo:**"
   ]
  },
  {
   "cell_type": "markdown",
   "metadata": {},
   "source": [
    "* La siguiente celda trazará dos rectas cuyo origen es la coordenada ```(3, 3)```. Una de las rectas es horizontal y la otra vertical."
   ]
  },
  {
   "cell_type": "code",
   "execution_count": null,
   "metadata": {},
   "outputs": [],
   "source": [
    "%%svg\n",
    "<!-- Define la imagen -->\n",
    "<svg width=\"100\" height=\"100\">\n",
    "\n",
    "<!-- Línea vertical -->\n",
    "<line x1=\"3\" y1=\"3\" x2=\"3\" y2=\"100\" stroke=\"black\" />\n",
    "\n",
    "<!-- Flecha horizontal -->\n",
    "<path d=\"M 100 3 L 94 7 L 94 0 \" fill=\"black\" />\n",
    "\n",
    "<!-- Texto \"x\" -->\n",
    "<text x=\"90\" y=\"15\">x</text>\n",
    "\n",
    "<!-- Línea horizontal -->\n",
    "<line x1=\"3\" y1=\"3\" x2=\"100\" y2=\"3\" stroke=\"black\" />\n",
    "\n",
    "<!-- Flecha vertical -->\n",
    "<path d=\"M 3 100 L 7 94 L 0 94\" fill=\"black\" />\n",
    "\n",
    "<!-- Texto \"y\" -->\n",
    "<text x=\"8\" y=\"97\">y</text>\n",
    "</svg>"
   ]
  },
  {
   "cell_type": "markdown",
   "metadata": {},
   "source": [
    "## Trazado de líneas rectas.\n",
    "\n",
    "Para trazar una línea se utiliza la etiqueta ```<line>``` definiendo las coordenadas de sus 2 puntos extremos de la siguiente forma:\n",
    "\n",
    "```\n",
    " <line x1=\"(x1)\" y1=\"(y1)\" x2=\"(x2)\" y2=\"(y2)\" stroke=\"(color)\"/>  \n",
    "```\n",
    "\n",
    "Donde:\n",
    "* ```(x1)``` y ```(y1)``` corresponden a las coordenadas cartesianas del primer punto de la línea.\n",
    "* ```(x2)``` y ```(y2)``` corresponden a las coordenadas cartesianas del segundo punto de la línea.\n",
    "* ```(color)``` corresponde al color de la línea.\n",
    "\n",
    "El color de la línea es negro por defecto."
   ]
  },
  {
   "cell_type": "markdown",
   "metadata": {},
   "source": [
    "**Ejemplo:**\n",
    "\n",
    "Se trazarán 3 líneas rectas, pero una de ellas utilizará coordenadas que quedan fuera de la imagen."
   ]
  },
  {
   "cell_type": "code",
   "execution_count": null,
   "metadata": {},
   "outputs": [],
   "source": [
    "%%svg\n",
    "<svg width=\"100\" height=\"100\">\n",
    "\n",
    "<!-- Línea azul dentro de los márgenes de la imagen -->\n",
    "<line x1=\"0\" y1=\"15\" x2=\"90\" y2=\"63\" stroke=\"blue\" id=\"linea1\"/>\n",
    "\n",
    "<!-- Línea roja dentro de los márgenes de la imagen -->\n",
    "<line x1=\"-6\" y1=\"0\" x2=\"73\" y2=\"85\" stroke=\"red\" id=\"linea2\"/>\n",
    "\n",
    "<!-- Línea naranja fuera de los márgenes de la imagen -->\n",
    "<line x1=\"-3\" y1=\"15\" x2=\"-8\" y2=\"63\" stroke=\"orange\" id=\"linea3\"/> \n",
    "\n",
    "<!-- Línea verde que empieza y termina fuera de los márgenes de la imagen -->\n",
    "<line x1=\"-23\" y1=\"-11\" x2=\"110\" y2=\"163\" stroke=\"green\" id=\"linea3\"/> \n",
    "</svg>"
   ]
  },
  {
   "cell_type": "markdown",
   "metadata": {},
   "source": [
    "## Trazado de rectángulos.\n",
    "\n",
    "Para trazar un rectángulo se utiliza la etiqueta ```<rect>``` definiendo la coordenada de su esquina superior izquierda, su ancho y su altura de la siguiente forma:\n",
    "\n",
    "```\n",
    " <rect x=\"(x)\" y=\"(y)\" width=\"(ancho)\" height=\"(alto)\"/>  \n",
    "```\n",
    "\n",
    "Donde:\n",
    "* ```(x)``` y ```(y)``` corresponden a las abscisas de las coordenadas cartesianas de la esquina inferior izquierda.\n",
    "\n",
    "* ```(ancho)``` corresponde al ancho del rectángulo.\n",
    "* ```(alto)``` corresponde al alto del rectángulo.\n",
    "\n",
    "\n",
    "Adicionalmente se pueden definir:\n",
    "\n",
    "* Bordes redondeados mediante los atributos ```rx``` y ```ry```, que define un radio.\n",
    "* Línea perimetral con ```stroke```.\n",
    "* El color por defecto de la superficie es negro, pero se puede definir con el atributo ```fill```."
   ]
  },
  {
   "cell_type": "markdown",
   "metadata": {},
   "source": [
    "**Ejemplos:**"
   ]
  },
  {
   "cell_type": "code",
   "execution_count": null,
   "metadata": {},
   "outputs": [],
   "source": [
    "%%svg\n",
    "<svg width=\"100px\" height=\"100px\">\n",
    "<!-- Rectángulo con origen en (10,10), \n",
    "   ancho de 30 y altura de 20 -->\n",
    "<rect x=\"10\" y=\"10\" width=\"60\" height=\"20\"/>  \n",
    "</svg>"
   ]
  },
  {
   "cell_type": "code",
   "execution_count": null,
   "metadata": {},
   "outputs": [],
   "source": [
    "%%svg\n",
    "<svg width=\"100px\" height=\"100px\">\n",
    "<!-- Rectángulo con origen en (10,10), \n",
    "   ancho de 60 y altura de 80, línea de color azul,\n",
    "   bordes de radio 5 y fondo de color rojo-->\n",
    "    <rect x=\"10\" y=\"10\" width=\"60\" height=\"80\" stroke=\"blue\" \n",
    "    rx=\"5\" ry=\"5\" fill=\"red\"/>  \n",
    "</svg>"
   ]
  },
  {
   "cell_type": "markdown",
   "metadata": {},
   "source": [
    "## Trazado de una polilínea.\n",
    "\n",
    "\n",
    "Para trazar un polígono cerrado se utiliza la etiqueta *&lt;polyline&gt;* definiendo la coordenadas de cada esquina de este en formato x,y:\n",
    "\n",
    "```\n",
    " <polyline points=\"(pares x,y separado por espacios)\"/>  \n",
    "```\n",
    "\n",
    "Adicionalmente se pueden definir:\n",
    "\n",
    "* En caso de que se quiera una polilínea abierta se debe de incluir ```fill=\"none\"```.\n",
    "* Línea con ```stroke```."
   ]
  },
  {
   "cell_type": "markdown",
   "metadata": {},
   "source": [
    "**Ejemplos:**"
   ]
  },
  {
   "cell_type": "code",
   "execution_count": null,
   "metadata": {},
   "outputs": [],
   "source": [
    "%%svg \n",
    "<svg width=\"100px\" height=\"100px\" stroke-width=\"1%\" id=\"poli\">\n",
    "\n",
    "<!-- Polilínea de 5 puntos (4 líneas), sin relleno, \n",
    "  con línea roja -->\n",
    "<polyline points=\"0,25\n",
    "                  10, 20 \n",
    "                  35, 60 \n",
    "                  100, 50 \n",
    "                  60, 45\" \n",
    "     fill=\"none\" stroke=\"red\"/>  \n",
    "</svg>"
   ]
  },
  {
   "cell_type": "code",
   "execution_count": null,
   "metadata": {},
   "outputs": [],
   "source": [
    "%%svg\n",
    "\n",
    "<svg width=\"100px\" height=\"100px\" stroke-width=\"1%\" id=\"poli\">\n",
    "<!-- Polilínea de 5 puntos (4 líneas), con relleno naranja, \n",
    "  con línea roja -->\n",
    "    <polyline points=\"0, 25 \n",
    "                     10, 20 \n",
    "                     35, 60 \n",
    "                     100, 50 \n",
    "                     60, 45\" \n",
    "     fill=\"orange\" stroke=\"red\"/>  \n",
    "</svg>"
   ]
  },
  {
   "cell_type": "markdown",
   "metadata": {},
   "source": [
    "## Trazado de un polígono cerrado.\n",
    "\n",
    "\n",
    "Para trazar un polígono cerrado se utiliza la etiqueta ```<polygon>``` definiendo la coordenadas de cada arista de este en formato ```x, y```:\n",
    "\n",
    "```\n",
    " <polygon points=\"(pares x,y separado por espacios)\"/>  \n",
    "```\n",
    "\n",
    "Adicionalmente se pueden definir:\n",
    "\n",
    "* Línea perimetral con ```stroke```.\n",
    "* El color por defecto de la superficie es negro, pero se puede definir con el atributo ```fill```."
   ]
  },
  {
   "cell_type": "markdown",
   "metadata": {},
   "source": [
    "**Ejemplo:**"
   ]
  },
  {
   "cell_type": "code",
   "execution_count": null,
   "metadata": {},
   "outputs": [],
   "source": [
    "%%svg\n",
    "<svg width=\"100px\" height=\"100px\">\n",
    "<!-- Triángulo de fondo naranja y borde negro -->\n",
    "    <polygon points=\"0,5 \n",
    "                     10,80\n",
    "                     45,60\" \n",
    "    fill=\"orange\" stroke=\"black\"/>   \n",
    "</svg>"
   ]
  },
  {
   "cell_type": "code",
   "execution_count": null,
   "metadata": {},
   "outputs": [],
   "source": [
    "%%svg\n",
    "<svg width=\"100px\" height=\"100px\">\n",
    "<!-- Polígono de 5 aristas, de fondo naranja y borde negro \n",
    "  en el que algunas aristas están fuera de \n",
    "  los límites de la imagen-->\n",
    "    <polygon points=\"0,5 \n",
    "                     10,80\n",
    "                     45,60\n",
    "                     110, 45\n",
    "                     30, -10\" \n",
    "    fill=\"orange\" stroke=\"black\"/>   \n",
    "</svg>"
   ]
  },
  {
   "cell_type": "code",
   "execution_count": null,
   "metadata": {},
   "outputs": [],
   "source": [
    "%%svg\n",
    "<svg width=\"150px\" height=\"150px\">\n",
    "<!-- Polígono de 5 aristas, de fondo naranja y borde negro \n",
    "  en el que algunas aristas están fuera de \n",
    "  los límites de la imagen-->\n",
    "    <polygon points=\"0,5 \n",
    "                     10,80\n",
    "                     45,60\n",
    "                     110, 45\n",
    "                     30, -10\" \n",
    "    fill=\"orange\" stroke=\"black\"/>   \n",
    "</svg>"
   ]
  },
  {
   "cell_type": "markdown",
   "metadata": {},
   "source": [
    "## Trazado de un círculo.\n",
    "\n",
    "Para trazar un círculo se utiliza la etiqueta ```<circle>``` definiendo la coordenadas del centro y su radio:\n",
    "\n",
    "```\n",
    " <circle cx=\"(x)\" cy=\"(y)\" r=\"radio\"/>  \n",
    "```\n",
    "\n",
    "Adicionalmente se pueden definir:\n",
    "\n",
    "* Línea perimetral con ```stroke```.\n",
    "* El color por defecto de la superficie es negro, pero se puede definir con el atributo ```fill```.\n",
    "\n",
    "<svg width=\"100\" height=\"100\">\n",
    "    <circle cx=\"50\" cy=\"50\" r=\"25\" stroke=\"black\" fill=\"none\" />\n",
    "</svg>"
   ]
  },
  {
   "cell_type": "markdown",
   "metadata": {},
   "source": [
    "**Ejemplos:**"
   ]
  },
  {
   "cell_type": "code",
   "execution_count": null,
   "metadata": {},
   "outputs": [],
   "source": [
    "%%svg\n",
    "<svg width=\"100px\" height=\"100px\">\n",
    "<!-- Círcunferencia de radio 25 y origen en 50, 50 -->\n",
    "    <circle cx=\"50\" cy=\"50\" r=\"25\" fill=\"none\" stroke=\"black\" />  \n",
    "</svg>"
   ]
  },
  {
   "cell_type": "code",
   "execution_count": null,
   "metadata": {
    "scrolled": true
   },
   "outputs": [],
   "source": [
    "%%svg\n",
    "<svg width=\"100px\" height=\"100px\">\n",
    "\n",
    "<!-- Círcunferencia de radio 50 y origen en 0, 0 de \n",
    "   de fondo naranja-->\n",
    "<circle cx=\"0\" cy=\"0\" r=\"50\" fill=\"orange\"/>  \n",
    "</svg>"
   ]
  },
  {
   "cell_type": "markdown",
   "metadata": {},
   "source": [
    "## Trazado de una elipse."
   ]
  },
  {
   "cell_type": "markdown",
   "metadata": {},
   "source": [
    "Para trazar una elipse se utiliza la etiqueta &lt;ellipse&gt; definiendo la coordenadas del centro y sus radios horizontal (*rx*) y vertical (*ry*):\n",
    "\n",
    "```\n",
    " <ellipse cx=\"(x)\" cy=\"(y)\" rx=\"radio x\" ry=\"radio y\" />  \n",
    "```\n",
    "\n",
    "Adicionalmente se pueden definir:\n",
    "\n",
    "* Línea perimetral con ```stroke```.\n",
    "* El color por defecto de la superficie es negro, pero se puede definir con el atributo ```fill```."
   ]
  },
  {
   "cell_type": "markdown",
   "metadata": {},
   "source": [
    "**Ejemplos:**"
   ]
  },
  {
   "cell_type": "code",
   "execution_count": null,
   "metadata": {},
   "outputs": [],
   "source": [
    "%%svg\n",
    "<svg width=\"100px\" height=\"100px\">\n",
    "<!-- Elipse con origen en (50,50), radio horizontal de 25 y\n",
    "  radio vertical de 40 -->\n",
    "<ellipse cx=\"50\" cy=\"50\" \n",
    "         rx=\"25\" ry=\"40\" \n",
    "         fill=\"none\" stroke=\"black\" />  \n",
    "</svg>"
   ]
  },
  {
   "cell_type": "code",
   "execution_count": null,
   "metadata": {},
   "outputs": [],
   "source": [
    "%%svg\n",
    "<svg width=\"100px\" height=\"100px\">\n",
    "\n",
    "<!-- Elipse con origen en (50,50), radio horizontal de 50 y\n",
    "  radio vertical de 10 con relleno de color naranja -->\n",
    "<ellipse cx=\"50\" cy=\"50\"\n",
    "         rx=\"50\" ry=\"10\" \n",
    "         fill=\"orange\" />  \n",
    "</svg>"
   ]
  },
  {
   "cell_type": "markdown",
   "metadata": {},
   "source": [
    "## Trazado de una ruta.\n",
    "\n",
    "Es posible trazar rutas que incluyan rectas y curvas mediante la etiqueta &lt;path&gt;.\n",
    "\n",
    "```\n",
    "<path d=\"(trazos)\"/>\n",
    "\n",
    "```\n",
    "Adicionalmente se pueden definir:\n",
    "\n",
    "* Línea perimetral con ```stroke```.\n",
    "* El color por defecto de la superficie es negro, pero se puede definir con el atributo ```fill```.\n",
    "\n",
    "Los trazos corresponden a una sucesión de comandos de una letra con los datos para su ejecución:\n",
    "\n",
    "* ```M``` = Mueve el puntero a una coordenada.\n",
    "* ```L``` = Traza una línea desde la posición en la que se encuetra el puntero a una coordenada ```x, y```.\n",
    "* ```H``` = Línea horizontal de una magnitud dada.\n",
    "* ```V``` = Línea vertical de una magnitud dada.\n",
    "* ```C``` = Curva cúbica de *Bézier* hacia una coordenada con 2 puntos de control.\n",
    "* ```S``` = Curva cúbica de Bézier suavizada hacia una coordenada con 1 punto de control.\n",
    "* ```Q``` = Curva cuadrática de Bézier hacia una coordenada con 2 puntos de control.\n",
    "* ```T``` = Curva cuadrática de Bézier hacia una coordenada con 1 punto de control.\n",
    "* ```A``` = Arco elíptico.\n",
    "* ```Z``` = Cierra el trazo.\n",
    "\n",
    "**Nota:**\n",
    "\n",
    "Cuando las letras se escriben en mayúsculas, indican coordenadas absolutas y cuando se escirben en minúsculas, indican coordenadas relativas.\n",
    "\n",
    "Para mayor información es posible consultar:\n",
    "\n",
    "https://developer.mozilla.org/es-EL/docs/Web/SVG/Tutorial/Paths"
   ]
  },
  {
   "cell_type": "markdown",
   "metadata": {},
   "source": [
    "**Ejemplo:**\n",
    "* Se creará un elemento *SVG* de ```200x100``` pixeles.\n",
    "* Se posicionará el puntero en la coordenada ```(20,20)```.\n",
    "* Se trazará una línea a la coordenada ```(100,45)```.\n",
    "* Se trazará una curva cúbica de *Bézier* con:\n",
    "    * Un punto de control a ```50``` pixeles a la derecha y ```10``` pixeles abajo de la coordenada ```(100,45)```.\n",
    "    * Un punto de control a ```50``` pixeles a la derecha y ```40``` pixeles abajo de la coordenada ```(100,45)```.\n",
    "    * El extremo de la curva se localizará ```50``` pixeles debajo de la coordenada ```100,45```.\n",
    "* Se cerrará lel trazo."
   ]
  },
  {
   "cell_type": "code",
   "execution_count": null,
   "metadata": {},
   "outputs": [],
   "source": [
    "%%svg\n",
    "\n",
    "<svg width=\"200px\" height=\"100px\">\n",
    "    <path d=\"M 20 20\n",
    "             L 100 45 \n",
    "             c 50 10 50 40 0 50 \n",
    "             Z\" \n",
    "            stroke=\"black\" fill=\"orange\"/>\n",
    "</svg>\n"
   ]
  },
  {
   "cell_type": "markdown",
   "metadata": {},
   "source": [
    "### Movimiento del puntero dentro del elemento *SVG*.\n",
    "\n",
    "Es posible desplazar el puntero del trazo a una posición específica con el comando ```M``` indicando la coordenada a la que se desplazará.\n",
    "\n",
    "```\n",
    "M x y\n",
    "```\n",
    "\n",
    "Donde:\n",
    "\n",
    "* ```x``` correponde a la posición en el eje horizontal del punto de destino.\n",
    "* ```y``` correponde a la posición en el eje horizontal del punto de destino.\n",
    "\n",
    "Este comando no genera ningún trazo y se ilustará en otros ejemplos."
   ]
  },
  {
   "cell_type": "markdown",
   "metadata": {},
   "source": [
    "### Trazo de una línea hacia un punto.\n",
    "\n",
    "El comando ```L``` traza una línea hacia la coordenada a la que se indica.\n",
    "\n",
    "```\n",
    "L x y\n",
    "```\n",
    "\n",
    "Donde:\n",
    "\n",
    "* ```x``` correponde a la posición en el eje horizontal del punto de destino.\n",
    "* ```y``` correponde a la posición en el eje horizontal del punto de destino."
   ]
  },
  {
   "cell_type": "markdown",
   "metadata": {},
   "source": [
    "**Ejemplo:**\n",
    "\n",
    "* Se creará un elemento SVG de 100x100 pixeles.\n",
    "* Se desplazará el puntero al centro (50, 50).\n",
    "* Se trazará una línea 25 unidades a la derecha y 25 hacia abajo a partir del puntero.\n",
    "* Se trazará una línea a la coordenada 100,0."
   ]
  },
  {
   "cell_type": "code",
   "execution_count": null,
   "metadata": {},
   "outputs": [],
   "source": [
    "%%svg\n",
    "\n",
    "<svg width=\"100px\" height=\"100px\">\n",
    "<path d=\"M 50 50 \n",
    "         l 25 25 \n",
    "         L 100 0\" \n",
    "        stroke=\"black\" fill=\"orange\"/>\n",
    "</svg>"
   ]
  },
  {
   "cell_type": "markdown",
   "metadata": {},
   "source": [
    "### Trazo de una línea horizontal.\n",
    "\n",
    "El comando ```H``` traza una línea horizontal de la longitud que se indica.\n",
    "\n",
    "```\n",
    "H x \n",
    "```\n",
    "\n",
    "Donde:\n",
    "\n",
    "* ```x``` correponde a la posición en el eje horizontal del punto de destino."
   ]
  },
  {
   "cell_type": "markdown",
   "metadata": {},
   "source": [
    "### Trazo de una línea vertical.\n",
    "\n",
    "El comando *V* traza una línea hacia la coordenada a la que se indica.\n",
    "\n",
    "```\n",
    "V y \n",
    "```\n",
    "\n",
    "Donde:\n",
    "\n",
    "* *y* correponde a la posición en el eje vertical del punto de destino."
   ]
  },
  {
   "cell_type": "markdown",
   "metadata": {},
   "source": [
    "**Ejemplos:**\n",
    "* Se creará un elemento SVG de 100px por 100px.\n",
    "* Se desplazará el puntero a la posición (10, 10).\n",
    "* Se trazará una línea horizontal hasta la coordenada 90 en el eje de las x.\n",
    "* Se trazará una línea vertical hasta la coordenada 90 en el eje de las y.\n",
    "* Se trazará una línea horizontal hasta la coordenada 10 en el eje de las x."
   ]
  },
  {
   "cell_type": "code",
   "execution_count": null,
   "metadata": {
    "scrolled": false
   },
   "outputs": [],
   "source": [
    "%%svg\n",
    "\n",
    "<svg width=\"100px\" height=\"100px\">\n",
    "    <path d=\"M10 10 \n",
    "             H 90 \n",
    "             V 90 \n",
    "             H 10 \" \n",
    "            stroke=\"black\" fill=\"orange\"/>\n",
    "</svg>"
   ]
  },
  {
   "cell_type": "markdown",
   "metadata": {},
   "source": [
    "* Se creará un elemento SVG de 150x100 pixeles.\n",
    "* Se utilizarán las mismas coordenadas del ejemplo anterior para trazar las líneas, pero ahora  éstas serán coordenadas relativas."
   ]
  },
  {
   "cell_type": "code",
   "execution_count": null,
   "metadata": {},
   "outputs": [],
   "source": [
    "%%svg\n",
    "\n",
    "<svg width=\"150px\" height=\"100px\">\n",
    "    <path d=\"M10 10 \n",
    "             h 90 \n",
    "             v 90 \n",
    "             h 10\" \n",
    "           stroke=\"black\" fill=\"orange\"/>\n",
    "</svg>"
   ]
  },
  {
   "cell_type": "code",
   "execution_count": null,
   "metadata": {},
   "outputs": [],
   "source": [
    "%%svg\n",
    "\n",
    "<svg width=\"150px\" height=\"100px\">\n",
    "    <path d=\"M10 10 \n",
    "             h 90 \n",
    "             v 90 \n",
    "             h -90\" \n",
    "           stroke=\"black\" fill=\"orange\"/>\n",
    "</svg>"
   ]
  },
  {
   "cell_type": "markdown",
   "metadata": {},
   "source": [
    "### Trazo de curvas de Bézier.\n",
    "\n",
    "Las [curvas de Bézier](https://es.wikipedia.org/wiki/Curva_de_B%C3%A9zier) son trazos que unen dos puntos y cuya curvatura está definida por \"puntos de control\".\n",
    "\n",
    "*SVG* implementa las curvas cúbicas y cuadráticas de *Bézier* tanto de 2 puntos de control como de 1 punto de control (suavizadas).\n",
    "\n",
    "Los comandos para cada curva son los siguientes:"
   ]
  },
  {
   "cell_type": "markdown",
   "metadata": {},
   "source": [
    "#### Curva cúbica de Bézier hacia una coordenada (C).\n",
    "\n",
    "Se construye indicando las coordenadas de los 2 puntos de control y al final la coordenada del punto extremo de la curva.\n",
    "\n",
    "```\n",
    "C c1x c1y c2x c2y x y\n",
    "\n",
    "```\n",
    "\n",
    "Donde:\n",
    "\n",
    "* ```c1x``` y ```c1y``` corresponden a la coordenadas del primer punto de control.\n",
    "* ```c2x``` y ```c2y``` corresponden a la coordenadas del segundo punto de control.\n",
    "* ```x``` y ```y``` corresponden a la coordenadas del punto extremo.\n"
   ]
  },
  {
   "cell_type": "markdown",
   "metadata": {},
   "source": [
    "**Ejemplos:**"
   ]
  },
  {
   "cell_type": "markdown",
   "metadata": {},
   "source": [
    "* Se trazará una curva cúbica de Bézier en un elemento *SVG* de ```100x100``` pixeles.\n",
    "* El origen de la curva será el origen.\n",
    "* Los puntos de control correponden a las coordenadas absolutas ` ```(50,70)``` y ```(50,30)```.\n",
    "* El punto extremo estará en ```(0,100)```."
   ]
  },
  {
   "cell_type": "code",
   "execution_count": null,
   "metadata": {},
   "outputs": [],
   "source": [
    "%%svg\n",
    "\n",
    "<svg width=\"100px\" height=\"100px\">\n",
    "    <path d=\"M 0 0 \n",
    "    C 50 70 50 30 0 100 \" \n",
    "    stroke=\"black\" fill=\"orange\"/>\n",
    "</svg>"
   ]
  },
  {
   "cell_type": "code",
   "execution_count": null,
   "metadata": {},
   "outputs": [],
   "source": [
    "%%svg\n",
    "<svg width=\"100px\" height=\"100px\">\n",
    "\n",
    "<!--Trazo de la curva -->\n",
    "<path d=\"M 0 0 C 50 70 50 30 0 100 \" \n",
    "       stroke=\"black\" fill=\"orange\"/>\n",
    "    \n",
    "<!-- Trazo de líneas auxiliares -->\n",
    "<line x1=\"0\" y1=\"0\" \n",
    "      x2=\"50\" y2=\"70\" \n",
    "    stroke=\"blue\" \n",
    "    stroke-dasharray=\"5,4\" />\n",
    "\n",
    "<line x1=\"50\" y1=\"30\" \n",
    "      x2=\"0\" y2=\"100\" \n",
    "    stroke=\"blue\" stroke-dasharray=\"5,4\" />\n",
    "</svg>"
   ]
  },
  {
   "cell_type": "markdown",
   "metadata": {},
   "source": [
    "* Se trazará una curva cúbica de Bézier en un elemento SVG de 100x100 pixeles.\n",
    "* El origen de la curva será el punto ```(50,0)```.\n",
    "* Los puntos de control correponden a las coordenadas absolutas ```(100,50)``` y ```(0,50)```.\n",
    "* El punto extremo estará en ```(50,100)```."
   ]
  },
  {
   "cell_type": "code",
   "execution_count": null,
   "metadata": {
    "scrolled": false
   },
   "outputs": [],
   "source": [
    "%%svg\n",
    "\n",
    "<svg width=\"100px\" height=\"100px\">\n",
    "<path d=\"M 50 0 C 100 50 0 50 50 100 \" \n",
    "    stroke=\"black\" fill=\"orange\"/>\n",
    "</svg>"
   ]
  },
  {
   "cell_type": "code",
   "execution_count": null,
   "metadata": {},
   "outputs": [],
   "source": [
    "%%svg\n",
    "<svg width=\"100px\" height=\"100px\">\n",
    "\n",
    "<path d=\"M 50 0 C 100 50 0 50 50 100 \" \n",
    "      stroke=\"black\" \n",
    "      fill=\"orange\"/>\n",
    "        \n",
    "<!-- Trazo de líneas auxiliares -->\n",
    "<line x1=\"50\" y1=\"0\" \n",
    "      x2=\"100\" y2=\"50\" \n",
    "    stroke=\"blue\" stroke-dasharray=\"5,4\" />\n",
    "\n",
    "<line x1=\"0\" y1=\"50\" \n",
    "      x2=\"50\" y2=\"100\" \n",
    "    stroke=\"blue\" stroke-dasharray=\"5,4\" />\n",
    "</svg>"
   ]
  },
  {
   "cell_type": "markdown",
   "metadata": {},
   "source": [
    "#### Curva cúbica de Bézier suavizada hacia una coordenada (S).\n",
    "\n",
    "En este caso, se utiliza un solo punto de control y el segundo punto se calcula como simétrico al primero.\n",
    "\n",
    "Se construye indicando la coordenada del punto de control y al final la coordenada del punto extremo de la curva.\n",
    "\n",
    "```\n",
    "S cx cy x y\n",
    "\n",
    "```\n",
    "\n",
    "Donde:\n",
    "\n",
    "* ```cx``` y ```cy``` corresponden a la coordenadas delpunto de control.\n",
    "* ```x``` y ```y``` corresponden a la coordenadas del punto extremo.\n"
   ]
  },
  {
   "cell_type": "markdown",
   "metadata": {},
   "source": [
    "**Ejemplos:**"
   ]
  },
  {
   "cell_type": "markdown",
   "metadata": {},
   "source": [
    "* Se trazará una curva cúbica de Bézier suavizada en un elemento *SVG* de ```100x100``` pixeles.\n",
    "* El origen de la curva será el punto ```(50,0)```.\n",
    "* El punto de control correponden a las coordenadas absolutas ```(160,30)```.\n",
    "* El punto extremo estará en ```(50,100)```."
   ]
  },
  {
   "cell_type": "code",
   "execution_count": null,
   "metadata": {},
   "outputs": [],
   "source": [
    "%%svg\n",
    "\n",
    "<svg width=\"100px\" height=\"100px\">\n",
    "    <path d=\"M 50 0 S 160 30 50 100 \" \n",
    "    stroke=\"black\" fill=\"orange\"/>\n",
    "</svg>"
   ]
  },
  {
   "cell_type": "code",
   "execution_count": null,
   "metadata": {},
   "outputs": [],
   "source": [
    "%%svg\n",
    "<svg width=\"200px\" height=\"100px\">\n",
    "<path d=\"M 50 0 S 160 30 50 100 \" \n",
    "    stroke=\"black\" fill=\"orange\"/>\n",
    "\n",
    "<!-- Trazo de línea auxiliar -->\n",
    "<line x1=\"50\" y1=\"0\" \n",
    "      x2=\"160\" y2=\"30\" \n",
    "    stroke=\"blue\" stroke-dasharray=\"5,4\" />\n",
    "</svg>"
   ]
  },
  {
   "cell_type": "markdown",
   "metadata": {},
   "source": [
    "###  Curva cuadrática de Bézier hacia una coordenada (Q).\n",
    "\n",
    "Esta curva se genera a partir de un sólo punto de control.\n",
    "\n",
    "Se construye indicando las coordenadas del punto de control y al final la coordenada del punto extremo de la curva.\n",
    "\n",
    "```\n",
    "Q cx cy x y\n",
    "\n",
    "```\n",
    "\n",
    "Donde:\n",
    "\n",
    "* ```cx``` y ```cy``` corresponden a la coordenadas delpunto de control.\n",
    "* ```x``` y ```y``` corresponden a la coordenadas del punto extremo.\n"
   ]
  },
  {
   "cell_type": "markdown",
   "metadata": {},
   "source": [
    "**Ejemplo:**"
   ]
  },
  {
   "cell_type": "markdown",
   "metadata": {},
   "source": [
    "* Se trazará una curva cuadrática de Bézier en un elemento SVG de 100x100 pixeles.\n",
    "* El origen de la curva será el punto 10,50.\n",
    "* El punto de control corresponden a las coordenadas absolutas 50,70.\n",
    "* El punto extremo estará en 0,100."
   ]
  },
  {
   "cell_type": "code",
   "execution_count": null,
   "metadata": {},
   "outputs": [],
   "source": [
    "%%svg\n",
    "\n",
    "<svg width=\"100px\" height=\"100px\">\n",
    "    <path d=\"M 0 0 Q 50 70 0 100 \" stroke=\"black\" fill=\"orange\"/>\n",
    "</svg>"
   ]
  },
  {
   "cell_type": "code",
   "execution_count": null,
   "metadata": {},
   "outputs": [],
   "source": [
    "%%svg\n",
    "<svg width=\"100px\" height=\"100px\">\n",
    "    <path d=\"M 0 0 Q 50 70 0 100 \" stroke=\"black\" fill=\"orange\"/>\n",
    "    <line x1=\"0\" y1=\"0\" x2=\"50\" y2=\"70\" stroke=\"blue\" stroke-dasharray=\"5,4\" />\n",
    "    <line x1=\"0\" y1=\"100\" x2=\"50\" y2=\"70\" stroke=\"blue\" stroke-dasharray=\"5,4\" />\n",
    "</svg>"
   ]
  },
  {
   "cell_type": "markdown",
   "metadata": {},
   "source": [
    "###  Curva cuadrática de Bézier calculada hacia una coordenada (T).\n",
    "\n",
    "Esta curva calcula el punto de control a partir de de una curva cuadrática previa.\n",
    "\n",
    "Se construye indicando las coordenadas del punto extremo de la curva.\n",
    "\n",
    "```\n",
    "T x y\n",
    "\n",
    "```\n",
    "\n",
    "Donde:\n",
    "\n",
    "* _x_ y *y* corresponden a la coordenadas del punto extremo.\n",
    "\n",
    "**Nota:**\n",
    "Siempre debe de definirse una curva Q previamente."
   ]
  },
  {
   "cell_type": "markdown",
   "metadata": {},
   "source": [
    "**Ejemplo:**\n",
    "\n",
    "* Se trazará una curva cuadrática de Bézier en un elemento *SVG* de ```100x200``` pixeles.\n",
    "* El origen de la curva será el punto ```(100,0)```.\n",
    "* El punto de control corresponden a las coordenadas absolutas ```(150,70)```.\n",
    "* El punto extremo estará en ```(100,100)```.\n",
    "* Se trazará una nueva curva cuadrática calculando el punto de control en el extremo ```(100 200)```."
   ]
  },
  {
   "cell_type": "code",
   "execution_count": null,
   "metadata": {
    "scrolled": true
   },
   "outputs": [],
   "source": [
    "%%svg\n",
    "\n",
    "<svg width=\"200px\" height=\"200px\">\n",
    "    <path d=\"M 100 0 \n",
    "             Q 150 70 100 100 \n",
    "             T 100 200\" \n",
    "        stroke=\"black\" fill=\"orange\"/>\n",
    "</svg>"
   ]
  },
  {
   "cell_type": "code",
   "execution_count": null,
   "metadata": {},
   "outputs": [],
   "source": [
    "%%svg\n",
    "<svg width=\"200px\" height=\"200px\">\n",
    "<path d=\"M 100 0 \n",
    "         Q 150 70 100 100 \n",
    "         T 100 200\" \n",
    "        stroke=\"black\" fill=\"orange\"/>\n",
    "        \n",
    "<!-- Trazo de las líneas auxiliares -->        \n",
    "    <line x1=\"100\" y1=\"0\" \n",
    "          x2=\"150\" y2=\"70\" \n",
    "        stroke=\"blue\" stroke-dasharray=\"5,4\" />\n",
    "    <line x1=\"100\" y1=\"100\" \n",
    "          x2=\"150\" y2=\"70\" \n",
    "        stroke=\"blue\" stroke-dasharray=\"5,4\" />\n",
    "</svg>"
   ]
  },
  {
   "cell_type": "markdown",
   "metadata": {},
   "source": [
    "### Trazo de un arco elíptico (A)."
   ]
  },
  {
   "cell_type": "markdown",
   "metadata": {},
   "source": [
    "Un arco elíptico despliega una sección de una elipse delimitada por 2 puntos extremos.\n",
    "\n",
    "La construcción de un arco elíptico inicia en el punto donde se encuentra el puntero y los datos que se debe incluir son los siguientes.\n",
    "\n",
    "En el caso del arco largo. \n",
    "\n",
    "```\n",
    "A (rx) (ry) (rotacion) (arco_largo) (barrido) x y\n",
    "```\n",
    "\n",
    "Donde: \n",
    "\n",
    "* ```(rx)``` es el radio en el eje de las x.\n",
    "* ```(ry)``` es el radio en el eje de las y\n",
    "* ```(rotacion)``` es el ángulo en grados en el que puede rotar la elipse.\n",
    "* ```(arco_largo)``` es un valor entero entre ```0``` y ```1``` indicando si la sección de la elipse a desplegar es la más corta ```(0)``` o la más larga ```(1)```.\n",
    "* ```(barrido)``` es un valor entero entre ```0``` y ```1``` indicando si la dirección de la construcción de la elipse es en sentido contrario a las manecillas del reloj ```(0)``` o en sentido a las manecillas del reloj ```(1)```."
   ]
  },
  {
   "cell_type": "markdown",
   "metadata": {},
   "source": [
    "**Ejemplo:**\n",
    "\n",
    "Es posible trazar cuatro arcos elípticos que interesecten 2 puntos en el plano x,y.\n",
    "\n",
    "A continuación se desplegarán las 4 opciones de los arcos que pasan por los puntos ```(75, 100)``` y ```(100,145)```. "
   ]
  },
  {
   "cell_type": "code",
   "execution_count": null,
   "metadata": {},
   "outputs": [],
   "source": [
    "%%svg\n",
    "<svg width=\"200px\" height=\"200px\">\n",
    "    <ellipse cx=\"100\" cy=\"100\" rx=\"25\" ry=\"45\" fill=\"orange\"/>\n",
    "</svg>"
   ]
  },
  {
   "cell_type": "markdown",
   "metadata": {},
   "source": [
    "* En este caso se creará un arco corto construido en sentido contrario a las manecillas del reloj."
   ]
  },
  {
   "cell_type": "code",
   "execution_count": null,
   "metadata": {},
   "outputs": [],
   "source": [
    "%%svg\n",
    "<svg width=\"200px\" height=\"200px\">\n",
    "    <path d=\"M 75 100 \n",
    "          A 25 45 0 0 0 100 145\" \n",
    "          fill=\"orange\"/>\n",
    "</svg>"
   ]
  },
  {
   "cell_type": "code",
   "execution_count": null,
   "metadata": {
    "scrolled": true
   },
   "outputs": [],
   "source": [
    "%%svg\n",
    "<svg width=\"200px\" height=\"200px\">\n",
    "\n",
    "    <line x1=\"3\" y1=\"3\" x2=\"200\" y2=\"3\" stroke=\"black\" />    \n",
    "    <path d=\"M 200 3 L 194 7 L 194 0 \" fill=\"black\" />\n",
    "    <text x=\"190\" y=\"15\">x</text>\n",
    "    \n",
    "\n",
    "    <line x1=\"3\" y1=\"3\" x2=\"3\" y2=\"200\" stroke=\"black\" />\n",
    "    <path d=\"M 3 200 L 7 194 L 0 194\" fill=\"black\" />  \n",
    "    <text x=\"8\" y=\"197\">y</text>\n",
    "\n",
    "\n",
    "    <path d=\"M 75 100 A 25 45 0 0 0 100 145\" stroke=\"blue\" fill=\"orange\"/>\n",
    "    \n",
    "    <ellipse rx=\"25\" ry=\"45\" cx=\"100\" cy=\"100\" fill=\"none\" stroke=\"black\"/>\n",
    "    <line x1=\"21.11\" y1=\"3\" x2=\"130.56\" y2=\"200\" stroke=\"blue\" stroke-dasharray=\"5,4\"/>\n",
    "    <circle cx=\"75\" cy=\"100\" r=\"3\" fill=\"red\" />\n",
    "    <circle cx=\"100\" cy=\"145\" r=\"3\" fill=\"red\" />\n",
    "</svg>"
   ]
  },
  {
   "cell_type": "markdown",
   "metadata": {},
   "source": [
    "* En este caso se creará un arco largo construido en sentido contrario a las manecillas del reloj."
   ]
  },
  {
   "cell_type": "code",
   "execution_count": null,
   "metadata": {},
   "outputs": [],
   "source": [
    "%%svg\n",
    "<svg width=\"200px\" height=\"200px\">\n",
    "    <path d=\"M 75 100 A 25 45 0 1 0 100 145\" fill=\"orange\"/>\n",
    "</svg>    "
   ]
  },
  {
   "cell_type": "code",
   "execution_count": null,
   "metadata": {},
   "outputs": [],
   "source": [
    "%%svg\n",
    "<svg width=\"200px\" height=\"200px\">\n",
    "\n",
    "\n",
    "    <line x1=\"3\" y1=\"3\" x2=\"200\" y2=\"3\" stroke=\"black\" />    \n",
    "    <path d=\"M 200 3 L 194 7 L 194 0 \" fill=\"black\" />\n",
    "    <text x=\"190\" y=\"15\">x</text>\n",
    "    \n",
    "\n",
    "    <line x1=\"3\" y1=\"3\" x2=\"3\" y2=\"200\" stroke=\"black\" />\n",
    "    <path d=\"M 3 200 L 7 194 L 0 194\" fill=\"black\" />  \n",
    "    <text x=\"8\" y=\"197\">y</text>\n",
    "\n",
    "\n",
    "    <path d=\"M 75 100 A 25 45 0 1 0 100 145\" stroke=\"black\" fill=\"orange\"/>\n",
    "    \n",
    "    <ellipse rx=\"25\" ry=\"45\" cx=\"75\" cy=\"145\" fill=\"none\" stroke=\"black\"/>\n",
    "    <line x1=\"21.11\" y1=\"3\" x2=\"130.56\" y2=\"200\" stroke=\"blue\" stroke-dasharray=\"5,4\"/>\n",
    "    <circle cx=\"75\" cy=\"100\" r=\"3\" fill=\"red\" />\n",
    "    <circle cx=\"100\" cy=\"145\" r=\"3\" fill=\"red\" />\n",
    "</svg>"
   ]
  },
  {
   "cell_type": "markdown",
   "metadata": {},
   "source": [
    "* En este caso se creará un arco corto construido en el sentido de las manecillas del reloj."
   ]
  },
  {
   "cell_type": "code",
   "execution_count": null,
   "metadata": {},
   "outputs": [],
   "source": [
    "%%svg\n",
    "<svg width=\"200px\" height=\"200px\">\n",
    "    <path d=\"M 75 100 A 25 45 0 0 1 100 145\" fill=\"orange\"/>\n",
    "</svg>"
   ]
  },
  {
   "cell_type": "code",
   "execution_count": null,
   "metadata": {
    "scrolled": true
   },
   "outputs": [],
   "source": [
    "%%svg\n",
    "<svg width=\"200px\" height=\"200px\">\n",
    "\n",
    "\n",
    "    <line x1=\"3\" y1=\"3\" x2=\"200\" y2=\"3\" stroke=\"black\" />    \n",
    "    <path d=\"M 200 3 L 194 7 L 194 0 \" fill=\"black\" />\n",
    "    <text x=\"190\" y=\"15\">x</text>\n",
    "    \n",
    "\n",
    "    <line x1=\"3\" y1=\"3\" x2=\"3\" y2=\"200\" stroke=\"black\" />\n",
    "    <path d=\"M 3 200 L 7 194 L 0 194\" fill=\"black\" />  \n",
    "    <text x=\"8\" y=\"197\">y</text>\n",
    "\n",
    "    <path d=\"M 75 100 A 25 45 0 0 1 100 145\" stroke=\"blue\" fill=\"orange\"/>\n",
    "\n",
    "    <ellipse rx=\"25\" ry=\"45\" cx=\"75\" cy=\"145\" fill=\"none\" stroke=\"black\"/>\n",
    "    <line x1=\"21.11\" y1=\"3\" x2=\"130.56\" y2=\"200\" stroke=\"blue\" stroke-dasharray=\"5,4\"/>\n",
    "    <circle cx=\"75\" cy=\"100\" r=\"3\" fill=\"red\" />\n",
    "    <circle cx=\"100\" cy=\"145\" r=\"3\" fill=\"red\" />\n",
    "</svg>"
   ]
  },
  {
   "cell_type": "markdown",
   "metadata": {},
   "source": [
    "* En este caso se creará un arco largo construido en el sentido de las manecillas del reloj."
   ]
  },
  {
   "cell_type": "code",
   "execution_count": null,
   "metadata": {},
   "outputs": [],
   "source": [
    "%%svg\n",
    "<svg width=\"200px\" height=\"200px\">\n",
    "    <path d=\"M 75 100 A 25 45 0 1 1 100 145\" fill=\"orange\"/>\n",
    "</svg>"
   ]
  },
  {
   "cell_type": "code",
   "execution_count": null,
   "metadata": {
    "scrolled": false
   },
   "outputs": [],
   "source": [
    "%%svg\n",
    "<svg width=\"200px\" height=\"200px\">\n",
    "\n",
    "\n",
    "    <line x1=\"3\" y1=\"3\" x2=\"200\" y2=\"3\" stroke=\"black\" />    \n",
    "    <path d=\"M 200 3 L 194 7 L 194 0 \" fill=\"black\" />\n",
    "    <text x=\"190\" y=\"15\">x</text>\n",
    "    \n",
    "\n",
    "    <line x1=\"3\" y1=\"3\" x2=\"3\" y2=\"200\" stroke=\"black\" />\n",
    "    <path d=\"M 3 200 L 7 194 L 0 194\" fill=\"black\" />  \n",
    "    <text x=\"8\" y=\"197\">y</text>\n",
    "\n",
    "    <path d=\"M 75 100 A 25 45 0 1 1 100 145\" stroke=\"blue\" fill=\"orange\"/>\n",
    "    \n",
    "    <ellipse rx=\"25\" ry=\"45\" cx=\"100\" cy=\"100\" fill=\"none\" stroke=\"black\"/>\n",
    "    \n",
    "    <line x1=\"21.11\" y1=\"3\" x2=\"130.56\" y2=\"200\" stroke=\"blue\" \n",
    "    stroke-dasharray=\"5,4\"/>\n",
    "    \n",
    "    <circle cx=\"75\" cy=\"100\" r=\"3\" fill=\"red\" />\n",
    "    <circle cx=\"100\" cy=\"145\" r=\"3\" fill=\"red\" />\n",
    "</svg>"
   ]
  },
  {
   "cell_type": "markdown",
   "metadata": {},
   "source": [
    "<p style=\"text-align: center\"><a rel=\"license\" href=\"http://creativecommons.org/licenses/by/4.0/\"><img alt=\"Licencia Creative Commons\" style=\"border-width:0\" src=\"https://i.creativecommons.org/l/by/4.0/80x15.png\" /></a><br />Esta obra está bajo una <a rel=\"license\" href=\"http://creativecommons.org/licenses/by/4.0/\">Licencia Creative Commons Atribución 4.0 Internacional</a>.</p>\n",
    "<p style=\"text-align: center\">&copy; José Luis Chiquete Valdivieso. 2022.</p>"
   ]
  }
 ],
 "metadata": {
  "kernelspec": {
   "display_name": "Python 3 (ipykernel)",
   "language": "python",
   "name": "python3"
  },
  "language_info": {
   "codemirror_mode": {
    "name": "ipython",
    "version": 3
   },
   "file_extension": ".py",
   "mimetype": "text/x-python",
   "name": "python",
   "nbconvert_exporter": "python",
   "pygments_lexer": "ipython3",
   "version": "3.10.4"
  }
 },
 "nbformat": 4,
 "nbformat_minor": 2
}
